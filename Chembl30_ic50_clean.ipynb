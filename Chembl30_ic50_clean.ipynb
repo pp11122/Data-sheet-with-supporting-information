{
 "cells": [
  {
   "cell_type": "code",
   "execution_count": 3,
   "metadata": {},
   "outputs": [],
   "source": [
    "import os\n",
    "import pandas as pd\n",
    "import numpy as np\n",
    "import rdkit\n",
    "from tqdm import tqdm\n",
    "from toolbox import smiles2inchi, smiles_unique,shuffle_train_test\n",
    "# from pandas_profiling import ProfileReport\n",
    "# from biopython import SeqIO\n",
    "lg = rdkit.RDLogger.logger()\n",
    "lg.setLevel(rdkit.RDLogger.CRITICAL)\n",
    "pd.set_option('display.max_columns', None)"
   ]
  },
  {
   "cell_type": "code",
   "execution_count": 4,
   "metadata": {},
   "outputs": [
    {
     "name": "stderr",
     "output_type": "stream",
     "text": [
      "b'Skipping line 13069947: expected 28 fields, saw 37\\nSkipping line 13069948: expected 28 fields, saw 37\\nSkipping line 13069949: expected 28 fields, saw 37\\nSkipping line 13069950: expected 28 fields, saw 37\\nSkipping line 13069951: expected 28 fields, saw 37\\nSkipping line 13069952: expected 28 fields, saw 37\\nSkipping line 13069953: expected 28 fields, saw 37\\nSkipping line 13069954: expected 28 fields, saw 37\\nSkipping line 13069955: expected 28 fields, saw 37\\nSkipping line 13069956: expected 28 fields, saw 37\\nSkipping line 13069957: expected 28 fields, saw 37\\nSkipping line 13069958: expected 28 fields, saw 37\\nSkipping line 13069959: expected 28 fields, saw 37\\nSkipping line 13069960: expected 28 fields, saw 37\\nSkipping line 13069961: expected 28 fields, saw 37\\nSkipping line 13069962: expected 28 fields, saw 37\\nSkipping line 13069963: expected 28 fields, saw 37\\nSkipping line 13069964: expected 28 fields, saw 37\\nSkipping line 13069965: expected 28 fields, saw 37\\nSkipping line 13069966: expected 28 fields, saw 37\\nSkipping line 13069967: expected 28 fields, saw 37\\nSkipping line 13069968: expected 28 fields, saw 37\\nSkipping line 13069969: expected 28 fields, saw 37\\nSkipping line 13069970: expected 28 fields, saw 37\\nSkipping line 13069971: expected 28 fields, saw 37\\nSkipping line 13069972: expected 28 fields, saw 37\\nSkipping line 13069973: expected 28 fields, saw 37\\nSkipping line 13069974: expected 28 fields, saw 37\\nSkipping line 13069975: expected 28 fields, saw 37\\nSkipping line 13069976: expected 28 fields, saw 37\\nSkipping line 13069977: expected 28 fields, saw 37\\nSkipping line 13069978: expected 28 fields, saw 37\\nSkipping line 13069979: expected 28 fields, saw 37\\nSkipping line 13069980: expected 28 fields, saw 37\\nSkipping line 13069981: expected 28 fields, saw 37\\nSkipping line 13069982: expected 28 fields, saw 37\\nSkipping line 13069983: expected 28 fields, saw 37\\nSkipping line 13069984: expected 28 fields, saw 37\\nSkipping line 13069985: expected 28 fields, saw 37\\nSkipping line 13069986: expected 28 fields, saw 37\\nSkipping line 13069987: expected 28 fields, saw 37\\nSkipping line 13069988: expected 28 fields, saw 37\\nSkipping line 13069989: expected 28 fields, saw 37\\nSkipping line 13069990: expected 28 fields, saw 37\\nSkipping line 13069991: expected 28 fields, saw 37\\nSkipping line 13069992: expected 28 fields, saw 37\\nSkipping line 13069993: expected 28 fields, saw 37\\nSkipping line 13069994: expected 28 fields, saw 37\\nSkipping line 13069995: expected 28 fields, saw 37\\nSkipping line 13069996: expected 28 fields, saw 37\\nSkipping line 13069997: expected 28 fields, saw 37\\nSkipping line 13069998: expected 28 fields, saw 37\\nSkipping line 13069999: expected 28 fields, saw 37\\nSkipping line 13070000: expected 28 fields, saw 37\\nSkipping line 13070001: expected 28 fields, saw 37\\nSkipping line 13070002: expected 28 fields, saw 37\\nSkipping line 13070003: expected 28 fields, saw 37\\nSkipping line 13070004: expected 28 fields, saw 37\\nSkipping line 13070005: expected 28 fields, saw 37\\n'\n",
      "b'Skipping line 13086045: expected 28 fields, saw 44\\nSkipping line 13086046: expected 28 fields, saw 44\\nSkipping line 13086047: expected 28 fields, saw 44\\nSkipping line 13086048: expected 28 fields, saw 44\\nSkipping line 13086049: expected 28 fields, saw 44\\nSkipping line 13086050: expected 28 fields, saw 44\\nSkipping line 13086051: expected 28 fields, saw 44\\nSkipping line 13086052: expected 28 fields, saw 44\\nSkipping line 13086053: expected 28 fields, saw 44\\nSkipping line 13086054: expected 28 fields, saw 44\\nSkipping line 13086055: expected 28 fields, saw 44\\nSkipping line 13086056: expected 28 fields, saw 44\\nSkipping line 13086057: expected 28 fields, saw 44\\nSkipping line 13086058: expected 28 fields, saw 44\\nSkipping line 13086059: expected 28 fields, saw 44\\nSkipping line 13086060: expected 28 fields, saw 44\\nSkipping line 13086061: expected 28 fields, saw 44\\nSkipping line 13086062: expected 28 fields, saw 44\\nSkipping line 13086063: expected 28 fields, saw 44\\nSkipping line 13086064: expected 28 fields, saw 44\\nSkipping line 13086065: expected 28 fields, saw 44\\nSkipping line 13086066: expected 28 fields, saw 44\\nSkipping line 13086067: expected 28 fields, saw 44\\nSkipping line 13086068: expected 28 fields, saw 44\\nSkipping line 13086069: expected 28 fields, saw 44\\nSkipping line 13086070: expected 28 fields, saw 44\\nSkipping line 13086071: expected 28 fields, saw 44\\nSkipping line 13086072: expected 28 fields, saw 44\\nSkipping line 13086073: expected 28 fields, saw 44\\nSkipping line 13086074: expected 28 fields, saw 44\\nSkipping line 13086075: expected 28 fields, saw 44\\nSkipping line 13086076: expected 28 fields, saw 44\\nSkipping line 13086077: expected 28 fields, saw 44\\nSkipping line 13089359: expected 28 fields, saw 31\\nSkipping line 13089360: expected 28 fields, saw 31\\nSkipping line 13089361: expected 28 fields, saw 31\\nSkipping line 13089362: expected 28 fields, saw 31\\nSkipping line 13089363: expected 28 fields, saw 31\\nSkipping line 13092471: expected 28 fields, saw 35\\nSkipping line 13092472: expected 28 fields, saw 35\\nSkipping line 13092473: expected 28 fields, saw 35\\nSkipping line 13092474: expected 28 fields, saw 35\\nSkipping line 13092475: expected 28 fields, saw 35\\nSkipping line 13092476: expected 28 fields, saw 35\\nSkipping line 13092477: expected 28 fields, saw 35\\nSkipping line 13092478: expected 28 fields, saw 35\\nSkipping line 13092479: expected 28 fields, saw 35\\nSkipping line 13093667: expected 28 fields, saw 34\\nSkipping line 13093668: expected 28 fields, saw 34\\nSkipping line 13093669: expected 28 fields, saw 34\\nSkipping line 13093670: expected 28 fields, saw 34\\nSkipping line 13093671: expected 28 fields, saw 34\\nSkipping line 13093672: expected 28 fields, saw 34\\nSkipping line 13093673: expected 28 fields, saw 34\\nSkipping line 13093674: expected 28 fields, saw 34\\nSkipping line 13095593: expected 28 fields, saw 38\\nSkipping line 13095594: expected 28 fields, saw 38\\nSkipping line 13095595: expected 28 fields, saw 38\\nSkipping line 13095596: expected 28 fields, saw 38\\nSkipping line 13095597: expected 28 fields, saw 38\\nSkipping line 13095598: expected 28 fields, saw 38\\nSkipping line 13095599: expected 28 fields, saw 38\\nSkipping line 13095600: expected 28 fields, saw 38\\nSkipping line 13095601: expected 28 fields, saw 38\\nSkipping line 13095602: expected 28 fields, saw 38\\nSkipping line 13095603: expected 28 fields, saw 38\\nSkipping line 13095604: expected 28 fields, saw 38\\nSkipping line 13095605: expected 28 fields, saw 38\\nSkipping line 13095606: expected 28 fields, saw 38\\nSkipping line 13095607: expected 28 fields, saw 38\\nSkipping line 13095608: expected 28 fields, saw 38\\nSkipping line 13095609: expected 28 fields, saw 38\\nSkipping line 13095610: expected 28 fields, saw 38\\nSkipping line 13095611: expected 28 fields, saw 38\\nSkipping line 13095612: expected 28 fields, saw 38\\nSkipping line 13095613: expected 28 fields, saw 38\\nSkipping line 13095614: expected 28 fields, saw 38\\nSkipping line 13095615: expected 28 fields, saw 38\\nSkipping line 13095616: expected 28 fields, saw 38\\nSkipping line 13095617: expected 28 fields, saw 38\\nSkipping line 13095618: expected 28 fields, saw 38\\nSkipping line 13095619: expected 28 fields, saw 38\\nSkipping line 13095620: expected 28 fields, saw 38\\n'\n",
      "b'Skipping line 13112361: expected 28 fields, saw 31\\nSkipping line 13112362: expected 28 fields, saw 31\\nSkipping line 13112363: expected 28 fields, saw 31\\nSkipping line 13112364: expected 28 fields, saw 31\\nSkipping line 13112365: expected 28 fields, saw 31\\nSkipping line 13112366: expected 28 fields, saw 31\\nSkipping line 13112367: expected 28 fields, saw 31\\nSkipping line 13112368: expected 28 fields, saw 31\\nSkipping line 13112369: expected 28 fields, saw 31\\nSkipping line 13112370: expected 28 fields, saw 31\\nSkipping line 13112371: expected 28 fields, saw 31\\nSkipping line 13112372: expected 28 fields, saw 31\\nSkipping line 13112373: expected 28 fields, saw 31\\nSkipping line 13112374: expected 28 fields, saw 31\\nSkipping line 13112375: expected 28 fields, saw 31\\nSkipping line 13112376: expected 28 fields, saw 31\\nSkipping line 13112377: expected 28 fields, saw 31\\nSkipping line 13112378: expected 28 fields, saw 31\\nSkipping line 13112379: expected 28 fields, saw 31\\nSkipping line 13112380: expected 28 fields, saw 31\\nSkipping line 13112381: expected 28 fields, saw 31\\nSkipping line 13112382: expected 28 fields, saw 31\\nSkipping line 13112383: expected 28 fields, saw 31\\nSkipping line 13112384: expected 28 fields, saw 31\\nSkipping line 13112385: expected 28 fields, saw 31\\nSkipping line 13112386: expected 28 fields, saw 31\\nSkipping line 13112387: expected 28 fields, saw 31\\nSkipping line 13112388: expected 28 fields, saw 31\\nSkipping line 13112389: expected 28 fields, saw 31\\nSkipping line 13112390: expected 28 fields, saw 31\\nSkipping line 13112391: expected 28 fields, saw 31\\nSkipping line 13112392: expected 28 fields, saw 31\\nSkipping line 13112393: expected 28 fields, saw 31\\nSkipping line 13112394: expected 28 fields, saw 31\\nSkipping line 13112395: expected 28 fields, saw 31\\nSkipping line 13112396: expected 28 fields, saw 31\\nSkipping line 13112397: expected 28 fields, saw 31\\nSkipping line 13112398: expected 28 fields, saw 31\\nSkipping line 13112399: expected 28 fields, saw 31\\nSkipping line 13112400: expected 28 fields, saw 31\\nSkipping line 13112401: expected 28 fields, saw 31\\nSkipping line 13112402: expected 28 fields, saw 31\\nSkipping line 13112403: expected 28 fields, saw 31\\nSkipping line 13112404: expected 28 fields, saw 31\\nSkipping line 13112405: expected 28 fields, saw 31\\nSkipping line 13112406: expected 28 fields, saw 31\\nSkipping line 13112407: expected 28 fields, saw 31\\nSkipping line 13112408: expected 28 fields, saw 31\\nSkipping line 13112409: expected 28 fields, saw 31\\nSkipping line 13112410: expected 28 fields, saw 31\\nSkipping line 13112411: expected 28 fields, saw 31\\nSkipping line 13112412: expected 28 fields, saw 31\\nSkipping line 13112413: expected 28 fields, saw 31\\nSkipping line 13117120: expected 28 fields, saw 44\\nSkipping line 13117121: expected 28 fields, saw 44\\nSkipping line 13117122: expected 28 fields, saw 44\\nSkipping line 13117123: expected 28 fields, saw 44\\nSkipping line 13117124: expected 28 fields, saw 44\\nSkipping line 13117125: expected 28 fields, saw 44\\nSkipping line 13117126: expected 28 fields, saw 44\\nSkipping line 13117127: expected 28 fields, saw 44\\nSkipping line 13117128: expected 28 fields, saw 44\\nSkipping line 13117129: expected 28 fields, saw 44\\nSkipping line 13117130: expected 28 fields, saw 44\\nSkipping line 13117131: expected 28 fields, saw 44\\nSkipping line 13117132: expected 28 fields, saw 44\\nSkipping line 13117133: expected 28 fields, saw 44\\nSkipping line 13117134: expected 28 fields, saw 44\\nSkipping line 13117135: expected 28 fields, saw 44\\nSkipping line 13117136: expected 28 fields, saw 44\\nSkipping line 13117137: expected 28 fields, saw 44\\nSkipping line 13117138: expected 28 fields, saw 44\\nSkipping line 13117139: expected 28 fields, saw 44\\nSkipping line 13117140: expected 28 fields, saw 44\\nSkipping line 13117141: expected 28 fields, saw 44\\nSkipping line 13117142: expected 28 fields, saw 44\\nSkipping line 13117143: expected 28 fields, saw 44\\nSkipping line 13117144: expected 28 fields, saw 44\\nSkipping line 13117145: expected 28 fields, saw 44\\nSkipping line 13117146: expected 28 fields, saw 44\\nSkipping line 13117147: expected 28 fields, saw 44\\nSkipping line 13117148: expected 28 fields, saw 44\\nSkipping line 13117149: expected 28 fields, saw 44\\nSkipping line 13117150: expected 28 fields, saw 44\\nSkipping line 13117151: expected 28 fields, saw 44\\nSkipping line 13117152: expected 28 fields, saw 44\\nSkipping line 13117290: expected 28 fields, saw 31\\nSkipping line 13117291: expected 28 fields, saw 31\\nSkipping line 13117292: expected 28 fields, saw 31\\nSkipping line 13117293: expected 28 fields, saw 31\\nSkipping line 13117294: expected 28 fields, saw 31\\nSkipping line 13117295: expected 28 fields, saw 31\\nSkipping line 13117296: expected 28 fields, saw 31\\nSkipping line 13117297: expected 28 fields, saw 31\\nSkipping line 13117298: expected 28 fields, saw 31\\nSkipping line 13117299: expected 28 fields, saw 31\\nSkipping line 13117300: expected 28 fields, saw 31\\nSkipping line 13117301: expected 28 fields, saw 31\\nSkipping line 13117302: expected 28 fields, saw 31\\n'\n",
      "b'Skipping line 14032638: expected 28 fields, saw 30\\nSkipping line 14032639: expected 28 fields, saw 30\\nSkipping line 14032640: expected 28 fields, saw 30\\nSkipping line 14032641: expected 28 fields, saw 30\\nSkipping line 14032642: expected 28 fields, saw 30\\nSkipping line 14032643: expected 28 fields, saw 30\\nSkipping line 14032644: expected 28 fields, saw 30\\nSkipping line 14032645: expected 28 fields, saw 30\\nSkipping line 14032646: expected 28 fields, saw 30\\nSkipping line 14032647: expected 28 fields, saw 30\\nSkipping line 14032648: expected 28 fields, saw 30\\nSkipping line 14037086: expected 28 fields, saw 36\\nSkipping line 14037087: expected 28 fields, saw 36\\nSkipping line 14037088: expected 28 fields, saw 36\\nSkipping line 14037089: expected 28 fields, saw 36\\nSkipping line 14037090: expected 28 fields, saw 36\\nSkipping line 14037091: expected 28 fields, saw 36\\nSkipping line 14037092: expected 28 fields, saw 36\\nSkipping line 14037093: expected 28 fields, saw 36\\nSkipping line 14037094: expected 28 fields, saw 36\\nSkipping line 14037095: expected 28 fields, saw 36\\nSkipping line 14037096: expected 28 fields, saw 36\\nSkipping line 14037097: expected 28 fields, saw 36\\nSkipping line 14037098: expected 28 fields, saw 36\\nSkipping line 14037099: expected 28 fields, saw 36\\nSkipping line 14037100: expected 28 fields, saw 36\\nSkipping line 14037101: expected 28 fields, saw 36\\nSkipping line 14037102: expected 28 fields, saw 36\\nSkipping line 14037103: expected 28 fields, saw 36\\nSkipping line 14037104: expected 28 fields, saw 36\\nSkipping line 14037105: expected 28 fields, saw 36\\nSkipping line 14037106: expected 28 fields, saw 36\\nSkipping line 14037107: expected 28 fields, saw 36\\nSkipping line 14037108: expected 28 fields, saw 36\\nSkipping line 14037109: expected 28 fields, saw 36\\nSkipping line 14037110: expected 28 fields, saw 36\\nSkipping line 14037111: expected 28 fields, saw 36\\nSkipping line 14037112: expected 28 fields, saw 36\\nSkipping line 14037113: expected 28 fields, saw 36\\nSkipping line 14037114: expected 28 fields, saw 36\\nSkipping line 14037115: expected 28 fields, saw 36\\nSkipping line 14037116: expected 28 fields, saw 36\\nSkipping line 14037117: expected 28 fields, saw 36\\nSkipping line 14037118: expected 28 fields, saw 36\\nSkipping line 14037119: expected 28 fields, saw 36\\nSkipping line 14037120: expected 28 fields, saw 36\\nSkipping line 14037121: expected 28 fields, saw 36\\nSkipping line 14037122: expected 28 fields, saw 36\\nSkipping line 14037123: expected 28 fields, saw 36\\nSkipping line 14037124: expected 28 fields, saw 36\\nSkipping line 14037125: expected 28 fields, saw 36\\nSkipping line 14037126: expected 28 fields, saw 36\\nSkipping line 14037127: expected 28 fields, saw 36\\nSkipping line 14037128: expected 28 fields, saw 36\\nSkipping line 14037129: expected 28 fields, saw 36\\nSkipping line 14037130: expected 28 fields, saw 36\\nSkipping line 14037131: expected 28 fields, saw 36\\nSkipping line 14037132: expected 28 fields, saw 36\\nSkipping line 14037133: expected 28 fields, saw 36\\nSkipping line 14037134: expected 28 fields, saw 36\\nSkipping line 14037135: expected 28 fields, saw 36\\nSkipping line 14037136: expected 28 fields, saw 36\\nSkipping line 14037137: expected 28 fields, saw 36\\nSkipping line 14037138: expected 28 fields, saw 36\\nSkipping line 14037139: expected 28 fields, saw 36\\nSkipping line 14037140: expected 28 fields, saw 36\\nSkipping line 14037141: expected 28 fields, saw 36\\nSkipping line 14037142: expected 28 fields, saw 36\\nSkipping line 14037143: expected 28 fields, saw 36\\nSkipping line 14037144: expected 28 fields, saw 36\\nSkipping line 14037145: expected 28 fields, saw 36\\nSkipping line 14037146: expected 28 fields, saw 36\\nSkipping line 14037147: expected 28 fields, saw 36\\nSkipping line 14037148: expected 28 fields, saw 36\\nSkipping line 14037149: expected 28 fields, saw 36\\nSkipping line 14037150: expected 28 fields, saw 36\\nSkipping line 14037151: expected 28 fields, saw 36\\nSkipping line 14037152: expected 28 fields, saw 36\\nSkipping line 14037153: expected 28 fields, saw 36\\nSkipping line 14037154: expected 28 fields, saw 36\\nSkipping line 14037155: expected 28 fields, saw 36\\nSkipping line 14037156: expected 28 fields, saw 36\\nSkipping line 14037157: expected 28 fields, saw 36\\nSkipping line 14037158: expected 28 fields, saw 36\\nSkipping line 14037159: expected 28 fields, saw 36\\nSkipping line 14037160: expected 28 fields, saw 36\\nSkipping line 14037161: expected 28 fields, saw 36\\nSkipping line 14037162: expected 28 fields, saw 36\\nSkipping line 14037163: expected 28 fields, saw 36\\nSkipping line 14037164: expected 28 fields, saw 36\\nSkipping line 14037165: expected 28 fields, saw 36\\nSkipping line 14037166: expected 28 fields, saw 36\\nSkipping line 14037167: expected 28 fields, saw 36\\nSkipping line 14037168: expected 28 fields, saw 36\\nSkipping line 14037169: expected 28 fields, saw 36\\nSkipping line 14037170: expected 28 fields, saw 36\\nSkipping line 14037171: expected 28 fields, saw 36\\nSkipping line 14037172: expected 28 fields, saw 36\\nSkipping line 14037173: expected 28 fields, saw 36\\nSkipping line 14037174: expected 28 fields, saw 36\\nSkipping line 14037175: expected 28 fields, saw 36\\nSkipping line 14037176: expected 28 fields, saw 36\\nSkipping line 14037177: expected 28 fields, saw 36\\nSkipping line 14037178: expected 28 fields, saw 36\\nSkipping line 14037179: expected 28 fields, saw 36\\nSkipping line 14037180: expected 28 fields, saw 36\\nSkipping line 14037181: expected 28 fields, saw 36\\nSkipping line 14037182: expected 28 fields, saw 36\\nSkipping line 14037183: expected 28 fields, saw 36\\nSkipping line 14037184: expected 28 fields, saw 36\\nSkipping line 14037185: expected 28 fields, saw 36\\nSkipping line 14037186: expected 28 fields, saw 36\\nSkipping line 14037187: expected 28 fields, saw 36\\nSkipping line 14037188: expected 28 fields, saw 36\\nSkipping line 14037189: expected 28 fields, saw 36\\nSkipping line 14037190: expected 28 fields, saw 36\\nSkipping line 14037191: expected 28 fields, saw 36\\nSkipping line 14037192: expected 28 fields, saw 36\\nSkipping line 14037193: expected 28 fields, saw 36\\nSkipping line 14037194: expected 28 fields, saw 36\\nSkipping line 14037195: expected 28 fields, saw 36\\nSkipping line 14037196: expected 28 fields, saw 36\\nSkipping line 14037197: expected 28 fields, saw 36\\nSkipping line 14037198: expected 28 fields, saw 36\\nSkipping line 14037199: expected 28 fields, saw 36\\nSkipping line 14037200: expected 28 fields, saw 36\\nSkipping line 14037201: expected 28 fields, saw 36\\nSkipping line 14037202: expected 28 fields, saw 36\\nSkipping line 14037203: expected 28 fields, saw 36\\nSkipping line 14037204: expected 28 fields, saw 36\\nSkipping line 14037205: expected 28 fields, saw 36\\nSkipping line 14037206: expected 28 fields, saw 36\\nSkipping line 14037207: expected 28 fields, saw 36\\nSkipping line 14037208: expected 28 fields, saw 36\\nSkipping line 14037209: expected 28 fields, saw 36\\nSkipping line 14037210: expected 28 fields, saw 36\\nSkipping line 14037211: expected 28 fields, saw 36\\nSkipping line 14037212: expected 28 fields, saw 36\\nSkipping line 14037213: expected 28 fields, saw 36\\nSkipping line 14037214: expected 28 fields, saw 36\\nSkipping line 14037215: expected 28 fields, saw 36\\nSkipping line 14037216: expected 28 fields, saw 36\\nSkipping line 14037217: expected 28 fields, saw 36\\nSkipping line 14037218: expected 28 fields, saw 36\\nSkipping line 14037219: expected 28 fields, saw 36\\nSkipping line 14037220: expected 28 fields, saw 36\\nSkipping line 14037221: expected 28 fields, saw 36\\nSkipping line 14037222: expected 28 fields, saw 36\\nSkipping line 14037223: expected 28 fields, saw 36\\nSkipping line 14037224: expected 28 fields, saw 36\\nSkipping line 14037225: expected 28 fields, saw 36\\nSkipping line 14037226: expected 28 fields, saw 36\\nSkipping line 14037227: expected 28 fields, saw 36\\nSkipping line 14037228: expected 28 fields, saw 36\\nSkipping line 14037229: expected 28 fields, saw 36\\nSkipping line 14037230: expected 28 fields, saw 36\\nSkipping line 14037231: expected 28 fields, saw 36\\nSkipping line 14037232: expected 28 fields, saw 36\\nSkipping line 14037233: expected 28 fields, saw 36\\nSkipping line 14037234: expected 28 fields, saw 36\\nSkipping line 14041836: expected 28 fields, saw 33\\nSkipping line 14041837: expected 28 fields, saw 33\\nSkipping line 14041838: expected 28 fields, saw 33\\nSkipping line 14041839: expected 28 fields, saw 33\\nSkipping line 14041840: expected 28 fields, saw 33\\nSkipping line 14041841: expected 28 fields, saw 33\\nSkipping line 14041842: expected 28 fields, saw 33\\nSkipping line 14041843: expected 28 fields, saw 33\\nSkipping line 14041844: expected 28 fields, saw 33\\nSkipping line 14041845: expected 28 fields, saw 33\\nSkipping line 14041846: expected 28 fields, saw 33\\nSkipping line 14041847: expected 28 fields, saw 33\\nSkipping line 14041848: expected 28 fields, saw 33\\nSkipping line 14041849: expected 28 fields, saw 33\\nSkipping line 14041850: expected 28 fields, saw 33\\nSkipping line 14041851: expected 28 fields, saw 33\\nSkipping line 14041852: expected 28 fields, saw 33\\nSkipping line 14041853: expected 28 fields, saw 33\\nSkipping line 14041854: expected 28 fields, saw 33\\nSkipping line 14041855: expected 28 fields, saw 33\\nSkipping line 14041856: expected 28 fields, saw 33\\nSkipping line 14041857: expected 28 fields, saw 33\\nSkipping line 14041858: expected 28 fields, saw 33\\nSkipping line 14041859: expected 28 fields, saw 33\\nSkipping line 14041860: expected 28 fields, saw 33\\nSkipping line 14041861: expected 28 fields, saw 33\\nSkipping line 14041862: expected 28 fields, saw 33\\nSkipping line 14041863: expected 28 fields, saw 33\\nSkipping line 14041864: expected 28 fields, saw 33\\nSkipping line 14041865: expected 28 fields, saw 33\\nSkipping line 14041866: expected 28 fields, saw 33\\nSkipping line 14041867: expected 28 fields, saw 33\\nSkipping line 14041868: expected 28 fields, saw 33\\nSkipping line 14041869: expected 28 fields, saw 33\\nSkipping line 14041870: expected 28 fields, saw 33\\nSkipping line 14041871: expected 28 fields, saw 33\\nSkipping line 14041872: expected 28 fields, saw 33\\nSkipping line 14041873: expected 28 fields, saw 33\\nSkipping line 14041874: expected 28 fields, saw 33\\nSkipping line 14041875: expected 28 fields, saw 33\\nSkipping line 14041876: expected 28 fields, saw 33\\nSkipping line 14041877: expected 28 fields, saw 33\\nSkipping line 14041878: expected 28 fields, saw 33\\nSkipping line 14041879: expected 28 fields, saw 33\\nSkipping line 14041880: expected 28 fields, saw 33\\nSkipping line 14041881: expected 28 fields, saw 33\\nSkipping line 14041882: expected 28 fields, saw 33\\nSkipping line 14043708: expected 28 fields, saw 37\\nSkipping line 14043709: expected 28 fields, saw 37\\nSkipping line 14043710: expected 28 fields, saw 37\\nSkipping line 14043711: expected 28 fields, saw 37\\nSkipping line 14043712: expected 28 fields, saw 37\\nSkipping line 14043713: expected 28 fields, saw 37\\nSkipping line 14043714: expected 28 fields, saw 37\\nSkipping line 14043715: expected 28 fields, saw 37\\nSkipping line 14043716: expected 28 fields, saw 37\\nSkipping line 14043717: expected 28 fields, saw 37\\nSkipping line 14043718: expected 28 fields, saw 37\\nSkipping line 14043719: expected 28 fields, saw 37\\nSkipping line 14043720: expected 28 fields, saw 37\\nSkipping line 14043721: expected 28 fields, saw 37\\nSkipping line 14043722: expected 28 fields, saw 37\\nSkipping line 14043723: expected 28 fields, saw 37\\nSkipping line 14043724: expected 28 fields, saw 37\\nSkipping line 14043725: expected 28 fields, saw 37\\nSkipping line 14043726: expected 28 fields, saw 37\\nSkipping line 14043727: expected 28 fields, saw 37\\nSkipping line 14043728: expected 28 fields, saw 37\\nSkipping line 14043729: expected 28 fields, saw 37\\nSkipping line 14043730: expected 28 fields, saw 37\\nSkipping line 14043731: expected 28 fields, saw 37\\nSkipping line 14043732: expected 28 fields, saw 37\\nSkipping line 14043733: expected 28 fields, saw 37\\nSkipping line 14043734: expected 28 fields, saw 37\\nSkipping line 14043735: expected 28 fields, saw 37\\nSkipping line 14043736: expected 28 fields, saw 37\\nSkipping line 14043737: expected 28 fields, saw 37\\nSkipping line 14043738: expected 28 fields, saw 37\\nSkipping line 14043739: expected 28 fields, saw 37\\nSkipping line 14043740: expected 28 fields, saw 37\\nSkipping line 14043741: expected 28 fields, saw 37\\nSkipping line 14043742: expected 28 fields, saw 37\\nSkipping line 14043743: expected 28 fields, saw 37\\nSkipping line 14043744: expected 28 fields, saw 37\\nSkipping line 14043745: expected 28 fields, saw 37\\nSkipping line 14043746: expected 28 fields, saw 37\\nSkipping line 14043747: expected 28 fields, saw 37\\nSkipping line 14043748: expected 28 fields, saw 37\\nSkipping line 14043749: expected 28 fields, saw 37\\nSkipping line 14043750: expected 28 fields, saw 37\\nSkipping line 14047758: expected 28 fields, saw 30\\nSkipping line 14047759: expected 28 fields, saw 30\\nSkipping line 14047760: expected 28 fields, saw 30\\nSkipping line 14051218: expected 28 fields, saw 33\\nSkipping line 14051219: expected 28 fields, saw 33\\nSkipping line 14051220: expected 28 fields, saw 33\\nSkipping line 14051221: expected 28 fields, saw 33\\nSkipping line 14051222: expected 28 fields, saw 33\\nSkipping line 14051223: expected 28 fields, saw 33\\nSkipping line 14051224: expected 28 fields, saw 33\\nSkipping line 14051225: expected 28 fields, saw 33\\nSkipping line 14051226: expected 28 fields, saw 33\\nSkipping line 14051227: expected 28 fields, saw 33\\nSkipping line 14051228: expected 28 fields, saw 33\\nSkipping line 14051229: expected 28 fields, saw 33\\nSkipping line 14051230: expected 28 fields, saw 33\\nSkipping line 14051231: expected 28 fields, saw 33\\nSkipping line 14051232: expected 28 fields, saw 33\\nSkipping line 14051233: expected 28 fields, saw 33\\nSkipping line 14051234: expected 28 fields, saw 33\\nSkipping line 14051235: expected 28 fields, saw 33\\nSkipping line 14051236: expected 28 fields, saw 33\\nSkipping line 14051237: expected 28 fields, saw 33\\nSkipping line 14051238: expected 28 fields, saw 33\\nSkipping line 14051239: expected 28 fields, saw 33\\nSkipping line 14051240: expected 28 fields, saw 33\\nSkipping line 14051241: expected 28 fields, saw 33\\nSkipping line 14051242: expected 28 fields, saw 33\\nSkipping line 14051243: expected 28 fields, saw 33\\nSkipping line 14051244: expected 28 fields, saw 33\\nSkipping line 14051245: expected 28 fields, saw 33\\nSkipping line 14051246: expected 28 fields, saw 33\\nSkipping line 14051247: expected 28 fields, saw 33\\nSkipping line 14051248: expected 28 fields, saw 33\\nSkipping line 14051249: expected 28 fields, saw 33\\nSkipping line 14051250: expected 28 fields, saw 33\\nSkipping line 14051251: expected 28 fields, saw 33\\nSkipping line 14051252: expected 28 fields, saw 33\\nSkipping line 14051253: expected 28 fields, saw 33\\nSkipping line 14051254: expected 28 fields, saw 33\\nSkipping line 14051255: expected 28 fields, saw 33\\nSkipping line 14051256: expected 28 fields, saw 33\\nSkipping line 14051257: expected 28 fields, saw 33\\nSkipping line 14051258: expected 28 fields, saw 33\\nSkipping line 14051259: expected 28 fields, saw 33\\nSkipping line 14051260: expected 28 fields, saw 33\\nSkipping line 14051261: expected 28 fields, saw 33\\nSkipping line 14051262: expected 28 fields, saw 33\\nSkipping line 14051263: expected 28 fields, saw 33\\nSkipping line 14051264: expected 28 fields, saw 33\\nSkipping line 14051265: expected 28 fields, saw 33\\nSkipping line 14051266: expected 28 fields, saw 33\\nSkipping line 14051267: expected 28 fields, saw 33\\nSkipping line 14051268: expected 28 fields, saw 33\\nSkipping line 14051269: expected 28 fields, saw 33\\nSkipping line 14051270: expected 28 fields, saw 33\\nSkipping line 14051271: expected 28 fields, saw 33\\nSkipping line 14051272: expected 28 fields, saw 33\\nSkipping line 14051273: expected 28 fields, saw 33\\nSkipping line 14051274: expected 28 fields, saw 33\\nSkipping line 14051275: expected 28 fields, saw 33\\nSkipping line 14051276: expected 28 fields, saw 33\\nSkipping line 14051277: expected 28 fields, saw 33\\nSkipping line 14051278: expected 28 fields, saw 33\\nSkipping line 14051279: expected 28 fields, saw 33\\nSkipping line 14051280: expected 28 fields, saw 33\\nSkipping line 14051281: expected 28 fields, saw 33\\nSkipping line 14051282: expected 28 fields, saw 33\\nSkipping line 14051283: expected 28 fields, saw 33\\nSkipping line 14051284: expected 28 fields, saw 33\\nSkipping line 14051285: expected 28 fields, saw 33\\nSkipping line 14051286: expected 28 fields, saw 33\\nSkipping line 14051287: expected 28 fields, saw 33\\nSkipping line 14051288: expected 28 fields, saw 33\\nSkipping line 14051289: expected 28 fields, saw 33\\nSkipping line 14051290: expected 28 fields, saw 33\\nSkipping line 14051291: expected 28 fields, saw 33\\nSkipping line 14051292: expected 28 fields, saw 33\\nSkipping line 14051293: expected 28 fields, saw 33\\nSkipping line 14051294: expected 28 fields, saw 33\\nSkipping line 14051295: expected 28 fields, saw 33\\nSkipping line 14051296: expected 28 fields, saw 33\\nSkipping line 14051297: expected 28 fields, saw 33\\nSkipping line 14051298: expected 28 fields, saw 33\\nSkipping line 14051299: expected 28 fields, saw 33\\nSkipping line 14051300: expected 28 fields, saw 33\\nSkipping line 14051301: expected 28 fields, saw 33\\nSkipping line 14051302: expected 28 fields, saw 33\\nSkipping line 14051303: expected 28 fields, saw 33\\nSkipping line 14051304: expected 28 fields, saw 33\\nSkipping line 14051305: expected 28 fields, saw 33\\nSkipping line 14051306: expected 28 fields, saw 33\\nSkipping line 14051307: expected 28 fields, saw 33\\nSkipping line 14051308: expected 28 fields, saw 33\\nSkipping line 14051309: expected 28 fields, saw 33\\nSkipping line 14051310: expected 28 fields, saw 33\\nSkipping line 14051311: expected 28 fields, saw 33\\nSkipping line 14051312: expected 28 fields, saw 33\\nSkipping line 14051313: expected 28 fields, saw 33\\nSkipping line 14051314: expected 28 fields, saw 33\\nSkipping line 14051315: expected 28 fields, saw 33\\nSkipping line 14051316: expected 28 fields, saw 33\\nSkipping line 14051317: expected 28 fields, saw 33\\nSkipping line 14054043: expected 28 fields, saw 35\\nSkipping line 14054044: expected 28 fields, saw 35\\nSkipping line 14054045: expected 28 fields, saw 35\\nSkipping line 14054046: expected 28 fields, saw 35\\nSkipping line 14054047: expected 28 fields, saw 35\\nSkipping line 14054048: expected 28 fields, saw 35\\nSkipping line 14054049: expected 28 fields, saw 35\\nSkipping line 14054050: expected 28 fields, saw 35\\nSkipping line 14054051: expected 28 fields, saw 35\\nSkipping line 14054052: expected 28 fields, saw 35\\nSkipping line 14054053: expected 28 fields, saw 35\\nSkipping line 14054054: expected 28 fields, saw 35\\nSkipping line 14054055: expected 28 fields, saw 35\\nSkipping line 14054056: expected 28 fields, saw 35\\nSkipping line 14054057: expected 28 fields, saw 35\\nSkipping line 14054058: expected 28 fields, saw 35\\nSkipping line 14054059: expected 28 fields, saw 35\\nSkipping line 14054060: expected 28 fields, saw 35\\nSkipping line 14054061: expected 28 fields, saw 35\\nSkipping line 14054062: expected 28 fields, saw 35\\nSkipping line 14054063: expected 28 fields, saw 35\\nSkipping line 14054064: expected 28 fields, saw 35\\nSkipping line 14055196: expected 28 fields, saw 49\\nSkipping line 14055197: expected 28 fields, saw 49\\nSkipping line 14055198: expected 28 fields, saw 49\\nSkipping line 14055199: expected 28 fields, saw 49\\nSkipping line 14055200: expected 28 fields, saw 49\\nSkipping line 14055201: expected 28 fields, saw 49\\nSkipping line 14055202: expected 28 fields, saw 49\\nSkipping line 14055203: expected 28 fields, saw 49\\nSkipping line 14055204: expected 28 fields, saw 49\\nSkipping line 14055205: expected 28 fields, saw 49\\nSkipping line 14055206: expected 28 fields, saw 49\\nSkipping line 14055207: expected 28 fields, saw 49\\nSkipping line 14055208: expected 28 fields, saw 49\\nSkipping line 14055209: expected 28 fields, saw 49\\nSkipping line 14055210: expected 28 fields, saw 49\\nSkipping line 14055211: expected 28 fields, saw 49\\nSkipping line 14055212: expected 28 fields, saw 49\\nSkipping line 14055213: expected 28 fields, saw 49\\nSkipping line 14055214: expected 28 fields, saw 49\\nSkipping line 14055215: expected 28 fields, saw 49\\nSkipping line 14055216: expected 28 fields, saw 49\\nSkipping line 14055217: expected 28 fields, saw 49\\nSkipping line 14055218: expected 28 fields, saw 49\\nSkipping line 14055219: expected 28 fields, saw 49\\nSkipping line 14055220: expected 28 fields, saw 49\\nSkipping line 14055221: expected 28 fields, saw 49\\nSkipping line 14055222: expected 28 fields, saw 49\\nSkipping line 14055223: expected 28 fields, saw 49\\nSkipping line 14055224: expected 28 fields, saw 49\\nSkipping line 14055225: expected 28 fields, saw 49\\nSkipping line 14055226: expected 28 fields, saw 49\\nSkipping line 14055227: expected 28 fields, saw 49\\nSkipping line 14055228: expected 28 fields, saw 49\\nSkipping line 14055229: expected 28 fields, saw 49\\nSkipping line 14055230: expected 28 fields, saw 49\\nSkipping line 14055231: expected 28 fields, saw 49\\nSkipping line 14055232: expected 28 fields, saw 49\\nSkipping line 14055233: expected 28 fields, saw 49\\nSkipping line 14055234: expected 28 fields, saw 49\\nSkipping line 14055235: expected 28 fields, saw 49\\nSkipping line 14055236: expected 28 fields, saw 49\\nSkipping line 14055237: expected 28 fields, saw 49\\nSkipping line 14055238: expected 28 fields, saw 49\\nSkipping line 14055239: expected 28 fields, saw 49\\nSkipping line 14055240: expected 28 fields, saw 49\\nSkipping line 14055241: expected 28 fields, saw 49\\nSkipping line 14055242: expected 28 fields, saw 49\\nSkipping line 14055243: expected 28 fields, saw 49\\nSkipping line 14055244: expected 28 fields, saw 49\\nSkipping line 14055245: expected 28 fields, saw 49\\nSkipping line 14055246: expected 28 fields, saw 49\\nSkipping line 14055247: expected 28 fields, saw 49\\nSkipping line 14055248: expected 28 fields, saw 49\\nSkipping line 14055249: expected 28 fields, saw 49\\nSkipping line 14055250: expected 28 fields, saw 49\\nSkipping line 14055251: expected 28 fields, saw 49\\nSkipping line 14055252: expected 28 fields, saw 49\\nSkipping line 14055253: expected 28 fields, saw 49\\nSkipping line 14055254: expected 28 fields, saw 49\\nSkipping line 14055255: expected 28 fields, saw 49\\nSkipping line 14055256: expected 28 fields, saw 49\\nSkipping line 14055257: expected 28 fields, saw 49\\nSkipping line 14055258: expected 28 fields, saw 49\\nSkipping line 14055259: expected 28 fields, saw 49\\nSkipping line 14055260: expected 28 fields, saw 49\\nSkipping line 14055261: expected 28 fields, saw 49\\nSkipping line 14056881: expected 28 fields, saw 31\\nSkipping line 14056882: expected 28 fields, saw 31\\nSkipping line 14056883: expected 28 fields, saw 31\\nSkipping line 14056884: expected 28 fields, saw 31\\nSkipping line 14056885: expected 28 fields, saw 31\\nSkipping line 14056886: expected 28 fields, saw 31\\nSkipping line 14056887: expected 28 fields, saw 31\\nSkipping line 14056888: expected 28 fields, saw 31\\nSkipping line 14056889: expected 28 fields, saw 31\\nSkipping line 14056890: expected 28 fields, saw 31\\nSkipping line 14056891: expected 28 fields, saw 31\\nSkipping line 14056892: expected 28 fields, saw 31\\nSkipping line 14056893: expected 28 fields, saw 31\\nSkipping line 14056894: expected 28 fields, saw 31\\nSkipping line 14056895: expected 28 fields, saw 31\\nSkipping line 14056896: expected 28 fields, saw 31\\nSkipping line 14056897: expected 28 fields, saw 31\\nSkipping line 14056898: expected 28 fields, saw 31\\nSkipping line 14056899: expected 28 fields, saw 31\\nSkipping line 14056900: expected 28 fields, saw 31\\nSkipping line 14056901: expected 28 fields, saw 31\\nSkipping line 14056902: expected 28 fields, saw 31\\nSkipping line 14056903: expected 28 fields, saw 31\\nSkipping line 14056904: expected 28 fields, saw 31\\nSkipping line 14056905: expected 28 fields, saw 31\\nSkipping line 14056906: expected 28 fields, saw 31\\nSkipping line 14056907: expected 28 fields, saw 31\\nSkipping line 14056908: expected 28 fields, saw 31\\nSkipping line 14056909: expected 28 fields, saw 31\\nSkipping line 14056910: expected 28 fields, saw 31\\nSkipping line 14056911: expected 28 fields, saw 31\\nSkipping line 14056912: expected 28 fields, saw 31\\nSkipping line 14056913: expected 28 fields, saw 31\\nSkipping line 14056914: expected 28 fields, saw 31\\nSkipping line 14056915: expected 28 fields, saw 31\\nSkipping line 14056916: expected 28 fields, saw 31\\nSkipping line 14056917: expected 28 fields, saw 31\\nSkipping line 14056918: expected 28 fields, saw 31\\nSkipping line 14056919: expected 28 fields, saw 31\\nSkipping line 14056920: expected 28 fields, saw 31\\nSkipping line 14056921: expected 28 fields, saw 31\\nSkipping line 14056922: expected 28 fields, saw 31\\nSkipping line 14056923: expected 28 fields, saw 31\\nSkipping line 14056924: expected 28 fields, saw 31\\nSkipping line 14056925: expected 28 fields, saw 31\\nSkipping line 14056926: expected 28 fields, saw 31\\nSkipping line 14056927: expected 28 fields, saw 31\\nSkipping line 14056928: expected 28 fields, saw 31\\nSkipping line 14056929: expected 28 fields, saw 31\\nSkipping line 14056930: expected 28 fields, saw 31\\nSkipping line 14056931: expected 28 fields, saw 31\\nSkipping line 14056932: expected 28 fields, saw 31\\nSkipping line 14056933: expected 28 fields, saw 31\\nSkipping line 14056934: expected 28 fields, saw 31\\nSkipping line 14056935: expected 28 fields, saw 31\\nSkipping line 14056936: expected 28 fields, saw 31\\nSkipping line 14056937: expected 28 fields, saw 31\\nSkipping line 14056938: expected 28 fields, saw 31\\nSkipping line 14056939: expected 28 fields, saw 31\\nSkipping line 14056940: expected 28 fields, saw 31\\nSkipping line 14056941: expected 28 fields, saw 31\\nSkipping line 14056942: expected 28 fields, saw 31\\nSkipping line 14056943: expected 28 fields, saw 31\\nSkipping line 14056944: expected 28 fields, saw 31\\nSkipping line 14056945: expected 28 fields, saw 31\\nSkipping line 14056946: expected 28 fields, saw 31\\nSkipping line 14056947: expected 28 fields, saw 31\\nSkipping line 14056948: expected 28 fields, saw 31\\nSkipping line 14056949: expected 28 fields, saw 31\\nSkipping line 14056950: expected 28 fields, saw 31\\nSkipping line 14056951: expected 28 fields, saw 31\\nSkipping line 14056952: expected 28 fields, saw 31\\nSkipping line 14056953: expected 28 fields, saw 31\\nSkipping line 14056954: expected 28 fields, saw 31\\nSkipping line 14056955: expected 28 fields, saw 31\\nSkipping line 14056956: expected 28 fields, saw 31\\nSkipping line 14056957: expected 28 fields, saw 31\\nSkipping line 14056958: expected 28 fields, saw 31\\nSkipping line 14056959: expected 28 fields, saw 31\\nSkipping line 14056960: expected 28 fields, saw 31\\nSkipping line 14056961: expected 28 fields, saw 31\\nSkipping line 14056962: expected 28 fields, saw 31\\nSkipping line 14056963: expected 28 fields, saw 31\\nSkipping line 14056964: expected 28 fields, saw 31\\nSkipping line 14056965: expected 28 fields, saw 31\\nSkipping line 14056966: expected 28 fields, saw 31\\nSkipping line 14056967: expected 28 fields, saw 31\\nSkipping line 14056968: expected 28 fields, saw 31\\nSkipping line 14056969: expected 28 fields, saw 31\\nSkipping line 14056970: expected 28 fields, saw 31\\nSkipping line 14056971: expected 28 fields, saw 31\\nSkipping line 14056972: expected 28 fields, saw 31\\nSkipping line 14056973: expected 28 fields, saw 31\\nSkipping line 14056974: expected 28 fields, saw 31\\nSkipping line 14056975: expected 28 fields, saw 31\\nSkipping line 14056976: expected 28 fields, saw 31\\nSkipping line 14056977: expected 28 fields, saw 31\\nSkipping line 14056978: expected 28 fields, saw 31\\nSkipping line 14056979: expected 28 fields, saw 31\\nSkipping line 14056980: expected 28 fields, saw 31\\nSkipping line 14056981: expected 28 fields, saw 31\\nSkipping line 14056982: expected 28 fields, saw 31\\nSkipping line 14056983: expected 28 fields, saw 31\\nSkipping line 14056984: expected 28 fields, saw 31\\nSkipping line 14056985: expected 28 fields, saw 31\\nSkipping line 14056986: expected 28 fields, saw 31\\nSkipping line 14056987: expected 28 fields, saw 31\\nSkipping line 14056988: expected 28 fields, saw 31\\nSkipping line 14056989: expected 28 fields, saw 31\\nSkipping line 14056990: expected 28 fields, saw 31\\nSkipping line 14056991: expected 28 fields, saw 31\\nSkipping line 14056992: expected 28 fields, saw 31\\nSkipping line 14056993: expected 28 fields, saw 31\\nSkipping line 14056994: expected 28 fields, saw 31\\nSkipping line 14056995: expected 28 fields, saw 31\\nSkipping line 14056996: expected 28 fields, saw 31\\nSkipping line 14056997: expected 28 fields, saw 31\\nSkipping line 14056998: expected 28 fields, saw 31\\nSkipping line 14056999: expected 28 fields, saw 31\\nSkipping line 14057000: expected 28 fields, saw 31\\nSkipping line 14057001: expected 28 fields, saw 31\\nSkipping line 14057002: expected 28 fields, saw 31\\nSkipping line 14057003: expected 28 fields, saw 31\\nSkipping line 14057004: expected 28 fields, saw 31\\nSkipping line 14057005: expected 28 fields, saw 31\\nSkipping line 14057006: expected 28 fields, saw 31\\nSkipping line 14057007: expected 28 fields, saw 31\\nSkipping line 14057008: expected 28 fields, saw 31\\nSkipping line 14057009: expected 28 fields, saw 31\\nSkipping line 14057010: expected 28 fields, saw 31\\nSkipping line 14057011: expected 28 fields, saw 31\\nSkipping line 14057012: expected 28 fields, saw 31\\nSkipping line 14057013: expected 28 fields, saw 31\\nSkipping line 14057014: expected 28 fields, saw 31\\nSkipping line 14057015: expected 28 fields, saw 31\\nSkipping line 14057016: expected 28 fields, saw 31\\nSkipping line 14057017: expected 28 fields, saw 31\\nSkipping line 14057018: expected 28 fields, saw 31\\nSkipping line 14057019: expected 28 fields, saw 31\\nSkipping line 14057020: expected 28 fields, saw 31\\nSkipping line 14057021: expected 28 fields, saw 31\\nSkipping line 14057022: expected 28 fields, saw 31\\nSkipping line 14057023: expected 28 fields, saw 31\\nSkipping line 14057024: expected 28 fields, saw 31\\nSkipping line 14057025: expected 28 fields, saw 31\\nSkipping line 14057026: expected 28 fields, saw 31\\nSkipping line 14057027: expected 28 fields, saw 31\\nSkipping line 14057028: expected 28 fields, saw 31\\nSkipping line 14057029: expected 28 fields, saw 31\\nSkipping line 14057030: expected 28 fields, saw 31\\nSkipping line 14057031: expected 28 fields, saw 31\\nSkipping line 14057032: expected 28 fields, saw 31\\nSkipping line 14057033: expected 28 fields, saw 31\\nSkipping line 14057034: expected 28 fields, saw 31\\nSkipping line 14057035: expected 28 fields, saw 31\\nSkipping line 14057036: expected 28 fields, saw 31\\nSkipping line 14057037: expected 28 fields, saw 31\\nSkipping line 14057038: expected 28 fields, saw 31\\nSkipping line 14057039: expected 28 fields, saw 31\\nSkipping line 14057040: expected 28 fields, saw 31\\nSkipping line 14057041: expected 28 fields, saw 31\\nSkipping line 14057042: expected 28 fields, saw 31\\nSkipping line 14057043: expected 28 fields, saw 31\\nSkipping line 14057044: expected 28 fields, saw 31\\nSkipping line 14057045: expected 28 fields, saw 31\\nSkipping line 14057046: expected 28 fields, saw 31\\nSkipping line 14057047: expected 28 fields, saw 31\\nSkipping line 14057048: expected 28 fields, saw 31\\nSkipping line 14057049: expected 28 fields, saw 31\\nSkipping line 14057050: expected 28 fields, saw 31\\nSkipping line 14057051: expected 28 fields, saw 31\\nSkipping line 14057052: expected 28 fields, saw 31\\nSkipping line 14057053: expected 28 fields, saw 31\\nSkipping line 14057054: expected 28 fields, saw 31\\nSkipping line 14057055: expected 28 fields, saw 31\\nSkipping line 14057056: expected 28 fields, saw 31\\nSkipping line 14057057: expected 28 fields, saw 31\\nSkipping line 14057058: expected 28 fields, saw 31\\nSkipping line 14057059: expected 28 fields, saw 31\\nSkipping line 14057060: expected 28 fields, saw 31\\nSkipping line 14057061: expected 28 fields, saw 31\\nSkipping line 14057062: expected 28 fields, saw 31\\nSkipping line 14057063: expected 28 fields, saw 31\\nSkipping line 14057064: expected 28 fields, saw 31\\nSkipping line 14057065: expected 28 fields, saw 31\\nSkipping line 14057066: expected 28 fields, saw 31\\nSkipping line 14057067: expected 28 fields, saw 31\\nSkipping line 14057068: expected 28 fields, saw 31\\nSkipping line 14057069: expected 28 fields, saw 31\\nSkipping line 14057070: expected 28 fields, saw 31\\nSkipping line 14057071: expected 28 fields, saw 31\\nSkipping line 14057072: expected 28 fields, saw 31\\nSkipping line 14057073: expected 28 fields, saw 31\\nSkipping line 14057074: expected 28 fields, saw 31\\nSkipping line 14057075: expected 28 fields, saw 31\\nSkipping line 14057076: expected 28 fields, saw 31\\nSkipping line 14057077: expected 28 fields, saw 31\\nSkipping line 14057078: expected 28 fields, saw 31\\nSkipping line 14057079: expected 28 fields, saw 31\\nSkipping line 14057080: expected 28 fields, saw 31\\nSkipping line 14057081: expected 28 fields, saw 31\\nSkipping line 14057082: expected 28 fields, saw 31\\nSkipping line 14057083: expected 28 fields, saw 31\\nSkipping line 14057084: expected 28 fields, saw 31\\nSkipping line 14057085: expected 28 fields, saw 31\\nSkipping line 14057086: expected 28 fields, saw 31\\nSkipping line 14057087: expected 28 fields, saw 31\\nSkipping line 14057088: expected 28 fields, saw 31\\nSkipping line 14057089: expected 28 fields, saw 31\\nSkipping line 14057090: expected 28 fields, saw 31\\nSkipping line 14057091: expected 28 fields, saw 31\\nSkipping line 14057092: expected 28 fields, saw 31\\nSkipping line 14057093: expected 28 fields, saw 31\\nSkipping line 14057094: expected 28 fields, saw 31\\nSkipping line 14057095: expected 28 fields, saw 31\\nSkipping line 14057096: expected 28 fields, saw 31\\nSkipping line 14057097: expected 28 fields, saw 31\\nSkipping line 14057098: expected 28 fields, saw 31\\nSkipping line 14057099: expected 28 fields, saw 31\\nSkipping line 14057100: expected 28 fields, saw 31\\nSkipping line 14057101: expected 28 fields, saw 31\\nSkipping line 14057102: expected 28 fields, saw 31\\nSkipping line 14057103: expected 28 fields, saw 31\\nSkipping line 14057104: expected 28 fields, saw 31\\nSkipping line 14057105: expected 28 fields, saw 31\\nSkipping line 14057106: expected 28 fields, saw 31\\nSkipping line 14057107: expected 28 fields, saw 31\\nSkipping line 14057108: expected 28 fields, saw 31\\nSkipping line 14057109: expected 28 fields, saw 31\\nSkipping line 14057110: expected 28 fields, saw 31\\nSkipping line 14057111: expected 28 fields, saw 31\\nSkipping line 14057112: expected 28 fields, saw 31\\nSkipping line 14057113: expected 28 fields, saw 31\\nSkipping line 14057114: expected 28 fields, saw 31\\nSkipping line 14057115: expected 28 fields, saw 31\\nSkipping line 14057116: expected 28 fields, saw 31\\nSkipping line 14057117: expected 28 fields, saw 31\\nSkipping line 14057118: expected 28 fields, saw 31\\nSkipping line 14057119: expected 28 fields, saw 31\\nSkipping line 14057120: expected 28 fields, saw 31\\nSkipping line 14057121: expected 28 fields, saw 31\\nSkipping line 14057122: expected 28 fields, saw 31\\nSkipping line 14057123: expected 28 fields, saw 31\\nSkipping line 14057124: expected 28 fields, saw 31\\nSkipping line 14057125: expected 28 fields, saw 31\\nSkipping line 14057126: expected 28 fields, saw 31\\nSkipping line 14057127: expected 28 fields, saw 31\\nSkipping line 14057128: expected 28 fields, saw 31\\nSkipping line 14057129: expected 28 fields, saw 31\\nSkipping line 14057130: expected 28 fields, saw 31\\nSkipping line 14057131: expected 28 fields, saw 31\\nSkipping line 14057132: expected 28 fields, saw 31\\nSkipping line 14057133: expected 28 fields, saw 31\\nSkipping line 14057134: expected 28 fields, saw 31\\nSkipping line 14057135: expected 28 fields, saw 31\\nSkipping line 14057136: expected 28 fields, saw 31\\nSkipping line 14057137: expected 28 fields, saw 31\\nSkipping line 14057138: expected 28 fields, saw 31\\nSkipping line 14057139: expected 28 fields, saw 31\\nSkipping line 14057140: expected 28 fields, saw 31\\nSkipping line 14057141: expected 28 fields, saw 31\\nSkipping line 14057142: expected 28 fields, saw 31\\nSkipping line 14057143: expected 28 fields, saw 31\\nSkipping line 14057144: expected 28 fields, saw 31\\nSkipping line 14057145: expected 28 fields, saw 31\\nSkipping line 14057146: expected 28 fields, saw 31\\nSkipping line 14057147: expected 28 fields, saw 31\\nSkipping line 14057148: expected 28 fields, saw 31\\nSkipping line 14057149: expected 28 fields, saw 31\\nSkipping line 14057150: expected 28 fields, saw 31\\nSkipping line 14057151: expected 28 fields, saw 31\\nSkipping line 14057152: expected 28 fields, saw 31\\nSkipping line 14057153: expected 28 fields, saw 31\\nSkipping line 14057154: expected 28 fields, saw 31\\nSkipping line 14057155: expected 28 fields, saw 31\\nSkipping line 14057156: expected 28 fields, saw 31\\nSkipping line 14057157: expected 28 fields, saw 31\\nSkipping line 14057158: expected 28 fields, saw 31\\nSkipping line 14057159: expected 28 fields, saw 31\\nSkipping line 14057160: expected 28 fields, saw 31\\nSkipping line 14057161: expected 28 fields, saw 31\\nSkipping line 14057162: expected 28 fields, saw 31\\nSkipping line 14057163: expected 28 fields, saw 31\\nSkipping line 14057164: expected 28 fields, saw 31\\nSkipping line 14057165: expected 28 fields, saw 31\\nSkipping line 14057166: expected 28 fields, saw 31\\nSkipping line 14057167: expected 28 fields, saw 31\\nSkipping line 14057168: expected 28 fields, saw 31\\nSkipping line 14057169: expected 28 fields, saw 31\\nSkipping line 14057170: expected 28 fields, saw 31\\nSkipping line 14057171: expected 28 fields, saw 31\\nSkipping line 14057172: expected 28 fields, saw 31\\nSkipping line 14057173: expected 28 fields, saw 31\\nSkipping line 14057174: expected 28 fields, saw 31\\nSkipping line 14057175: expected 28 fields, saw 31\\nSkipping line 14057176: expected 28 fields, saw 31\\nSkipping line 14057177: expected 28 fields, saw 31\\nSkipping line 14057178: expected 28 fields, saw 31\\nSkipping line 14057179: expected 28 fields, saw 31\\nSkipping line 14057180: expected 28 fields, saw 31\\nSkipping line 14057181: expected 28 fields, saw 31\\nSkipping line 14057182: expected 28 fields, saw 31\\nSkipping line 14057183: expected 28 fields, saw 31\\nSkipping line 14057184: expected 28 fields, saw 31\\nSkipping line 14057185: expected 28 fields, saw 31\\nSkipping line 14057186: expected 28 fields, saw 31\\nSkipping line 14057187: expected 28 fields, saw 31\\nSkipping line 14057188: expected 28 fields, saw 31\\nSkipping line 14057189: expected 28 fields, saw 31\\nSkipping line 14057190: expected 28 fields, saw 31\\nSkipping line 14057191: expected 28 fields, saw 31\\nSkipping line 14057192: expected 28 fields, saw 31\\nSkipping line 14057193: expected 28 fields, saw 31\\nSkipping line 14057194: expected 28 fields, saw 31\\nSkipping line 14057195: expected 28 fields, saw 31\\nSkipping line 14057196: expected 28 fields, saw 31\\nSkipping line 14057197: expected 28 fields, saw 31\\nSkipping line 14057198: expected 28 fields, saw 31\\nSkipping line 14057199: expected 28 fields, saw 31\\nSkipping line 14057200: expected 28 fields, saw 31\\nSkipping line 14057201: expected 28 fields, saw 31\\nSkipping line 14057202: expected 28 fields, saw 31\\nSkipping line 14057203: expected 28 fields, saw 31\\nSkipping line 14057204: expected 28 fields, saw 31\\nSkipping line 14057205: expected 28 fields, saw 31\\nSkipping line 14057206: expected 28 fields, saw 31\\nSkipping line 14057207: expected 28 fields, saw 31\\nSkipping line 14057208: expected 28 fields, saw 31\\nSkipping line 14057209: expected 28 fields, saw 31\\nSkipping line 14057210: expected 28 fields, saw 31\\nSkipping line 14057211: expected 28 fields, saw 31\\nSkipping line 14057212: expected 28 fields, saw 31\\nSkipping line 14057213: expected 28 fields, saw 31\\nSkipping line 14057214: expected 28 fields, saw 31\\nSkipping line 14057215: expected 28 fields, saw 31\\nSkipping line 14057216: expected 28 fields, saw 31\\nSkipping line 14057217: expected 28 fields, saw 31\\nSkipping line 14057218: expected 28 fields, saw 31\\nSkipping line 14057219: expected 28 fields, saw 31\\nSkipping line 14057220: expected 28 fields, saw 31\\nSkipping line 14057221: expected 28 fields, saw 31\\nSkipping line 14057222: expected 28 fields, saw 31\\nSkipping line 14057223: expected 28 fields, saw 31\\nSkipping line 14057224: expected 28 fields, saw 31\\nSkipping line 14057225: expected 28 fields, saw 31\\nSkipping line 14057226: expected 28 fields, saw 31\\nSkipping line 14057227: expected 28 fields, saw 31\\nSkipping line 14057228: expected 28 fields, saw 31\\nSkipping line 14057229: expected 28 fields, saw 31\\nSkipping line 14057230: expected 28 fields, saw 31\\nSkipping line 14057231: expected 28 fields, saw 31\\nSkipping line 14057232: expected 28 fields, saw 31\\nSkipping line 14057233: expected 28 fields, saw 31\\nSkipping line 14057234: expected 28 fields, saw 31\\nSkipping line 14057235: expected 28 fields, saw 31\\nSkipping line 14057236: expected 28 fields, saw 31\\nSkipping line 14057237: expected 28 fields, saw 31\\nSkipping line 14057238: expected 28 fields, saw 31\\nSkipping line 14057239: expected 28 fields, saw 31\\nSkipping line 14057240: expected 28 fields, saw 31\\nSkipping line 14057241: expected 28 fields, saw 31\\nSkipping line 14057242: expected 28 fields, saw 31\\nSkipping line 14057243: expected 28 fields, saw 31\\nSkipping line 14057244: expected 28 fields, saw 31\\nSkipping line 14057245: expected 28 fields, saw 31\\nSkipping line 14057246: expected 28 fields, saw 31\\nSkipping line 14057247: expected 28 fields, saw 31\\nSkipping line 14057248: expected 28 fields, saw 31\\nSkipping line 14057249: expected 28 fields, saw 31\\nSkipping line 14057250: expected 28 fields, saw 31\\nSkipping line 14057251: expected 28 fields, saw 31\\nSkipping line 14057252: expected 28 fields, saw 31\\nSkipping line 14057253: expected 28 fields, saw 31\\nSkipping line 14057254: expected 28 fields, saw 31\\nSkipping line 14057255: expected 28 fields, saw 31\\nSkipping line 14057256: expected 28 fields, saw 31\\nSkipping line 14057257: expected 28 fields, saw 31\\nSkipping line 14057258: expected 28 fields, saw 31\\nSkipping line 14057259: expected 28 fields, saw 31\\nSkipping line 14057260: expected 28 fields, saw 31\\nSkipping line 14057261: expected 28 fields, saw 31\\nSkipping line 14057262: expected 28 fields, saw 31\\nSkipping line 14057263: expected 28 fields, saw 31\\nSkipping line 14057264: expected 28 fields, saw 31\\nSkipping line 14057265: expected 28 fields, saw 31\\nSkipping line 14057266: expected 28 fields, saw 31\\nSkipping line 14057267: expected 28 fields, saw 31\\nSkipping line 14057268: expected 28 fields, saw 31\\nSkipping line 14057269: expected 28 fields, saw 31\\nSkipping line 14057270: expected 28 fields, saw 31\\nSkipping line 14057271: expected 28 fields, saw 31\\nSkipping line 14057272: expected 28 fields, saw 31\\nSkipping line 14057273: expected 28 fields, saw 31\\nSkipping line 14057274: expected 28 fields, saw 31\\nSkipping line 14057275: expected 28 fields, saw 31\\nSkipping line 14057276: expected 28 fields, saw 31\\nSkipping line 14057277: expected 28 fields, saw 31\\nSkipping line 14057278: expected 28 fields, saw 31\\nSkipping line 14057279: expected 28 fields, saw 31\\nSkipping line 14057280: expected 28 fields, saw 31\\nSkipping line 14057281: expected 28 fields, saw 31\\nSkipping line 14057282: expected 28 fields, saw 31\\nSkipping line 14057283: expected 28 fields, saw 31\\nSkipping line 14057284: expected 28 fields, saw 31\\nSkipping line 14057285: expected 28 fields, saw 31\\nSkipping line 14057286: expected 28 fields, saw 31\\nSkipping line 14057287: expected 28 fields, saw 31\\nSkipping line 14057288: expected 28 fields, saw 31\\nSkipping line 14057289: expected 28 fields, saw 31\\nSkipping line 14057290: expected 28 fields, saw 31\\nSkipping line 14057291: expected 28 fields, saw 31\\nSkipping line 14057292: expected 28 fields, saw 31\\nSkipping line 14057293: expected 28 fields, saw 31\\nSkipping line 14057294: expected 28 fields, saw 31\\nSkipping line 14057295: expected 28 fields, saw 31\\nSkipping line 14057296: expected 28 fields, saw 31\\nSkipping line 14057297: expected 28 fields, saw 31\\nSkipping line 14057298: expected 28 fields, saw 31\\nSkipping line 14057299: expected 28 fields, saw 31\\nSkipping line 14057300: expected 28 fields, saw 31\\nSkipping line 14057301: expected 28 fields, saw 31\\nSkipping line 14057302: expected 28 fields, saw 31\\nSkipping line 14057303: expected 28 fields, saw 31\\nSkipping line 14057304: expected 28 fields, saw 31\\nSkipping line 14057305: expected 28 fields, saw 31\\nSkipping line 14057306: expected 28 fields, saw 31\\nSkipping line 14057307: expected 28 fields, saw 31\\nSkipping line 14057308: expected 28 fields, saw 31\\nSkipping line 14057309: expected 28 fields, saw 31\\nSkipping line 14057310: expected 28 fields, saw 31\\nSkipping line 14057311: expected 28 fields, saw 31\\nSkipping line 14057312: expected 28 fields, saw 31\\nSkipping line 14057313: expected 28 fields, saw 31\\nSkipping line 14057314: expected 28 fields, saw 31\\nSkipping line 14057315: expected 28 fields, saw 31\\nSkipping line 14057316: expected 28 fields, saw 31\\nSkipping line 14057317: expected 28 fields, saw 31\\nSkipping line 14057318: expected 28 fields, saw 31\\nSkipping line 14057319: expected 28 fields, saw 31\\nSkipping line 14057320: expected 28 fields, saw 31\\nSkipping line 14057321: expected 28 fields, saw 31\\nSkipping line 14057322: expected 28 fields, saw 31\\nSkipping line 14057323: expected 28 fields, saw 31\\nSkipping line 14057324: expected 28 fields, saw 31\\nSkipping line 14057325: expected 28 fields, saw 31\\nSkipping line 14057326: expected 28 fields, saw 31\\nSkipping line 14057327: expected 28 fields, saw 31\\nSkipping line 14057328: expected 28 fields, saw 31\\nSkipping line 14057329: expected 28 fields, saw 31\\nSkipping line 14057330: expected 28 fields, saw 31\\nSkipping line 14057331: expected 28 fields, saw 31\\nSkipping line 14057332: expected 28 fields, saw 31\\nSkipping line 14057333: expected 28 fields, saw 31\\nSkipping line 14057334: expected 28 fields, saw 31\\nSkipping line 14057335: expected 28 fields, saw 31\\nSkipping line 14057336: expected 28 fields, saw 31\\nSkipping line 14057337: expected 28 fields, saw 31\\nSkipping line 14057338: expected 28 fields, saw 31\\nSkipping line 14057339: expected 28 fields, saw 31\\nSkipping line 14057340: expected 28 fields, saw 31\\nSkipping line 14057341: expected 28 fields, saw 31\\nSkipping line 14057342: expected 28 fields, saw 31\\nSkipping line 14057343: expected 28 fields, saw 31\\nSkipping line 14057344: expected 28 fields, saw 31\\nSkipping line 14057345: expected 28 fields, saw 31\\nSkipping line 14057346: expected 28 fields, saw 31\\nSkipping line 14057347: expected 28 fields, saw 31\\nSkipping line 14057348: expected 28 fields, saw 31\\nSkipping line 14057349: expected 28 fields, saw 31\\nSkipping line 14057350: expected 28 fields, saw 31\\nSkipping line 14057351: expected 28 fields, saw 31\\nSkipping line 14057352: expected 28 fields, saw 31\\nSkipping line 14057353: expected 28 fields, saw 31\\nSkipping line 14057354: expected 28 fields, saw 31\\nSkipping line 14057355: expected 28 fields, saw 31\\nSkipping line 14057356: expected 28 fields, saw 31\\nSkipping line 14057357: expected 28 fields, saw 31\\nSkipping line 14057358: expected 28 fields, saw 31\\nSkipping line 14057359: expected 28 fields, saw 31\\nSkipping line 14057360: expected 28 fields, saw 31\\nSkipping line 14057361: expected 28 fields, saw 31\\nSkipping line 14057362: expected 28 fields, saw 31\\nSkipping line 14057363: expected 28 fields, saw 31\\nSkipping line 14057364: expected 28 fields, saw 31\\nSkipping line 14057365: expected 28 fields, saw 31\\nSkipping line 14057366: expected 28 fields, saw 31\\nSkipping line 14057367: expected 28 fields, saw 31\\nSkipping line 14057368: expected 28 fields, saw 31\\nSkipping line 14057369: expected 28 fields, saw 31\\nSkipping line 14057370: expected 28 fields, saw 31\\nSkipping line 14057371: expected 28 fields, saw 31\\nSkipping line 14057372: expected 28 fields, saw 31\\nSkipping line 14057373: expected 28 fields, saw 31\\nSkipping line 14057374: expected 28 fields, saw 31\\nSkipping line 14057375: expected 28 fields, saw 31\\nSkipping line 14057376: expected 28 fields, saw 31\\nSkipping line 14057377: expected 28 fields, saw 31\\nSkipping line 14057378: expected 28 fields, saw 31\\nSkipping line 14057379: expected 28 fields, saw 31\\nSkipping line 14057380: expected 28 fields, saw 31\\nSkipping line 14057381: expected 28 fields, saw 31\\nSkipping line 14057382: expected 28 fields, saw 31\\nSkipping line 14057383: expected 28 fields, saw 31\\nSkipping line 14057384: expected 28 fields, saw 31\\nSkipping line 14057385: expected 28 fields, saw 31\\nSkipping line 14057386: expected 28 fields, saw 31\\nSkipping line 14057387: expected 28 fields, saw 31\\nSkipping line 14057388: expected 28 fields, saw 31\\nSkipping line 14057389: expected 28 fields, saw 31\\nSkipping line 14057390: expected 28 fields, saw 31\\nSkipping line 14057391: expected 28 fields, saw 31\\nSkipping line 14057392: expected 28 fields, saw 31\\nSkipping line 14057393: expected 28 fields, saw 31\\nSkipping line 14057394: expected 28 fields, saw 31\\nSkipping line 14057395: expected 28 fields, saw 31\\nSkipping line 14057396: expected 28 fields, saw 31\\nSkipping line 14057397: expected 28 fields, saw 31\\nSkipping line 14057398: expected 28 fields, saw 31\\nSkipping line 14057399: expected 28 fields, saw 31\\nSkipping line 14057400: expected 28 fields, saw 31\\nSkipping line 14057401: expected 28 fields, saw 31\\nSkipping line 14057402: expected 28 fields, saw 31\\nSkipping line 14057403: expected 28 fields, saw 31\\nSkipping line 14057404: expected 28 fields, saw 31\\nSkipping line 14057405: expected 28 fields, saw 31\\nSkipping line 14057406: expected 28 fields, saw 31\\nSkipping line 14057407: expected 28 fields, saw 31\\nSkipping line 14057408: expected 28 fields, saw 31\\nSkipping line 14057409: expected 28 fields, saw 31\\nSkipping line 14057410: expected 28 fields, saw 31\\nSkipping line 14057411: expected 28 fields, saw 31\\nSkipping line 14057412: expected 28 fields, saw 31\\nSkipping line 14057413: expected 28 fields, saw 31\\nSkipping line 14057414: expected 28 fields, saw 31\\nSkipping line 14057415: expected 28 fields, saw 31\\nSkipping line 14057416: expected 28 fields, saw 31\\nSkipping line 14057417: expected 28 fields, saw 31\\nSkipping line 14057418: expected 28 fields, saw 31\\nSkipping line 14057419: expected 28 fields, saw 31\\nSkipping line 14057420: expected 28 fields, saw 31\\nSkipping line 14057421: expected 28 fields, saw 31\\nSkipping line 14057422: expected 28 fields, saw 31\\nSkipping line 14057423: expected 28 fields, saw 31\\nSkipping line 14057424: expected 28 fields, saw 31\\nSkipping line 14057425: expected 28 fields, saw 31\\nSkipping line 14057426: expected 28 fields, saw 31\\nSkipping line 14057427: expected 28 fields, saw 31\\nSkipping line 14057428: expected 28 fields, saw 31\\nSkipping line 14057429: expected 28 fields, saw 31\\nSkipping line 14057430: expected 28 fields, saw 31\\nSkipping line 14057431: expected 28 fields, saw 31\\nSkipping line 14057432: expected 28 fields, saw 31\\nSkipping line 14057433: expected 28 fields, saw 31\\nSkipping line 14057434: expected 28 fields, saw 31\\nSkipping line 14057435: expected 28 fields, saw 31\\nSkipping line 14057436: expected 28 fields, saw 31\\nSkipping line 14057437: expected 28 fields, saw 31\\nSkipping line 14057438: expected 28 fields, saw 31\\nSkipping line 14057439: expected 28 fields, saw 31\\nSkipping line 14057440: expected 28 fields, saw 31\\nSkipping line 14057441: expected 28 fields, saw 31\\nSkipping line 14057442: expected 28 fields, saw 31\\nSkipping line 14057443: expected 28 fields, saw 31\\nSkipping line 14057444: expected 28 fields, saw 31\\nSkipping line 14057445: expected 28 fields, saw 31\\nSkipping line 14057446: expected 28 fields, saw 31\\nSkipping line 14057447: expected 28 fields, saw 31\\nSkipping line 14057448: expected 28 fields, saw 31\\nSkipping line 14057449: expected 28 fields, saw 31\\nSkipping line 14057450: expected 28 fields, saw 31\\nSkipping line 14057451: expected 28 fields, saw 31\\nSkipping line 14057452: expected 28 fields, saw 31\\nSkipping line 14057453: expected 28 fields, saw 31\\nSkipping line 14057454: expected 28 fields, saw 31\\nSkipping line 14057455: expected 28 fields, saw 31\\nSkipping line 14057456: expected 28 fields, saw 31\\nSkipping line 14057457: expected 28 fields, saw 31\\nSkipping line 14057458: expected 28 fields, saw 31\\nSkipping line 14057459: expected 28 fields, saw 31\\nSkipping line 14057460: expected 28 fields, saw 31\\nSkipping line 14057461: expected 28 fields, saw 31\\nSkipping line 14057462: expected 28 fields, saw 31\\nSkipping line 14057463: expected 28 fields, saw 31\\nSkipping line 14057464: expected 28 fields, saw 31\\nSkipping line 14057465: expected 28 fields, saw 31\\nSkipping line 14057466: expected 28 fields, saw 31\\nSkipping line 14057467: expected 28 fields, saw 31\\nSkipping line 14057468: expected 28 fields, saw 31\\nSkipping line 14057469: expected 28 fields, saw 31\\nSkipping line 14057470: expected 28 fields, saw 31\\nSkipping line 14057471: expected 28 fields, saw 31\\nSkipping line 14057472: expected 28 fields, saw 31\\nSkipping line 14057473: expected 28 fields, saw 31\\nSkipping line 14057474: expected 28 fields, saw 31\\nSkipping line 14057475: expected 28 fields, saw 31\\nSkipping line 14057476: expected 28 fields, saw 31\\nSkipping line 14057477: expected 28 fields, saw 31\\nSkipping line 14057478: expected 28 fields, saw 31\\nSkipping line 14057479: expected 28 fields, saw 31\\nSkipping line 14057480: expected 28 fields, saw 31\\nSkipping line 14057481: expected 28 fields, saw 31\\nSkipping line 14057482: expected 28 fields, saw 31\\nSkipping line 14057483: expected 28 fields, saw 31\\nSkipping line 14057484: expected 28 fields, saw 31\\nSkipping line 14057485: expected 28 fields, saw 31\\nSkipping line 14057486: expected 28 fields, saw 31\\nSkipping line 14057487: expected 28 fields, saw 31\\nSkipping line 14057488: expected 28 fields, saw 31\\nSkipping line 14057489: expected 28 fields, saw 31\\nSkipping line 14057490: expected 28 fields, saw 31\\nSkipping line 14057491: expected 28 fields, saw 31\\nSkipping line 14057492: expected 28 fields, saw 31\\nSkipping line 14057493: expected 28 fields, saw 31\\nSkipping line 14057494: expected 28 fields, saw 31\\nSkipping line 14057495: expected 28 fields, saw 31\\nSkipping line 14057496: expected 28 fields, saw 31\\nSkipping line 14057497: expected 28 fields, saw 31\\nSkipping line 14057498: expected 28 fields, saw 31\\nSkipping line 14057499: expected 28 fields, saw 31\\nSkipping line 14057500: expected 28 fields, saw 31\\nSkipping line 14057501: expected 28 fields, saw 31\\nSkipping line 14057502: expected 28 fields, saw 31\\nSkipping line 14057503: expected 28 fields, saw 31\\nSkipping line 14057504: expected 28 fields, saw 31\\nSkipping line 14057505: expected 28 fields, saw 31\\nSkipping line 14057506: expected 28 fields, saw 31\\nSkipping line 14057507: expected 28 fields, saw 31\\nSkipping line 14057508: expected 28 fields, saw 31\\nSkipping line 14057509: expected 28 fields, saw 31\\nSkipping line 14057510: expected 28 fields, saw 31\\nSkipping line 14057511: expected 28 fields, saw 31\\nSkipping line 14057512: expected 28 fields, saw 31\\nSkipping line 14057513: expected 28 fields, saw 31\\nSkipping line 14057514: expected 28 fields, saw 31\\nSkipping line 14057515: expected 28 fields, saw 31\\nSkipping line 14057516: expected 28 fields, saw 31\\nSkipping line 14057517: expected 28 fields, saw 31\\nSkipping line 14057518: expected 28 fields, saw 31\\nSkipping line 14057519: expected 28 fields, saw 31\\nSkipping line 14057520: expected 28 fields, saw 31\\nSkipping line 14057521: expected 28 fields, saw 31\\nSkipping line 14057522: expected 28 fields, saw 31\\nSkipping line 14057523: expected 28 fields, saw 31\\nSkipping line 14057524: expected 28 fields, saw 31\\nSkipping line 14057525: expected 28 fields, saw 31\\nSkipping line 14057526: expected 28 fields, saw 31\\nSkipping line 14057527: expected 28 fields, saw 31\\nSkipping line 14057528: expected 28 fields, saw 31\\nSkipping line 14057529: expected 28 fields, saw 31\\nSkipping line 14057530: expected 28 fields, saw 31\\nSkipping line 14057531: expected 28 fields, saw 31\\nSkipping line 14057532: expected 28 fields, saw 31\\nSkipping line 14057533: expected 28 fields, saw 31\\nSkipping line 14057534: expected 28 fields, saw 31\\nSkipping line 14057535: expected 28 fields, saw 31\\nSkipping line 14057536: expected 28 fields, saw 31\\nSkipping line 14057537: expected 28 fields, saw 31\\nSkipping line 14057538: expected 28 fields, saw 31\\nSkipping line 14057539: expected 28 fields, saw 31\\nSkipping line 14057540: expected 28 fields, saw 31\\nSkipping line 14057541: expected 28 fields, saw 31\\nSkipping line 14057542: expected 28 fields, saw 31\\nSkipping line 14057543: expected 28 fields, saw 31\\nSkipping line 14057544: expected 28 fields, saw 31\\nSkipping line 14057545: expected 28 fields, saw 31\\nSkipping line 14057546: expected 28 fields, saw 31\\nSkipping line 14057547: expected 28 fields, saw 31\\nSkipping line 14057548: expected 28 fields, saw 31\\nSkipping line 14057549: expected 28 fields, saw 31\\nSkipping line 14057550: expected 28 fields, saw 31\\nSkipping line 14057551: expected 28 fields, saw 31\\nSkipping line 14057552: expected 28 fields, saw 31\\nSkipping line 14057553: expected 28 fields, saw 31\\nSkipping line 14057554: expected 28 fields, saw 31\\nSkipping line 14057555: expected 28 fields, saw 31\\nSkipping line 14057556: expected 28 fields, saw 31\\nSkipping line 14057557: expected 28 fields, saw 31\\nSkipping line 14057558: expected 28 fields, saw 31\\nSkipping line 14057559: expected 28 fields, saw 31\\nSkipping line 14057560: expected 28 fields, saw 31\\nSkipping line 14057561: expected 28 fields, saw 31\\nSkipping line 14057562: expected 28 fields, saw 31\\nSkipping line 14057563: expected 28 fields, saw 31\\nSkipping line 14057564: expected 28 fields, saw 31\\nSkipping line 14057565: expected 28 fields, saw 31\\nSkipping line 14057566: expected 28 fields, saw 31\\nSkipping line 14057567: expected 28 fields, saw 31\\nSkipping line 14057568: expected 28 fields, saw 31\\nSkipping line 14057569: expected 28 fields, saw 31\\nSkipping line 14057570: expected 28 fields, saw 31\\nSkipping line 14057571: expected 28 fields, saw 31\\nSkipping line 14057572: expected 28 fields, saw 31\\nSkipping line 14057573: expected 28 fields, saw 31\\nSkipping line 14057574: expected 28 fields, saw 31\\nSkipping line 14057575: expected 28 fields, saw 31\\nSkipping line 14057576: expected 28 fields, saw 31\\nSkipping line 14057577: expected 28 fields, saw 31\\nSkipping line 14057578: expected 28 fields, saw 31\\nSkipping line 14057579: expected 28 fields, saw 31\\nSkipping line 14057580: expected 28 fields, saw 31\\nSkipping line 14057581: expected 28 fields, saw 31\\nSkipping line 14057582: expected 28 fields, saw 31\\nSkipping line 14057583: expected 28 fields, saw 31\\nSkipping line 14057584: expected 28 fields, saw 31\\nSkipping line 14057585: expected 28 fields, saw 31\\nSkipping line 14057586: expected 28 fields, saw 31\\nSkipping line 14057587: expected 28 fields, saw 31\\nSkipping line 14057588: expected 28 fields, saw 31\\nSkipping line 14057589: expected 28 fields, saw 31\\nSkipping line 14057590: expected 28 fields, saw 31\\nSkipping line 14057591: expected 28 fields, saw 31\\nSkipping line 14057592: expected 28 fields, saw 31\\nSkipping line 14057593: expected 28 fields, saw 31\\nSkipping line 14057594: expected 28 fields, saw 31\\nSkipping line 14057595: expected 28 fields, saw 31\\nSkipping line 14057596: expected 28 fields, saw 31\\nSkipping line 14057597: expected 28 fields, saw 31\\nSkipping line 14057598: expected 28 fields, saw 31\\nSkipping line 14057599: expected 28 fields, saw 31\\nSkipping line 14057600: expected 28 fields, saw 31\\nSkipping line 14057601: expected 28 fields, saw 31\\nSkipping line 14057602: expected 28 fields, saw 31\\nSkipping line 14057603: expected 28 fields, saw 31\\nSkipping line 14057604: expected 28 fields, saw 31\\nSkipping line 14057605: expected 28 fields, saw 31\\nSkipping line 14057606: expected 28 fields, saw 31\\nSkipping line 14057607: expected 28 fields, saw 31\\nSkipping line 14057608: expected 28 fields, saw 31\\nSkipping line 14057609: expected 28 fields, saw 31\\nSkipping line 14057610: expected 28 fields, saw 31\\nSkipping line 14057611: expected 28 fields, saw 31\\nSkipping line 14057612: expected 28 fields, saw 31\\nSkipping line 14057613: expected 28 fields, saw 31\\nSkipping line 14057614: expected 28 fields, saw 31\\nSkipping line 14057615: expected 28 fields, saw 31\\nSkipping line 14057616: expected 28 fields, saw 31\\nSkipping line 14057617: expected 28 fields, saw 31\\nSkipping line 14057618: expected 28 fields, saw 31\\nSkipping line 14057619: expected 28 fields, saw 31\\nSkipping line 14057620: expected 28 fields, saw 31\\nSkipping line 14057621: expected 28 fields, saw 31\\nSkipping line 14057622: expected 28 fields, saw 31\\nSkipping line 14057623: expected 28 fields, saw 31\\nSkipping line 14057624: expected 28 fields, saw 31\\nSkipping line 14057625: expected 28 fields, saw 31\\nSkipping line 14057626: expected 28 fields, saw 31\\nSkipping line 14057627: expected 28 fields, saw 31\\nSkipping line 14057628: expected 28 fields, saw 31\\nSkipping line 14057629: expected 28 fields, saw 31\\nSkipping line 14057630: expected 28 fields, saw 31\\nSkipping line 14057631: expected 28 fields, saw 31\\nSkipping line 14057632: expected 28 fields, saw 31\\nSkipping line 14057633: expected 28 fields, saw 31\\nSkipping line 14057634: expected 28 fields, saw 31\\nSkipping line 14057635: expected 28 fields, saw 31\\nSkipping line 14057636: expected 28 fields, saw 31\\nSkipping line 14057637: expected 28 fields, saw 31\\nSkipping line 14057638: expected 28 fields, saw 31\\nSkipping line 14057639: expected 28 fields, saw 31\\nSkipping line 14057640: expected 28 fields, saw 31\\nSkipping line 14057641: expected 28 fields, saw 31\\nSkipping line 14057642: expected 28 fields, saw 31\\nSkipping line 14057643: expected 28 fields, saw 31\\nSkipping line 14057644: expected 28 fields, saw 31\\nSkipping line 14057645: expected 28 fields, saw 31\\nSkipping line 14057646: expected 28 fields, saw 31\\nSkipping line 14057647: expected 28 fields, saw 31\\nSkipping line 14057648: expected 28 fields, saw 31\\nSkipping line 14057649: expected 28 fields, saw 31\\nSkipping line 14057650: expected 28 fields, saw 31\\nSkipping line 14057651: expected 28 fields, saw 31\\nSkipping line 14057652: expected 28 fields, saw 31\\nSkipping line 14057653: expected 28 fields, saw 31\\nSkipping line 14057654: expected 28 fields, saw 31\\nSkipping line 14057655: expected 28 fields, saw 31\\nSkipping line 14057656: expected 28 fields, saw 31\\nSkipping line 14057657: expected 28 fields, saw 31\\nSkipping line 14057658: expected 28 fields, saw 31\\nSkipping line 14057659: expected 28 fields, saw 31\\nSkipping line 14057660: expected 28 fields, saw 31\\nSkipping line 14057661: expected 28 fields, saw 31\\nSkipping line 14057662: expected 28 fields, saw 31\\nSkipping line 14057663: expected 28 fields, saw 31\\nSkipping line 14057664: expected 28 fields, saw 31\\nSkipping line 14057665: expected 28 fields, saw 31\\nSkipping line 14057666: expected 28 fields, saw 31\\nSkipping line 14057667: expected 28 fields, saw 31\\nSkipping line 14057668: expected 28 fields, saw 31\\nSkipping line 14057669: expected 28 fields, saw 31\\nSkipping line 14057670: expected 28 fields, saw 31\\nSkipping line 14057671: expected 28 fields, saw 31\\nSkipping line 14057672: expected 28 fields, saw 31\\nSkipping line 14057673: expected 28 fields, saw 31\\nSkipping line 14057674: expected 28 fields, saw 31\\nSkipping line 14057675: expected 28 fields, saw 31\\nSkipping line 14057676: expected 28 fields, saw 31\\nSkipping line 14057677: expected 28 fields, saw 31\\nSkipping line 14057678: expected 28 fields, saw 31\\nSkipping line 14057679: expected 28 fields, saw 31\\nSkipping line 14057680: expected 28 fields, saw 31\\nSkipping line 14057681: expected 28 fields, saw 31\\nSkipping line 14057682: expected 28 fields, saw 31\\nSkipping line 14057683: expected 28 fields, saw 31\\nSkipping line 14057684: expected 28 fields, saw 31\\nSkipping line 14057685: expected 28 fields, saw 31\\nSkipping line 14057686: expected 28 fields, saw 31\\nSkipping line 14057687: expected 28 fields, saw 31\\nSkipping line 14057688: expected 28 fields, saw 31\\nSkipping line 14057689: expected 28 fields, saw 31\\nSkipping line 14057690: expected 28 fields, saw 31\\nSkipping line 14057691: expected 28 fields, saw 31\\nSkipping line 14057692: expected 28 fields, saw 31\\nSkipping line 14057693: expected 28 fields, saw 31\\nSkipping line 14057694: expected 28 fields, saw 31\\nSkipping line 14057695: expected 28 fields, saw 31\\nSkipping line 14057696: expected 28 fields, saw 31\\nSkipping line 14057697: expected 28 fields, saw 31\\nSkipping line 14057698: expected 28 fields, saw 31\\nSkipping line 14057699: expected 28 fields, saw 31\\nSkipping line 14057700: expected 28 fields, saw 31\\nSkipping line 14057701: expected 28 fields, saw 31\\nSkipping line 14057702: expected 28 fields, saw 31\\nSkipping line 14057703: expected 28 fields, saw 31\\nSkipping line 14057704: expected 28 fields, saw 31\\nSkipping line 14057705: expected 28 fields, saw 31\\nSkipping line 14057706: expected 28 fields, saw 31\\nSkipping line 14057707: expected 28 fields, saw 31\\nSkipping line 14057708: expected 28 fields, saw 31\\nSkipping line 14057709: expected 28 fields, saw 31\\nSkipping line 14057710: expected 28 fields, saw 31\\nSkipping line 14057711: expected 28 fields, saw 31\\nSkipping line 14057712: expected 28 fields, saw 31\\nSkipping line 14057713: expected 28 fields, saw 31\\nSkipping line 14057714: expected 28 fields, saw 31\\nSkipping line 14057715: expected 28 fields, saw 31\\nSkipping line 14057716: expected 28 fields, saw 31\\nSkipping line 14057717: expected 28 fields, saw 31\\nSkipping line 14057718: expected 28 fields, saw 31\\nSkipping line 14057719: expected 28 fields, saw 31\\nSkipping line 14057720: expected 28 fields, saw 31\\nSkipping line 14057721: expected 28 fields, saw 31\\nSkipping line 14057722: expected 28 fields, saw 31\\nSkipping line 14057723: expected 28 fields, saw 31\\nSkipping line 14057724: expected 28 fields, saw 31\\nSkipping line 14057725: expected 28 fields, saw 31\\nSkipping line 14057726: expected 28 fields, saw 31\\nSkipping line 14057727: expected 28 fields, saw 31\\nSkipping line 14057728: expected 28 fields, saw 31\\nSkipping line 14057729: expected 28 fields, saw 31\\nSkipping line 14057730: expected 28 fields, saw 31\\nSkipping line 14057731: expected 28 fields, saw 31\\nSkipping line 14057732: expected 28 fields, saw 31\\nSkipping line 14057733: expected 28 fields, saw 31\\nSkipping line 14057734: expected 28 fields, saw 31\\nSkipping line 14057735: expected 28 fields, saw 31\\nSkipping line 14057736: expected 28 fields, saw 31\\nSkipping line 14057737: expected 28 fields, saw 31\\nSkipping line 14057738: expected 28 fields, saw 31\\nSkipping line 14057739: expected 28 fields, saw 31\\nSkipping line 14057740: expected 28 fields, saw 31\\nSkipping line 14057741: expected 28 fields, saw 31\\nSkipping line 14057742: expected 28 fields, saw 31\\nSkipping line 14057743: expected 28 fields, saw 31\\nSkipping line 14057744: expected 28 fields, saw 31\\nSkipping line 14057745: expected 28 fields, saw 31\\nSkipping line 14057746: expected 28 fields, saw 31\\nSkipping line 14057747: expected 28 fields, saw 31\\nSkipping line 14057748: expected 28 fields, saw 31\\nSkipping line 14057749: expected 28 fields, saw 31\\nSkipping line 14057750: expected 28 fields, saw 31\\nSkipping line 14057751: expected 28 fields, saw 31\\nSkipping line 14057752: expected 28 fields, saw 31\\nSkipping line 14057753: expected 28 fields, saw 31\\nSkipping line 14057754: expected 28 fields, saw 31\\nSkipping line 14057755: expected 28 fields, saw 31\\nSkipping line 14057756: expected 28 fields, saw 31\\nSkipping line 14057757: expected 28 fields, saw 31\\nSkipping line 14057758: expected 28 fields, saw 31\\nSkipping line 14057759: expected 28 fields, saw 31\\nSkipping line 14057760: expected 28 fields, saw 31\\nSkipping line 14057761: expected 28 fields, saw 31\\nSkipping line 14057762: expected 28 fields, saw 31\\nSkipping line 14057763: expected 28 fields, saw 31\\nSkipping line 14057764: expected 28 fields, saw 31\\nSkipping line 14057765: expected 28 fields, saw 31\\nSkipping line 14057766: expected 28 fields, saw 31\\nSkipping line 14057767: expected 28 fields, saw 31\\nSkipping line 14057768: expected 28 fields, saw 31\\nSkipping line 14057769: expected 28 fields, saw 33\\nSkipping line 14057770: expected 28 fields, saw 33\\nSkipping line 14057771: expected 28 fields, saw 33\\nSkipping line 14057772: expected 28 fields, saw 33\\nSkipping line 14057773: expected 28 fields, saw 33\\nSkipping line 14057774: expected 28 fields, saw 33\\nSkipping line 14057775: expected 28 fields, saw 33\\nSkipping line 14057776: expected 28 fields, saw 33\\nSkipping line 14057777: expected 28 fields, saw 33\\nSkipping line 14057778: expected 28 fields, saw 33\\nSkipping line 14057779: expected 28 fields, saw 33\\nSkipping line 14057780: expected 28 fields, saw 33\\nSkipping line 14057781: expected 28 fields, saw 33\\nSkipping line 14057782: expected 28 fields, saw 33\\nSkipping line 14057783: expected 28 fields, saw 33\\nSkipping line 14057784: expected 28 fields, saw 33\\nSkipping line 14057785: expected 28 fields, saw 33\\nSkipping line 14057786: expected 28 fields, saw 33\\nSkipping line 14057787: expected 28 fields, saw 33\\nSkipping line 14057788: expected 28 fields, saw 33\\nSkipping line 14057789: expected 28 fields, saw 33\\nSkipping line 14057790: expected 28 fields, saw 33\\nSkipping line 14057791: expected 28 fields, saw 33\\nSkipping line 14057792: expected 28 fields, saw 33\\nSkipping line 14057793: expected 28 fields, saw 33\\nSkipping line 14057794: expected 28 fields, saw 33\\nSkipping line 14057795: expected 28 fields, saw 33\\nSkipping line 14057796: expected 28 fields, saw 33\\nSkipping line 14057797: expected 28 fields, saw 33\\nSkipping line 14057798: expected 28 fields, saw 33\\nSkipping line 14057799: expected 28 fields, saw 33\\nSkipping line 14057800: expected 28 fields, saw 33\\nSkipping line 14057801: expected 28 fields, saw 33\\nSkipping line 14057802: expected 28 fields, saw 33\\nSkipping line 14057803: expected 28 fields, saw 33\\nSkipping line 14057804: expected 28 fields, saw 33\\nSkipping line 14057805: expected 28 fields, saw 33\\nSkipping line 14057806: expected 28 fields, saw 33\\nSkipping line 14057807: expected 28 fields, saw 33\\nSkipping line 14057808: expected 28 fields, saw 33\\nSkipping line 14057809: expected 28 fields, saw 33\\nSkipping line 14057810: expected 28 fields, saw 33\\nSkipping line 14057811: expected 28 fields, saw 33\\nSkipping line 14057812: expected 28 fields, saw 33\\nSkipping line 14057813: expected 28 fields, saw 33\\nSkipping line 14057814: expected 28 fields, saw 33\\nSkipping line 14057815: expected 28 fields, saw 33\\nSkipping line 14057816: expected 28 fields, saw 33\\nSkipping line 14057817: expected 28 fields, saw 33\\nSkipping line 14057818: expected 28 fields, saw 33\\nSkipping line 14057819: expected 28 fields, saw 33\\nSkipping line 14057820: expected 28 fields, saw 33\\nSkipping line 14057821: expected 28 fields, saw 33\\nSkipping line 14057822: expected 28 fields, saw 33\\nSkipping line 14057823: expected 28 fields, saw 33\\nSkipping line 14057824: expected 28 fields, saw 33\\nSkipping line 14057825: expected 28 fields, saw 33\\nSkipping line 14057826: expected 28 fields, saw 33\\nSkipping line 14057827: expected 28 fields, saw 33\\nSkipping line 14057828: expected 28 fields, saw 33\\nSkipping line 14057829: expected 28 fields, saw 33\\nSkipping line 14057830: expected 28 fields, saw 33\\nSkipping line 14057831: expected 28 fields, saw 33\\nSkipping line 14057832: expected 28 fields, saw 33\\nSkipping line 14057833: expected 28 fields, saw 33\\nSkipping line 14057834: expected 28 fields, saw 33\\nSkipping line 14057835: expected 28 fields, saw 33\\nSkipping line 14057836: expected 28 fields, saw 33\\nSkipping line 14057837: expected 28 fields, saw 33\\nSkipping line 14057838: expected 28 fields, saw 33\\nSkipping line 14057839: expected 28 fields, saw 33\\nSkipping line 14057840: expected 28 fields, saw 33\\nSkipping line 14057841: expected 28 fields, saw 33\\nSkipping line 14057842: expected 28 fields, saw 33\\nSkipping line 14057843: expected 28 fields, saw 33\\nSkipping line 14057844: expected 28 fields, saw 33\\nSkipping line 14057845: expected 28 fields, saw 33\\nSkipping line 14057846: expected 28 fields, saw 33\\nSkipping line 14057847: expected 28 fields, saw 33\\nSkipping line 14057848: expected 28 fields, saw 33\\nSkipping line 14057849: expected 28 fields, saw 33\\nSkipping line 14057850: expected 28 fields, saw 33\\nSkipping line 14057851: expected 28 fields, saw 33\\nSkipping line 14057852: expected 28 fields, saw 33\\nSkipping line 14057853: expected 28 fields, saw 33\\nSkipping line 14057854: expected 28 fields, saw 33\\nSkipping line 14057855: expected 28 fields, saw 33\\nSkipping line 14057856: expected 28 fields, saw 33\\nSkipping line 14057857: expected 28 fields, saw 33\\nSkipping line 14057858: expected 28 fields, saw 33\\nSkipping line 14057859: expected 28 fields, saw 33\\nSkipping line 14057860: expected 28 fields, saw 33\\nSkipping line 14057861: expected 28 fields, saw 33\\nSkipping line 14057862: expected 28 fields, saw 33\\nSkipping line 14057863: expected 28 fields, saw 33\\nSkipping line 14057864: expected 28 fields, saw 33\\nSkipping line 14057865: expected 28 fields, saw 33\\nSkipping line 14057866: expected 28 fields, saw 33\\nSkipping line 14057867: expected 28 fields, saw 33\\nSkipping line 14057868: expected 28 fields, saw 33\\nSkipping line 14057869: expected 28 fields, saw 33\\nSkipping line 14057870: expected 28 fields, saw 33\\nSkipping line 14057871: expected 28 fields, saw 33\\nSkipping line 14057872: expected 28 fields, saw 33\\nSkipping line 14057873: expected 28 fields, saw 33\\nSkipping line 14057874: expected 28 fields, saw 33\\nSkipping line 14057875: expected 28 fields, saw 33\\nSkipping line 14057876: expected 28 fields, saw 33\\nSkipping line 14057877: expected 28 fields, saw 33\\nSkipping line 14057878: expected 28 fields, saw 33\\nSkipping line 14057879: expected 28 fields, saw 33\\nSkipping line 14057880: expected 28 fields, saw 33\\nSkipping line 14057881: expected 28 fields, saw 33\\nSkipping line 14057882: expected 28 fields, saw 33\\nSkipping line 14057883: expected 28 fields, saw 33\\nSkipping line 14057884: expected 28 fields, saw 33\\nSkipping line 14057885: expected 28 fields, saw 33\\nSkipping line 14057886: expected 28 fields, saw 33\\nSkipping line 14057887: expected 28 fields, saw 33\\nSkipping line 14057888: expected 28 fields, saw 33\\nSkipping line 14057889: expected 28 fields, saw 33\\nSkipping line 14057890: expected 28 fields, saw 33\\nSkipping line 14057891: expected 28 fields, saw 33\\nSkipping line 14057892: expected 28 fields, saw 33\\nSkipping line 14057893: expected 28 fields, saw 33\\nSkipping line 14057894: expected 28 fields, saw 33\\nSkipping line 14057895: expected 28 fields, saw 33\\nSkipping line 14057896: expected 28 fields, saw 33\\nSkipping line 14057897: expected 28 fields, saw 33\\nSkipping line 14057898: expected 28 fields, saw 33\\nSkipping line 14057899: expected 28 fields, saw 33\\nSkipping line 14057900: expected 28 fields, saw 33\\nSkipping line 14057901: expected 28 fields, saw 33\\nSkipping line 14057902: expected 28 fields, saw 33\\nSkipping line 14057903: expected 28 fields, saw 33\\nSkipping line 14057904: expected 28 fields, saw 33\\nSkipping line 14057905: expected 28 fields, saw 33\\nSkipping line 14057906: expected 28 fields, saw 33\\nSkipping line 14057907: expected 28 fields, saw 33\\nSkipping line 14057908: expected 28 fields, saw 33\\nSkipping line 14057909: expected 28 fields, saw 33\\nSkipping line 14057910: expected 28 fields, saw 33\\nSkipping line 14057911: expected 28 fields, saw 33\\nSkipping line 14057912: expected 28 fields, saw 33\\nSkipping line 14057913: expected 28 fields, saw 33\\nSkipping line 14057914: expected 28 fields, saw 33\\nSkipping line 14057915: expected 28 fields, saw 33\\nSkipping line 14057916: expected 28 fields, saw 33\\nSkipping line 14057917: expected 28 fields, saw 33\\nSkipping line 14057918: expected 28 fields, saw 33\\nSkipping line 14057919: expected 28 fields, saw 33\\nSkipping line 14057920: expected 28 fields, saw 33\\nSkipping line 14057921: expected 28 fields, saw 33\\nSkipping line 14057922: expected 28 fields, saw 33\\nSkipping line 14057923: expected 28 fields, saw 33\\nSkipping line 14057924: expected 28 fields, saw 33\\nSkipping line 14057925: expected 28 fields, saw 33\\nSkipping line 14057926: expected 28 fields, saw 33\\nSkipping line 14057927: expected 28 fields, saw 33\\nSkipping line 14057928: expected 28 fields, saw 33\\nSkipping line 14057929: expected 28 fields, saw 33\\nSkipping line 14057930: expected 28 fields, saw 33\\nSkipping line 14057931: expected 28 fields, saw 33\\nSkipping line 14057932: expected 28 fields, saw 33\\nSkipping line 14057933: expected 28 fields, saw 33\\nSkipping line 14057934: expected 28 fields, saw 33\\nSkipping line 14057935: expected 28 fields, saw 33\\nSkipping line 14057936: expected 28 fields, saw 33\\nSkipping line 14057937: expected 28 fields, saw 33\\nSkipping line 14057938: expected 28 fields, saw 33\\nSkipping line 14057939: expected 28 fields, saw 33\\nSkipping line 14057940: expected 28 fields, saw 33\\nSkipping line 14057941: expected 28 fields, saw 33\\nSkipping line 14057942: expected 28 fields, saw 33\\nSkipping line 14057943: expected 28 fields, saw 33\\nSkipping line 14057944: expected 28 fields, saw 33\\nSkipping line 14057945: expected 28 fields, saw 33\\nSkipping line 14057946: expected 28 fields, saw 33\\nSkipping line 14057947: expected 28 fields, saw 33\\nSkipping line 14057948: expected 28 fields, saw 33\\nSkipping line 14057949: expected 28 fields, saw 33\\nSkipping line 14057950: expected 28 fields, saw 33\\nSkipping line 14057951: expected 28 fields, saw 33\\nSkipping line 14057952: expected 28 fields, saw 33\\nSkipping line 14057953: expected 28 fields, saw 33\\nSkipping line 14057954: expected 28 fields, saw 33\\nSkipping line 14057955: expected 28 fields, saw 33\\nSkipping line 14057956: expected 28 fields, saw 33\\nSkipping line 14057957: expected 28 fields, saw 33\\nSkipping line 14057958: expected 28 fields, saw 33\\nSkipping line 14057959: expected 28 fields, saw 33\\nSkipping line 14057960: expected 28 fields, saw 33\\nSkipping line 14057961: expected 28 fields, saw 33\\nSkipping line 14057962: expected 28 fields, saw 33\\nSkipping line 14057963: expected 28 fields, saw 33\\nSkipping line 14057964: expected 28 fields, saw 33\\nSkipping line 14057965: expected 28 fields, saw 33\\nSkipping line 14057966: expected 28 fields, saw 33\\nSkipping line 14057967: expected 28 fields, saw 33\\nSkipping line 14057968: expected 28 fields, saw 33\\nSkipping line 14057969: expected 28 fields, saw 33\\nSkipping line 14057970: expected 28 fields, saw 33\\nSkipping line 14057971: expected 28 fields, saw 33\\nSkipping line 14057972: expected 28 fields, saw 33\\nSkipping line 14057973: expected 28 fields, saw 33\\nSkipping line 14057974: expected 28 fields, saw 33\\nSkipping line 14057975: expected 28 fields, saw 33\\nSkipping line 14057976: expected 28 fields, saw 33\\nSkipping line 14057977: expected 28 fields, saw 33\\nSkipping line 14057978: expected 28 fields, saw 33\\nSkipping line 14057979: expected 28 fields, saw 33\\nSkipping line 14057980: expected 28 fields, saw 33\\nSkipping line 14057981: expected 28 fields, saw 33\\nSkipping line 14057982: expected 28 fields, saw 33\\nSkipping line 14057983: expected 28 fields, saw 33\\nSkipping line 14057984: expected 28 fields, saw 33\\nSkipping line 14057985: expected 28 fields, saw 33\\nSkipping line 14057986: expected 28 fields, saw 33\\nSkipping line 14057987: expected 28 fields, saw 33\\nSkipping line 14057988: expected 28 fields, saw 33\\nSkipping line 14057989: expected 28 fields, saw 33\\nSkipping line 14057990: expected 28 fields, saw 33\\nSkipping line 14057991: expected 28 fields, saw 33\\nSkipping line 14057992: expected 28 fields, saw 33\\nSkipping line 14057993: expected 28 fields, saw 33\\nSkipping line 14057994: expected 28 fields, saw 33\\nSkipping line 14057995: expected 28 fields, saw 33\\nSkipping line 14057996: expected 28 fields, saw 33\\nSkipping line 14057997: expected 28 fields, saw 33\\nSkipping line 14057998: expected 28 fields, saw 33\\nSkipping line 14057999: expected 28 fields, saw 33\\nSkipping line 14058000: expected 28 fields, saw 33\\nSkipping line 14058001: expected 28 fields, saw 33\\nSkipping line 14058002: expected 28 fields, saw 33\\nSkipping line 14058003: expected 28 fields, saw 33\\nSkipping line 14058004: expected 28 fields, saw 33\\nSkipping line 14058005: expected 28 fields, saw 33\\nSkipping line 14058006: expected 28 fields, saw 33\\nSkipping line 14058007: expected 28 fields, saw 33\\nSkipping line 14058008: expected 28 fields, saw 33\\nSkipping line 14058009: expected 28 fields, saw 33\\nSkipping line 14058010: expected 28 fields, saw 33\\nSkipping line 14058011: expected 28 fields, saw 33\\nSkipping line 14058012: expected 28 fields, saw 33\\nSkipping line 14058013: expected 28 fields, saw 33\\nSkipping line 14058014: expected 28 fields, saw 33\\nSkipping line 14058015: expected 28 fields, saw 33\\nSkipping line 14058016: expected 28 fields, saw 33\\nSkipping line 14058017: expected 28 fields, saw 33\\nSkipping line 14058018: expected 28 fields, saw 33\\nSkipping line 14058019: expected 28 fields, saw 33\\nSkipping line 14058020: expected 28 fields, saw 33\\nSkipping line 14058021: expected 28 fields, saw 33\\nSkipping line 14058022: expected 28 fields, saw 33\\nSkipping line 14058023: expected 28 fields, saw 33\\nSkipping line 14058024: expected 28 fields, saw 33\\nSkipping line 14058025: expected 28 fields, saw 33\\nSkipping line 14058026: expected 28 fields, saw 33\\nSkipping line 14058027: expected 28 fields, saw 33\\nSkipping line 14058028: expected 28 fields, saw 33\\nSkipping line 14058029: expected 28 fields, saw 33\\nSkipping line 14058030: expected 28 fields, saw 33\\n'\n",
      "b'Skipping line 14068034: expected 28 fields, saw 30\\nSkipping line 14068035: expected 28 fields, saw 30\\nSkipping line 14068036: expected 28 fields, saw 30\\nSkipping line 14068037: expected 28 fields, saw 30\\nSkipping line 14068038: expected 28 fields, saw 30\\nSkipping line 14068039: expected 28 fields, saw 30\\nSkipping line 14068040: expected 28 fields, saw 30\\nSkipping line 14068041: expected 28 fields, saw 30\\nSkipping line 14068042: expected 28 fields, saw 30\\nSkipping line 14068043: expected 28 fields, saw 30\\nSkipping line 14068044: expected 28 fields, saw 30\\nSkipping line 14068045: expected 28 fields, saw 30\\nSkipping line 14068046: expected 28 fields, saw 30\\nSkipping line 14068047: expected 28 fields, saw 30\\nSkipping line 14068048: expected 28 fields, saw 30\\nSkipping line 14068049: expected 28 fields, saw 30\\nSkipping line 14068050: expected 28 fields, saw 30\\nSkipping line 14068051: expected 28 fields, saw 30\\nSkipping line 14068052: expected 28 fields, saw 30\\nSkipping line 14068053: expected 28 fields, saw 30\\nSkipping line 14068054: expected 28 fields, saw 30\\nSkipping line 14068055: expected 28 fields, saw 30\\nSkipping line 14068056: expected 28 fields, saw 30\\nSkipping line 14068057: expected 28 fields, saw 30\\nSkipping line 14068058: expected 28 fields, saw 30\\nSkipping line 14068059: expected 28 fields, saw 30\\nSkipping line 14068060: expected 28 fields, saw 30\\nSkipping line 14068061: expected 28 fields, saw 30\\nSkipping line 14068062: expected 28 fields, saw 30\\nSkipping line 14068063: expected 28 fields, saw 30\\nSkipping line 14068064: expected 28 fields, saw 30\\nSkipping line 14068065: expected 28 fields, saw 30\\nSkipping line 14068066: expected 28 fields, saw 30\\nSkipping line 14068067: expected 28 fields, saw 30\\nSkipping line 14068068: expected 28 fields, saw 30\\nSkipping line 14068069: expected 28 fields, saw 30\\nSkipping line 14068070: expected 28 fields, saw 30\\nSkipping line 14068071: expected 28 fields, saw 30\\nSkipping line 14068072: expected 28 fields, saw 30\\nSkipping line 14068073: expected 28 fields, saw 30\\nSkipping line 14068074: expected 28 fields, saw 30\\nSkipping line 14068075: expected 28 fields, saw 30\\nSkipping line 14068076: expected 28 fields, saw 30\\nSkipping line 14068077: expected 28 fields, saw 30\\nSkipping line 14068078: expected 28 fields, saw 30\\nSkipping line 14068079: expected 28 fields, saw 30\\nSkipping line 14068080: expected 28 fields, saw 30\\nSkipping line 14068081: expected 28 fields, saw 30\\nSkipping line 14068082: expected 28 fields, saw 30\\nSkipping line 14068083: expected 28 fields, saw 30\\nSkipping line 14068084: expected 28 fields, saw 30\\nSkipping line 14068085: expected 28 fields, saw 30\\nSkipping line 14068086: expected 28 fields, saw 30\\nSkipping line 14068087: expected 28 fields, saw 30\\nSkipping line 14068088: expected 28 fields, saw 30\\nSkipping line 14068089: expected 28 fields, saw 30\\nSkipping line 14068090: expected 28 fields, saw 30\\nSkipping line 14068091: expected 28 fields, saw 30\\nSkipping line 14068092: expected 28 fields, saw 30\\nSkipping line 14068093: expected 28 fields, saw 30\\nSkipping line 14068094: expected 28 fields, saw 30\\nSkipping line 14068095: expected 28 fields, saw 30\\nSkipping line 14068096: expected 28 fields, saw 30\\nSkipping line 14068097: expected 28 fields, saw 30\\nSkipping line 14068098: expected 28 fields, saw 30\\nSkipping line 14068099: expected 28 fields, saw 30\\nSkipping line 14068100: expected 28 fields, saw 30\\nSkipping line 14068101: expected 28 fields, saw 30\\nSkipping line 14068102: expected 28 fields, saw 30\\nSkipping line 14068103: expected 28 fields, saw 30\\nSkipping line 14068104: expected 28 fields, saw 30\\nSkipping line 14068105: expected 28 fields, saw 30\\nSkipping line 14068106: expected 28 fields, saw 30\\nSkipping line 14071190: expected 28 fields, saw 41\\nSkipping line 14071191: expected 28 fields, saw 41\\nSkipping line 14071192: expected 28 fields, saw 41\\nSkipping line 14071193: expected 28 fields, saw 41\\nSkipping line 14071194: expected 28 fields, saw 41\\nSkipping line 14071195: expected 28 fields, saw 41\\nSkipping line 14071196: expected 28 fields, saw 41\\nSkipping line 14071197: expected 28 fields, saw 41\\nSkipping line 14071198: expected 28 fields, saw 41\\nSkipping line 14071199: expected 28 fields, saw 41\\nSkipping line 14071200: expected 28 fields, saw 41\\nSkipping line 14071201: expected 28 fields, saw 41\\nSkipping line 14071202: expected 28 fields, saw 41\\nSkipping line 14071203: expected 28 fields, saw 41\\nSkipping line 14071204: expected 28 fields, saw 41\\nSkipping line 14071205: expected 28 fields, saw 41\\nSkipping line 14071206: expected 28 fields, saw 41\\nSkipping line 14071207: expected 28 fields, saw 41\\nSkipping line 14071208: expected 28 fields, saw 41\\nSkipping line 14071209: expected 28 fields, saw 41\\nSkipping line 14071210: expected 28 fields, saw 41\\nSkipping line 14071211: expected 28 fields, saw 41\\nSkipping line 14071212: expected 28 fields, saw 41\\nSkipping line 14071213: expected 28 fields, saw 41\\nSkipping line 14071214: expected 28 fields, saw 41\\nSkipping line 14071215: expected 28 fields, saw 41\\nSkipping line 14071216: expected 28 fields, saw 41\\nSkipping line 14071217: expected 28 fields, saw 41\\nSkipping line 14075679: expected 28 fields, saw 31\\nSkipping line 14075680: expected 28 fields, saw 31\\nSkipping line 14075681: expected 28 fields, saw 31\\nSkipping line 14075682: expected 28 fields, saw 31\\nSkipping line 14075683: expected 28 fields, saw 31\\nSkipping line 14075684: expected 28 fields, saw 31\\nSkipping line 14075685: expected 28 fields, saw 31\\nSkipping line 14075686: expected 28 fields, saw 31\\nSkipping line 14075687: expected 28 fields, saw 31\\nSkipping line 14075688: expected 28 fields, saw 31\\nSkipping line 14075689: expected 28 fields, saw 31\\nSkipping line 14075690: expected 28 fields, saw 31\\nSkipping line 14075691: expected 28 fields, saw 31\\nSkipping line 14079717: expected 28 fields, saw 32\\nSkipping line 14079718: expected 28 fields, saw 32\\nSkipping line 14079719: expected 28 fields, saw 32\\nSkipping line 14079720: expected 28 fields, saw 32\\nSkipping line 14079721: expected 28 fields, saw 32\\nSkipping line 14079722: expected 28 fields, saw 32\\nSkipping line 14079723: expected 28 fields, saw 32\\nSkipping line 14079724: expected 28 fields, saw 32\\nSkipping line 14079725: expected 28 fields, saw 32\\nSkipping line 14079726: expected 28 fields, saw 32\\nSkipping line 14079727: expected 28 fields, saw 32\\nSkipping line 14079728: expected 28 fields, saw 32\\nSkipping line 14079729: expected 28 fields, saw 32\\nSkipping line 14079730: expected 28 fields, saw 32\\nSkipping line 14079731: expected 28 fields, saw 32\\nSkipping line 14079732: expected 28 fields, saw 32\\nSkipping line 14079733: expected 28 fields, saw 32\\nSkipping line 14079919: expected 28 fields, saw 32\\nSkipping line 14079920: expected 28 fields, saw 32\\nSkipping line 14079921: expected 28 fields, saw 32\\nSkipping line 14079922: expected 28 fields, saw 32\\nSkipping line 14079923: expected 28 fields, saw 32\\nSkipping line 14079924: expected 28 fields, saw 32\\nSkipping line 14079925: expected 28 fields, saw 32\\nSkipping line 14079926: expected 28 fields, saw 32\\nSkipping line 14079927: expected 28 fields, saw 32\\nSkipping line 14079928: expected 28 fields, saw 32\\nSkipping line 14079929: expected 28 fields, saw 32\\nSkipping line 14079930: expected 28 fields, saw 32\\nSkipping line 14079931: expected 28 fields, saw 32\\nSkipping line 14079932: expected 28 fields, saw 32\\nSkipping line 14079933: expected 28 fields, saw 32\\nSkipping line 14079934: expected 28 fields, saw 32\\nSkipping line 14079935: expected 28 fields, saw 32\\nSkipping line 14079936: expected 28 fields, saw 32\\nSkipping line 14079937: expected 28 fields, saw 32\\nSkipping line 14079938: expected 28 fields, saw 32\\nSkipping line 14079939: expected 28 fields, saw 32\\nSkipping line 14079940: expected 28 fields, saw 32\\nSkipping line 14079941: expected 28 fields, saw 32\\nSkipping line 14079942: expected 28 fields, saw 32\\nSkipping line 14079943: expected 28 fields, saw 32\\nSkipping line 14079944: expected 28 fields, saw 32\\nSkipping line 14079945: expected 28 fields, saw 32\\nSkipping line 14079946: expected 28 fields, saw 32\\nSkipping line 14079947: expected 28 fields, saw 32\\nSkipping line 14079948: expected 28 fields, saw 32\\nSkipping line 14079949: expected 28 fields, saw 32\\nSkipping line 14079950: expected 28 fields, saw 32\\nSkipping line 14079951: expected 28 fields, saw 32\\nSkipping line 14079952: expected 28 fields, saw 32\\nSkipping line 14079953: expected 28 fields, saw 32\\nSkipping line 14079954: expected 28 fields, saw 32\\nSkipping line 14079955: expected 28 fields, saw 32\\nSkipping line 14079956: expected 28 fields, saw 32\\nSkipping line 14079957: expected 28 fields, saw 32\\nSkipping line 14079958: expected 28 fields, saw 32\\nSkipping line 14079959: expected 28 fields, saw 32\\nSkipping line 14079960: expected 28 fields, saw 32\\nSkipping line 14079961: expected 28 fields, saw 32\\nSkipping line 14079962: expected 28 fields, saw 32\\nSkipping line 14079963: expected 28 fields, saw 32\\nSkipping line 14079964: expected 28 fields, saw 32\\nSkipping line 14079965: expected 28 fields, saw 32\\nSkipping line 14079966: expected 28 fields, saw 32\\nSkipping line 14082416: expected 28 fields, saw 29\\nSkipping line 14082417: expected 28 fields, saw 29\\nSkipping line 14082418: expected 28 fields, saw 29\\nSkipping line 14082419: expected 28 fields, saw 29\\nSkipping line 14082420: expected 28 fields, saw 29\\nSkipping line 14082421: expected 28 fields, saw 29\\nSkipping line 14082422: expected 28 fields, saw 29\\nSkipping line 14082423: expected 28 fields, saw 29\\nSkipping line 14082424: expected 28 fields, saw 29\\nSkipping line 14082425: expected 28 fields, saw 29\\nSkipping line 14082426: expected 28 fields, saw 29\\nSkipping line 14082427: expected 28 fields, saw 29\\nSkipping line 14082428: expected 28 fields, saw 29\\nSkipping line 14082429: expected 28 fields, saw 29\\nSkipping line 14082430: expected 28 fields, saw 29\\nSkipping line 14082431: expected 28 fields, saw 29\\nSkipping line 14082432: expected 28 fields, saw 29\\nSkipping line 14082433: expected 28 fields, saw 29\\nSkipping line 14082434: expected 28 fields, saw 29\\nSkipping line 14082435: expected 28 fields, saw 29\\nSkipping line 14082436: expected 28 fields, saw 29\\nSkipping line 14082437: expected 28 fields, saw 29\\nSkipping line 14082438: expected 28 fields, saw 29\\nSkipping line 14082439: expected 28 fields, saw 29\\nSkipping line 14082440: expected 28 fields, saw 29\\nSkipping line 14082441: expected 28 fields, saw 29\\nSkipping line 14082442: expected 28 fields, saw 29\\nSkipping line 14082443: expected 28 fields, saw 29\\nSkipping line 14082444: expected 28 fields, saw 29\\nSkipping line 14082445: expected 28 fields, saw 29\\nSkipping line 14082446: expected 28 fields, saw 29\\nSkipping line 14082447: expected 28 fields, saw 29\\nSkipping line 14082448: expected 28 fields, saw 29\\nSkipping line 14082449: expected 28 fields, saw 29\\nSkipping line 14082450: expected 28 fields, saw 29\\nSkipping line 14082451: expected 28 fields, saw 29\\nSkipping line 14082452: expected 28 fields, saw 29\\nSkipping line 14082453: expected 28 fields, saw 29\\nSkipping line 14082454: expected 28 fields, saw 29\\nSkipping line 14082455: expected 28 fields, saw 29\\nSkipping line 14082456: expected 28 fields, saw 29\\nSkipping line 14082457: expected 28 fields, saw 29\\nSkipping line 14082458: expected 28 fields, saw 29\\nSkipping line 14082459: expected 28 fields, saw 29\\nSkipping line 14082460: expected 28 fields, saw 29\\nSkipping line 14082461: expected 28 fields, saw 29\\nSkipping line 14082462: expected 28 fields, saw 29\\nSkipping line 14082463: expected 28 fields, saw 29\\nSkipping line 14082464: expected 28 fields, saw 29\\nSkipping line 14082465: expected 28 fields, saw 29\\nSkipping line 14082466: expected 28 fields, saw 29\\nSkipping line 14082467: expected 28 fields, saw 29\\nSkipping line 14082468: expected 28 fields, saw 29\\nSkipping line 14082469: expected 28 fields, saw 29\\nSkipping line 14082470: expected 28 fields, saw 29\\nSkipping line 14082471: expected 28 fields, saw 29\\nSkipping line 14082472: expected 28 fields, saw 29\\nSkipping line 14082473: expected 28 fields, saw 29\\nSkipping line 14082474: expected 28 fields, saw 29\\nSkipping line 14082475: expected 28 fields, saw 29\\nSkipping line 14082476: expected 28 fields, saw 29\\nSkipping line 14082477: expected 28 fields, saw 29\\nSkipping line 14082478: expected 28 fields, saw 29\\nSkipping line 14082479: expected 28 fields, saw 29\\nSkipping line 14082480: expected 28 fields, saw 29\\nSkipping line 14082481: expected 28 fields, saw 29\\nSkipping line 14082482: expected 28 fields, saw 29\\nSkipping line 14082483: expected 28 fields, saw 29\\nSkipping line 14082484: expected 28 fields, saw 29\\nSkipping line 14082485: expected 28 fields, saw 29\\nSkipping line 14082486: expected 28 fields, saw 29\\nSkipping line 14082487: expected 28 fields, saw 29\\nSkipping line 14082488: expected 28 fields, saw 29\\nSkipping line 14082489: expected 28 fields, saw 29\\nSkipping line 14082490: expected 28 fields, saw 29\\nSkipping line 14082491: expected 28 fields, saw 29\\nSkipping line 14082492: expected 28 fields, saw 29\\nSkipping line 14082493: expected 28 fields, saw 29\\nSkipping line 14082494: expected 28 fields, saw 29\\nSkipping line 14083228: expected 28 fields, saw 41\\nSkipping line 14083229: expected 28 fields, saw 41\\nSkipping line 14083230: expected 28 fields, saw 41\\nSkipping line 14083231: expected 28 fields, saw 41\\nSkipping line 14083232: expected 28 fields, saw 41\\nSkipping line 14083233: expected 28 fields, saw 41\\nSkipping line 14083234: expected 28 fields, saw 41\\nSkipping line 14083235: expected 28 fields, saw 41\\nSkipping line 14083236: expected 28 fields, saw 41\\nSkipping line 14083237: expected 28 fields, saw 41\\nSkipping line 14083238: expected 28 fields, saw 41\\nSkipping line 14083239: expected 28 fields, saw 41\\nSkipping line 14083240: expected 28 fields, saw 41\\nSkipping line 14083241: expected 28 fields, saw 41\\nSkipping line 14083242: expected 28 fields, saw 41\\nSkipping line 14083243: expected 28 fields, saw 41\\nSkipping line 14083244: expected 28 fields, saw 41\\nSkipping line 14083245: expected 28 fields, saw 41\\nSkipping line 14083246: expected 28 fields, saw 41\\nSkipping line 14083247: expected 28 fields, saw 41\\nSkipping line 14083248: expected 28 fields, saw 41\\nSkipping line 14083249: expected 28 fields, saw 41\\nSkipping line 14083250: expected 28 fields, saw 41\\nSkipping line 14083251: expected 28 fields, saw 41\\nSkipping line 14083252: expected 28 fields, saw 41\\nSkipping line 14083253: expected 28 fields, saw 41\\nSkipping line 14083254: expected 28 fields, saw 41\\nSkipping line 14083255: expected 28 fields, saw 41\\nSkipping line 14083256: expected 28 fields, saw 41\\nSkipping line 14083257: expected 28 fields, saw 41\\nSkipping line 14083258: expected 28 fields, saw 41\\nSkipping line 14083259: expected 28 fields, saw 41\\nSkipping line 14083260: expected 28 fields, saw 41\\nSkipping line 14083261: expected 28 fields, saw 41\\nSkipping line 14083262: expected 28 fields, saw 41\\nSkipping line 14083263: expected 28 fields, saw 41\\nSkipping line 14083264: expected 28 fields, saw 41\\nSkipping line 14083265: expected 28 fields, saw 41\\nSkipping line 14083266: expected 28 fields, saw 41\\nSkipping line 14083267: expected 28 fields, saw 41\\nSkipping line 14083268: expected 28 fields, saw 41\\nSkipping line 14083269: expected 28 fields, saw 41\\nSkipping line 14083270: expected 28 fields, saw 41\\nSkipping line 14083271: expected 28 fields, saw 41\\nSkipping line 14083272: expected 28 fields, saw 41\\nSkipping line 14083273: expected 28 fields, saw 41\\nSkipping line 14083274: expected 28 fields, saw 41\\nSkipping line 14083275: expected 28 fields, saw 41\\nSkipping line 14083276: expected 28 fields, saw 41\\nSkipping line 14083277: expected 28 fields, saw 41\\nSkipping line 14083278: expected 28 fields, saw 41\\nSkipping line 14083279: expected 28 fields, saw 41\\nSkipping line 14083280: expected 28 fields, saw 41\\nSkipping line 14083281: expected 28 fields, saw 41\\nSkipping line 14083282: expected 28 fields, saw 41\\nSkipping line 14083283: expected 28 fields, saw 41\\nSkipping line 14083284: expected 28 fields, saw 41\\nSkipping line 14083285: expected 28 fields, saw 41\\nSkipping line 14083286: expected 28 fields, saw 41\\nSkipping line 14083287: expected 28 fields, saw 41\\nSkipping line 14083288: expected 28 fields, saw 41\\nSkipping line 14083289: expected 28 fields, saw 41\\nSkipping line 14083290: expected 28 fields, saw 41\\nSkipping line 14083291: expected 28 fields, saw 41\\nSkipping line 14083292: expected 28 fields, saw 41\\nSkipping line 14083293: expected 28 fields, saw 41\\nSkipping line 14083294: expected 28 fields, saw 41\\nSkipping line 14083295: expected 28 fields, saw 41\\nSkipping line 14083296: expected 28 fields, saw 41\\nSkipping line 14083297: expected 28 fields, saw 41\\nSkipping line 14083298: expected 28 fields, saw 41\\nSkipping line 14083299: expected 28 fields, saw 41\\nSkipping line 14083300: expected 28 fields, saw 41\\nSkipping line 14083301: expected 28 fields, saw 41\\nSkipping line 14083302: expected 28 fields, saw 41\\nSkipping line 14083303: expected 28 fields, saw 41\\nSkipping line 14083304: expected 28 fields, saw 41\\nSkipping line 14083305: expected 28 fields, saw 41\\nSkipping line 14083306: expected 28 fields, saw 41\\nSkipping line 14083307: expected 28 fields, saw 41\\nSkipping line 14083308: expected 28 fields, saw 41\\nSkipping line 14083309: expected 28 fields, saw 41\\nSkipping line 14083310: expected 28 fields, saw 41\\nSkipping line 14083311: expected 28 fields, saw 41\\nSkipping line 14083312: expected 28 fields, saw 41\\nSkipping line 14083313: expected 28 fields, saw 41\\nSkipping line 14083314: expected 28 fields, saw 41\\nSkipping line 14083315: expected 28 fields, saw 41\\nSkipping line 14083316: expected 28 fields, saw 41\\nSkipping line 14083317: expected 28 fields, saw 41\\nSkipping line 14083318: expected 28 fields, saw 41\\nSkipping line 14083319: expected 28 fields, saw 41\\nSkipping line 14083320: expected 28 fields, saw 41\\nSkipping line 14083321: expected 28 fields, saw 41\\nSkipping line 14083322: expected 28 fields, saw 41\\nSkipping line 14083323: expected 28 fields, saw 41\\nSkipping line 14083324: expected 28 fields, saw 41\\nSkipping line 14083325: expected 28 fields, saw 41\\nSkipping line 14083326: expected 28 fields, saw 41\\nSkipping line 14083327: expected 28 fields, saw 41\\nSkipping line 14083328: expected 28 fields, saw 41\\nSkipping line 14083329: expected 28 fields, saw 41\\nSkipping line 14083330: expected 28 fields, saw 41\\nSkipping line 14083331: expected 28 fields, saw 41\\nSkipping line 14083332: expected 28 fields, saw 41\\nSkipping line 14083333: expected 28 fields, saw 41\\nSkipping line 14083334: expected 28 fields, saw 41\\nSkipping line 14083335: expected 28 fields, saw 41\\nSkipping line 14083336: expected 28 fields, saw 41\\nSkipping line 14083337: expected 28 fields, saw 41\\nSkipping line 14083338: expected 28 fields, saw 41\\nSkipping line 14083339: expected 28 fields, saw 41\\nSkipping line 14083340: expected 28 fields, saw 41\\nSkipping line 14083341: expected 28 fields, saw 41\\nSkipping line 14083342: expected 28 fields, saw 41\\nSkipping line 14083343: expected 28 fields, saw 41\\nSkipping line 14083344: expected 28 fields, saw 41\\nSkipping line 14083345: expected 28 fields, saw 41\\nSkipping line 14083346: expected 28 fields, saw 41\\nSkipping line 14083347: expected 28 fields, saw 41\\nSkipping line 14083348: expected 28 fields, saw 41\\nSkipping line 14083349: expected 28 fields, saw 41\\nSkipping line 14083350: expected 28 fields, saw 41\\nSkipping line 14083351: expected 28 fields, saw 41\\nSkipping line 14083352: expected 28 fields, saw 41\\nSkipping line 14083353: expected 28 fields, saw 41\\nSkipping line 14083354: expected 28 fields, saw 41\\nSkipping line 14083355: expected 28 fields, saw 41\\nSkipping line 14083356: expected 28 fields, saw 41\\nSkipping line 14083357: expected 28 fields, saw 41\\nSkipping line 14083358: expected 28 fields, saw 41\\nSkipping line 14083359: expected 28 fields, saw 41\\nSkipping line 14083360: expected 28 fields, saw 41\\nSkipping line 14083361: expected 28 fields, saw 41\\nSkipping line 14083362: expected 28 fields, saw 41\\nSkipping line 14083363: expected 28 fields, saw 41\\nSkipping line 14083364: expected 28 fields, saw 41\\nSkipping line 14083365: expected 28 fields, saw 41\\nSkipping line 14083366: expected 28 fields, saw 41\\nSkipping line 14083367: expected 28 fields, saw 41\\nSkipping line 14083368: expected 28 fields, saw 41\\nSkipping line 14083369: expected 28 fields, saw 41\\nSkipping line 14083370: expected 28 fields, saw 41\\nSkipping line 14083371: expected 28 fields, saw 41\\nSkipping line 14083372: expected 28 fields, saw 41\\nSkipping line 14083373: expected 28 fields, saw 41\\nSkipping line 14083374: expected 28 fields, saw 41\\nSkipping line 14083375: expected 28 fields, saw 41\\nSkipping line 14083376: expected 28 fields, saw 41\\nSkipping line 14083377: expected 28 fields, saw 41\\nSkipping line 14083378: expected 28 fields, saw 41\\nSkipping line 14083379: expected 28 fields, saw 41\\nSkipping line 14083380: expected 28 fields, saw 41\\nSkipping line 14083381: expected 28 fields, saw 41\\nSkipping line 14083382: expected 28 fields, saw 41\\nSkipping line 14083383: expected 28 fields, saw 41\\nSkipping line 14083384: expected 28 fields, saw 41\\nSkipping line 14083385: expected 28 fields, saw 41\\nSkipping line 14083386: expected 28 fields, saw 41\\nSkipping line 14083387: expected 28 fields, saw 41\\nSkipping line 14083388: expected 28 fields, saw 41\\nSkipping line 14083389: expected 28 fields, saw 41\\nSkipping line 14083390: expected 28 fields, saw 41\\nSkipping line 14083391: expected 28 fields, saw 41\\nSkipping line 14083392: expected 28 fields, saw 41\\nSkipping line 14083393: expected 28 fields, saw 41\\nSkipping line 14083394: expected 28 fields, saw 41\\nSkipping line 14083395: expected 28 fields, saw 41\\nSkipping line 14083396: expected 28 fields, saw 41\\nSkipping line 14083397: expected 28 fields, saw 41\\nSkipping line 14083398: expected 28 fields, saw 41\\nSkipping line 14083399: expected 28 fields, saw 41\\nSkipping line 14083400: expected 28 fields, saw 41\\nSkipping line 14083401: expected 28 fields, saw 41\\nSkipping line 14083402: expected 28 fields, saw 41\\nSkipping line 14083403: expected 28 fields, saw 41\\nSkipping line 14083404: expected 28 fields, saw 41\\nSkipping line 14083405: expected 28 fields, saw 41\\nSkipping line 14083406: expected 28 fields, saw 41\\nSkipping line 14083407: expected 28 fields, saw 41\\nSkipping line 14083408: expected 28 fields, saw 41\\nSkipping line 14083409: expected 28 fields, saw 41\\nSkipping line 14083410: expected 28 fields, saw 41\\nSkipping line 14083411: expected 28 fields, saw 41\\nSkipping line 14083412: expected 28 fields, saw 41\\nSkipping line 14083413: expected 28 fields, saw 41\\nSkipping line 14083414: expected 28 fields, saw 41\\nSkipping line 14083415: expected 28 fields, saw 41\\nSkipping line 14083416: expected 28 fields, saw 41\\nSkipping line 14083417: expected 28 fields, saw 41\\nSkipping line 14083418: expected 28 fields, saw 41\\nSkipping line 14083419: expected 28 fields, saw 41\\nSkipping line 14083420: expected 28 fields, saw 41\\nSkipping line 14083421: expected 28 fields, saw 41\\nSkipping line 14083422: expected 28 fields, saw 41\\nSkipping line 14083423: expected 28 fields, saw 41\\nSkipping line 14083424: expected 28 fields, saw 41\\nSkipping line 14083425: expected 28 fields, saw 41\\nSkipping line 14083426: expected 28 fields, saw 41\\nSkipping line 14083427: expected 28 fields, saw 41\\nSkipping line 14085614: expected 28 fields, saw 37\\nSkipping line 14085615: expected 28 fields, saw 37\\nSkipping line 14085616: expected 28 fields, saw 37\\nSkipping line 14085617: expected 28 fields, saw 37\\nSkipping line 14085618: expected 28 fields, saw 37\\nSkipping line 14085619: expected 28 fields, saw 37\\nSkipping line 14085620: expected 28 fields, saw 37\\nSkipping line 14085621: expected 28 fields, saw 37\\nSkipping line 14085622: expected 28 fields, saw 37\\nSkipping line 14085623: expected 28 fields, saw 37\\nSkipping line 14085624: expected 28 fields, saw 37\\nSkipping line 14085625: expected 28 fields, saw 37\\nSkipping line 14085626: expected 28 fields, saw 37\\nSkipping line 14085627: expected 28 fields, saw 37\\nSkipping line 14085628: expected 28 fields, saw 37\\nSkipping line 14085629: expected 28 fields, saw 37\\nSkipping line 14085630: expected 28 fields, saw 37\\nSkipping line 14085631: expected 28 fields, saw 37\\nSkipping line 14085632: expected 28 fields, saw 37\\nSkipping line 14085633: expected 28 fields, saw 37\\nSkipping line 14085634: expected 28 fields, saw 37\\nSkipping line 14085635: expected 28 fields, saw 37\\nSkipping line 14085636: expected 28 fields, saw 37\\nSkipping line 14085793: expected 28 fields, saw 45\\nSkipping line 14085794: expected 28 fields, saw 45\\nSkipping line 14085795: expected 28 fields, saw 45\\nSkipping line 14085796: expected 28 fields, saw 45\\nSkipping line 14085797: expected 28 fields, saw 45\\nSkipping line 14085798: expected 28 fields, saw 45\\nSkipping line 14085799: expected 28 fields, saw 45\\nSkipping line 14085800: expected 28 fields, saw 45\\nSkipping line 14085801: expected 28 fields, saw 45\\nSkipping line 14085802: expected 28 fields, saw 45\\nSkipping line 14087053: expected 28 fields, saw 50\\nSkipping line 14087054: expected 28 fields, saw 50\\nSkipping line 14087055: expected 28 fields, saw 50\\nSkipping line 14087056: expected 28 fields, saw 50\\nSkipping line 14087057: expected 28 fields, saw 50\\nSkipping line 14087058: expected 28 fields, saw 50\\nSkipping line 14087059: expected 28 fields, saw 50\\nSkipping line 14087060: expected 28 fields, saw 50\\nSkipping line 14087061: expected 28 fields, saw 50\\nSkipping line 14087062: expected 28 fields, saw 50\\nSkipping line 14087063: expected 28 fields, saw 50\\nSkipping line 14087064: expected 28 fields, saw 50\\nSkipping line 14087065: expected 28 fields, saw 50\\nSkipping line 14087066: expected 28 fields, saw 50\\nSkipping line 14087067: expected 28 fields, saw 50\\nSkipping line 14087068: expected 28 fields, saw 50\\nSkipping line 14087069: expected 28 fields, saw 50\\nSkipping line 14087070: expected 28 fields, saw 50\\nSkipping line 14087071: expected 28 fields, saw 50\\nSkipping line 14087072: expected 28 fields, saw 50\\nSkipping line 14087073: expected 28 fields, saw 50\\nSkipping line 14087074: expected 28 fields, saw 50\\nSkipping line 14087075: expected 28 fields, saw 50\\nSkipping line 14087076: expected 28 fields, saw 50\\nSkipping line 14087077: expected 28 fields, saw 50\\nSkipping line 14087078: expected 28 fields, saw 50\\nSkipping line 14087079: expected 28 fields, saw 50\\nSkipping line 14087080: expected 28 fields, saw 50\\nSkipping line 14087081: expected 28 fields, saw 50\\nSkipping line 14087082: expected 28 fields, saw 50\\nSkipping line 14087083: expected 28 fields, saw 50\\nSkipping line 14087084: expected 28 fields, saw 50\\nSkipping line 14087085: expected 28 fields, saw 50\\nSkipping line 14087086: expected 28 fields, saw 50\\nSkipping line 14087087: expected 28 fields, saw 50\\nSkipping line 14087088: expected 28 fields, saw 50\\nSkipping line 14087089: expected 28 fields, saw 50\\nSkipping line 14087090: expected 28 fields, saw 50\\nSkipping line 14087091: expected 28 fields, saw 50\\nSkipping line 14087092: expected 28 fields, saw 50\\nSkipping line 14087093: expected 28 fields, saw 50\\nSkipping line 14087094: expected 28 fields, saw 50\\nSkipping line 14087095: expected 28 fields, saw 50\\nSkipping line 14087096: expected 28 fields, saw 50\\nSkipping line 14087097: expected 28 fields, saw 50\\nSkipping line 14087098: expected 28 fields, saw 50\\nSkipping line 14087099: expected 28 fields, saw 50\\nSkipping line 14087100: expected 28 fields, saw 50\\nSkipping line 14087130: expected 28 fields, saw 50\\nSkipping line 14087131: expected 28 fields, saw 50\\nSkipping line 14087132: expected 28 fields, saw 50\\nSkipping line 14087133: expected 28 fields, saw 50\\nSkipping line 14087134: expected 28 fields, saw 50\\nSkipping line 14087135: expected 28 fields, saw 50\\nSkipping line 14087136: expected 28 fields, saw 50\\nSkipping line 14087137: expected 28 fields, saw 50\\nSkipping line 14087138: expected 28 fields, saw 50\\nSkipping line 14087139: expected 28 fields, saw 50\\nSkipping line 14087140: expected 28 fields, saw 50\\nSkipping line 14087141: expected 28 fields, saw 50\\nSkipping line 14087142: expected 28 fields, saw 50\\nSkipping line 14087143: expected 28 fields, saw 50\\nSkipping line 14087144: expected 28 fields, saw 50\\nSkipping line 14087145: expected 28 fields, saw 50\\nSkipping line 14087146: expected 28 fields, saw 50\\nSkipping line 14087147: expected 28 fields, saw 50\\nSkipping line 14087148: expected 28 fields, saw 50\\nSkipping line 14087149: expected 28 fields, saw 50\\nSkipping line 14087150: expected 28 fields, saw 50\\nSkipping line 14087151: expected 28 fields, saw 50\\nSkipping line 14087152: expected 28 fields, saw 50\\nSkipping line 14087153: expected 28 fields, saw 50\\nSkipping line 14087183: expected 28 fields, saw 50\\nSkipping line 14087184: expected 28 fields, saw 50\\nSkipping line 14087185: expected 28 fields, saw 50\\nSkipping line 14087186: expected 28 fields, saw 50\\nSkipping line 14087187: expected 28 fields, saw 50\\nSkipping line 14087188: expected 28 fields, saw 50\\nSkipping line 14087189: expected 28 fields, saw 50\\nSkipping line 14087190: expected 28 fields, saw 50\\nSkipping line 14087191: expected 28 fields, saw 50\\nSkipping line 14087192: expected 28 fields, saw 50\\nSkipping line 14087193: expected 28 fields, saw 50\\nSkipping line 14087194: expected 28 fields, saw 50\\nSkipping line 14087195: expected 28 fields, saw 50\\nSkipping line 14087196: expected 28 fields, saw 50\\nSkipping line 14087197: expected 28 fields, saw 50\\nSkipping line 14087198: expected 28 fields, saw 50\\nSkipping line 14087199: expected 28 fields, saw 50\\nSkipping line 14087200: expected 28 fields, saw 50\\nSkipping line 14087201: expected 28 fields, saw 50\\nSkipping line 14087202: expected 28 fields, saw 50\\nSkipping line 14087203: expected 28 fields, saw 50\\nSkipping line 14087204: expected 28 fields, saw 50\\nSkipping line 14087205: expected 28 fields, saw 50\\nSkipping line 14087206: expected 28 fields, saw 50\\nSkipping line 14087236: expected 28 fields, saw 50\\nSkipping line 14087237: expected 28 fields, saw 50\\nSkipping line 14087238: expected 28 fields, saw 50\\nSkipping line 14087239: expected 28 fields, saw 50\\nSkipping line 14087240: expected 28 fields, saw 50\\nSkipping line 14087241: expected 28 fields, saw 50\\nSkipping line 14087242: expected 28 fields, saw 50\\nSkipping line 14087243: expected 28 fields, saw 50\\nSkipping line 14087244: expected 28 fields, saw 50\\nSkipping line 14087245: expected 28 fields, saw 50\\nSkipping line 14087246: expected 28 fields, saw 50\\nSkipping line 14087247: expected 28 fields, saw 50\\nSkipping line 14087248: expected 28 fields, saw 50\\nSkipping line 14087249: expected 28 fields, saw 50\\nSkipping line 14087250: expected 28 fields, saw 50\\nSkipping line 14087251: expected 28 fields, saw 50\\nSkipping line 14087252: expected 28 fields, saw 50\\nSkipping line 14087253: expected 28 fields, saw 50\\nSkipping line 14087254: expected 28 fields, saw 50\\nSkipping line 14087255: expected 28 fields, saw 50\\nSkipping line 14087256: expected 28 fields, saw 50\\nSkipping line 14087257: expected 28 fields, saw 50\\nSkipping line 14087258: expected 28 fields, saw 50\\nSkipping line 14087259: expected 28 fields, saw 50\\nSkipping line 14087289: expected 28 fields, saw 50\\nSkipping line 14087290: expected 28 fields, saw 50\\nSkipping line 14087291: expected 28 fields, saw 50\\nSkipping line 14087292: expected 28 fields, saw 50\\nSkipping line 14087293: expected 28 fields, saw 50\\nSkipping line 14087294: expected 28 fields, saw 50\\nSkipping line 14087295: expected 28 fields, saw 50\\nSkipping line 14087296: expected 28 fields, saw 50\\nSkipping line 14087297: expected 28 fields, saw 50\\nSkipping line 14087298: expected 28 fields, saw 50\\nSkipping line 14087299: expected 28 fields, saw 50\\nSkipping line 14087300: expected 28 fields, saw 50\\nSkipping line 14087301: expected 28 fields, saw 50\\nSkipping line 14087302: expected 28 fields, saw 50\\nSkipping line 14087303: expected 28 fields, saw 50\\nSkipping line 14087304: expected 28 fields, saw 50\\nSkipping line 14087305: expected 28 fields, saw 50\\nSkipping line 14087306: expected 28 fields, saw 50\\nSkipping line 14087307: expected 28 fields, saw 50\\nSkipping line 14087308: expected 28 fields, saw 50\\nSkipping line 14087309: expected 28 fields, saw 50\\nSkipping line 14087310: expected 28 fields, saw 50\\nSkipping line 14087311: expected 28 fields, saw 50\\nSkipping line 14087312: expected 28 fields, saw 50\\nSkipping line 14092096: expected 28 fields, saw 37\\nSkipping line 14092097: expected 28 fields, saw 37\\nSkipping line 14092098: expected 28 fields, saw 37\\nSkipping line 14092099: expected 28 fields, saw 37\\nSkipping line 14092100: expected 28 fields, saw 37\\nSkipping line 14092101: expected 28 fields, saw 37\\nSkipping line 14092102: expected 28 fields, saw 37\\nSkipping line 14092103: expected 28 fields, saw 37\\nSkipping line 14092104: expected 28 fields, saw 37\\nSkipping line 14092105: expected 28 fields, saw 37\\nSkipping line 14092106: expected 28 fields, saw 37\\nSkipping line 14092107: expected 28 fields, saw 37\\nSkipping line 14092108: expected 28 fields, saw 37\\nSkipping line 14092109: expected 28 fields, saw 37\\nSkipping line 14092110: expected 28 fields, saw 37\\nSkipping line 14092111: expected 28 fields, saw 37\\nSkipping line 14092112: expected 28 fields, saw 37\\nSkipping line 14092113: expected 28 fields, saw 37\\nSkipping line 14092114: expected 28 fields, saw 37\\nSkipping line 14092115: expected 28 fields, saw 37\\nSkipping line 14092116: expected 28 fields, saw 37\\nSkipping line 14092117: expected 28 fields, saw 37\\nSkipping line 14092118: expected 28 fields, saw 37\\nSkipping line 14092119: expected 28 fields, saw 37\\nSkipping line 14092120: expected 28 fields, saw 37\\nSkipping line 14092121: expected 28 fields, saw 37\\nSkipping line 14092122: expected 28 fields, saw 37\\nSkipping line 14092123: expected 28 fields, saw 37\\nSkipping line 14092124: expected 28 fields, saw 37\\nSkipping line 14092125: expected 28 fields, saw 37\\nSkipping line 14092126: expected 28 fields, saw 37\\nSkipping line 14092127: expected 28 fields, saw 37\\nSkipping line 14092128: expected 28 fields, saw 37\\nSkipping line 14092129: expected 28 fields, saw 37\\nSkipping line 14092130: expected 28 fields, saw 37\\nSkipping line 14092131: expected 28 fields, saw 37\\nSkipping line 14092132: expected 28 fields, saw 37\\nSkipping line 14092133: expected 28 fields, saw 37\\nSkipping line 14092134: expected 28 fields, saw 37\\nSkipping line 14092135: expected 28 fields, saw 37\\nSkipping line 14092136: expected 28 fields, saw 37\\nSkipping line 14092137: expected 28 fields, saw 37\\nSkipping line 14092138: expected 28 fields, saw 37\\nSkipping line 14092139: expected 28 fields, saw 37\\nSkipping line 14092140: expected 28 fields, saw 37\\nSkipping line 14092141: expected 28 fields, saw 37\\nSkipping line 14092142: expected 28 fields, saw 37\\nSkipping line 14092143: expected 28 fields, saw 37\\nSkipping line 14092144: expected 28 fields, saw 37\\nSkipping line 14092145: expected 28 fields, saw 37\\nSkipping line 14092146: expected 28 fields, saw 37\\nSkipping line 14092147: expected 28 fields, saw 37\\nSkipping line 14092148: expected 28 fields, saw 37\\nSkipping line 14092149: expected 28 fields, saw 37\\nSkipping line 14092150: expected 28 fields, saw 37\\nSkipping line 14092151: expected 28 fields, saw 37\\nSkipping line 14092152: expected 28 fields, saw 37\\nSkipping line 14092153: expected 28 fields, saw 37\\nSkipping line 14092154: expected 28 fields, saw 37\\nSkipping line 14092155: expected 28 fields, saw 37\\nSkipping line 14092156: expected 28 fields, saw 37\\nSkipping line 14092157: expected 28 fields, saw 37\\nSkipping line 14092158: expected 28 fields, saw 37\\nSkipping line 14092159: expected 28 fields, saw 37\\nSkipping line 14092160: expected 28 fields, saw 37\\nSkipping line 14092161: expected 28 fields, saw 37\\nSkipping line 14092162: expected 28 fields, saw 37\\nSkipping line 14092163: expected 28 fields, saw 37\\nSkipping line 14092164: expected 28 fields, saw 37\\nSkipping line 14092165: expected 28 fields, saw 37\\nSkipping line 14092166: expected 28 fields, saw 37\\nSkipping line 14092167: expected 28 fields, saw 37\\nSkipping line 14092168: expected 28 fields, saw 37\\nSkipping line 14092169: expected 28 fields, saw 37\\nSkipping line 14092170: expected 28 fields, saw 37\\nSkipping line 14092171: expected 28 fields, saw 37\\nSkipping line 14092172: expected 28 fields, saw 37\\nSkipping line 14092173: expected 28 fields, saw 37\\nSkipping line 14092174: expected 28 fields, saw 37\\nSkipping line 14092175: expected 28 fields, saw 37\\nSkipping line 14092176: expected 28 fields, saw 37\\nSkipping line 14092177: expected 28 fields, saw 37\\nSkipping line 14092178: expected 28 fields, saw 37\\nSkipping line 14092179: expected 28 fields, saw 37\\nSkipping line 14092180: expected 28 fields, saw 37\\nSkipping line 14092181: expected 28 fields, saw 37\\nSkipping line 14092182: expected 28 fields, saw 37\\nSkipping line 14092183: expected 28 fields, saw 37\\nSkipping line 14092184: expected 28 fields, saw 37\\nSkipping line 14092185: expected 28 fields, saw 37\\nSkipping line 14092186: expected 28 fields, saw 37\\nSkipping line 14092187: expected 28 fields, saw 37\\nSkipping line 14092188: expected 28 fields, saw 37\\nSkipping line 14092189: expected 28 fields, saw 37\\nSkipping line 14092190: expected 28 fields, saw 37\\nSkipping line 14092191: expected 28 fields, saw 37\\nSkipping line 14092192: expected 28 fields, saw 37\\nSkipping line 14092193: expected 28 fields, saw 37\\nSkipping line 14092194: expected 28 fields, saw 37\\nSkipping line 14092195: expected 28 fields, saw 37\\nSkipping line 14092196: expected 28 fields, saw 37\\nSkipping line 14092197: expected 28 fields, saw 37\\nSkipping line 14092198: expected 28 fields, saw 37\\nSkipping line 14092199: expected 28 fields, saw 37\\nSkipping line 14092200: expected 28 fields, saw 37\\nSkipping line 14092201: expected 28 fields, saw 37\\nSkipping line 14092202: expected 28 fields, saw 37\\nSkipping line 14092203: expected 28 fields, saw 37\\nSkipping line 14092204: expected 28 fields, saw 37\\nSkipping line 14092205: expected 28 fields, saw 37\\nSkipping line 14092206: expected 28 fields, saw 37\\nSkipping line 14092207: expected 28 fields, saw 37\\nSkipping line 14092208: expected 28 fields, saw 37\\nSkipping line 14092209: expected 28 fields, saw 37\\nSkipping line 14092210: expected 28 fields, saw 37\\nSkipping line 14092211: expected 28 fields, saw 37\\nSkipping line 14092212: expected 28 fields, saw 37\\nSkipping line 14092213: expected 28 fields, saw 37\\nSkipping line 14092214: expected 28 fields, saw 37\\nSkipping line 14092215: expected 28 fields, saw 37\\nSkipping line 14092216: expected 28 fields, saw 37\\nSkipping line 14092217: expected 28 fields, saw 37\\nSkipping line 14092218: expected 28 fields, saw 37\\nSkipping line 14092219: expected 28 fields, saw 37\\nSkipping line 14092220: expected 28 fields, saw 37\\nSkipping line 14092221: expected 28 fields, saw 37\\nSkipping line 14092222: expected 28 fields, saw 37\\nSkipping line 14092223: expected 28 fields, saw 37\\nSkipping line 14092224: expected 28 fields, saw 37\\nSkipping line 14092225: expected 28 fields, saw 37\\nSkipping line 14092226: expected 28 fields, saw 37\\nSkipping line 14092227: expected 28 fields, saw 37\\nSkipping line 14092228: expected 28 fields, saw 37\\nSkipping line 14092229: expected 28 fields, saw 37\\nSkipping line 14092230: expected 28 fields, saw 37\\nSkipping line 14092231: expected 28 fields, saw 37\\nSkipping line 14092232: expected 28 fields, saw 37\\nSkipping line 14092233: expected 28 fields, saw 37\\nSkipping line 14092234: expected 28 fields, saw 37\\nSkipping line 14092235: expected 28 fields, saw 37\\nSkipping line 14092236: expected 28 fields, saw 37\\nSkipping line 14092237: expected 28 fields, saw 37\\nSkipping line 14092238: expected 28 fields, saw 37\\nSkipping line 14092239: expected 28 fields, saw 37\\nSkipping line 14092240: expected 28 fields, saw 37\\nSkipping line 14092241: expected 28 fields, saw 37\\nSkipping line 14092242: expected 28 fields, saw 37\\nSkipping line 14092243: expected 28 fields, saw 37\\nSkipping line 14092244: expected 28 fields, saw 37\\nSkipping line 14092245: expected 28 fields, saw 37\\nSkipping line 14092246: expected 28 fields, saw 37\\nSkipping line 14092247: expected 28 fields, saw 37\\nSkipping line 14092248: expected 28 fields, saw 37\\nSkipping line 14092249: expected 28 fields, saw 37\\nSkipping line 14092250: expected 28 fields, saw 37\\nSkipping line 14092251: expected 28 fields, saw 37\\nSkipping line 14092252: expected 28 fields, saw 37\\nSkipping line 14092253: expected 28 fields, saw 37\\nSkipping line 14092254: expected 28 fields, saw 37\\nSkipping line 14092255: expected 28 fields, saw 37\\nSkipping line 14092256: expected 28 fields, saw 37\\nSkipping line 14092257: expected 28 fields, saw 37\\nSkipping line 14092258: expected 28 fields, saw 37\\nSkipping line 14092259: expected 28 fields, saw 37\\nSkipping line 14092260: expected 28 fields, saw 37\\nSkipping line 14092261: expected 28 fields, saw 37\\nSkipping line 14092262: expected 28 fields, saw 37\\nSkipping line 14092263: expected 28 fields, saw 37\\nSkipping line 14092264: expected 28 fields, saw 37\\nSkipping line 14092265: expected 28 fields, saw 37\\nSkipping line 14092266: expected 28 fields, saw 37\\nSkipping line 14092267: expected 28 fields, saw 37\\nSkipping line 14092268: expected 28 fields, saw 37\\nSkipping line 14092269: expected 28 fields, saw 37\\nSkipping line 14092270: expected 28 fields, saw 37\\nSkipping line 14092271: expected 28 fields, saw 37\\nSkipping line 14092272: expected 28 fields, saw 37\\nSkipping line 14092273: expected 28 fields, saw 37\\nSkipping line 14092274: expected 28 fields, saw 37\\nSkipping line 14092275: expected 28 fields, saw 37\\nSkipping line 14092276: expected 28 fields, saw 37\\nSkipping line 14092277: expected 28 fields, saw 37\\nSkipping line 14092278: expected 28 fields, saw 37\\nSkipping line 14092279: expected 28 fields, saw 37\\nSkipping line 14092280: expected 28 fields, saw 37\\nSkipping line 14092281: expected 28 fields, saw 37\\nSkipping line 14092282: expected 28 fields, saw 37\\nSkipping line 14092283: expected 28 fields, saw 37\\nSkipping line 14092284: expected 28 fields, saw 37\\nSkipping line 14092285: expected 28 fields, saw 37\\nSkipping line 14092286: expected 28 fields, saw 37\\nSkipping line 14092287: expected 28 fields, saw 37\\nSkipping line 14092288: expected 28 fields, saw 37\\nSkipping line 14092289: expected 28 fields, saw 37\\nSkipping line 14092290: expected 28 fields, saw 37\\nSkipping line 14092291: expected 28 fields, saw 37\\nSkipping line 14092292: expected 28 fields, saw 37\\nSkipping line 14092293: expected 28 fields, saw 37\\nSkipping line 14092294: expected 28 fields, saw 37\\nSkipping line 14092295: expected 28 fields, saw 37\\nSkipping line 14092296: expected 28 fields, saw 37\\nSkipping line 14092297: expected 28 fields, saw 37\\nSkipping line 14092298: expected 28 fields, saw 37\\nSkipping line 14092299: expected 28 fields, saw 37\\nSkipping line 14092300: expected 28 fields, saw 37\\nSkipping line 14092301: expected 28 fields, saw 37\\nSkipping line 14092302: expected 28 fields, saw 37\\nSkipping line 14092303: expected 28 fields, saw 37\\nSkipping line 14092304: expected 28 fields, saw 37\\nSkipping line 14092305: expected 28 fields, saw 37\\nSkipping line 14092306: expected 28 fields, saw 37\\nSkipping line 14092307: expected 28 fields, saw 37\\nSkipping line 14092308: expected 28 fields, saw 37\\nSkipping line 14092309: expected 28 fields, saw 37\\nSkipping line 14092310: expected 28 fields, saw 37\\nSkipping line 14092311: expected 28 fields, saw 37\\nSkipping line 14092312: expected 28 fields, saw 37\\nSkipping line 14092313: expected 28 fields, saw 37\\nSkipping line 14092314: expected 28 fields, saw 37\\nSkipping line 14092315: expected 28 fields, saw 37\\nSkipping line 14092316: expected 28 fields, saw 37\\n'\n",
      "b'Skipping line 19737396: expected 28 fields, saw 39\\nSkipping line 19737397: expected 28 fields, saw 39\\nSkipping line 19737398: expected 28 fields, saw 39\\nSkipping line 19737399: expected 28 fields, saw 39\\nSkipping line 19737400: expected 28 fields, saw 39\\nSkipping line 19737401: expected 28 fields, saw 39\\nSkipping line 19737402: expected 28 fields, saw 39\\nSkipping line 19737403: expected 28 fields, saw 39\\nSkipping line 19737404: expected 28 fields, saw 39\\nSkipping line 19737405: expected 28 fields, saw 39\\nSkipping line 19737406: expected 28 fields, saw 39\\nSkipping line 19737407: expected 28 fields, saw 39\\nSkipping line 19737408: expected 28 fields, saw 39\\nSkipping line 19737409: expected 28 fields, saw 39\\nSkipping line 19737410: expected 28 fields, saw 39\\nSkipping line 19737411: expected 28 fields, saw 39\\nSkipping line 19737412: expected 28 fields, saw 39\\nSkipping line 19737413: expected 28 fields, saw 39\\nSkipping line 19737414: expected 28 fields, saw 39\\nSkipping line 19737415: expected 28 fields, saw 39\\nSkipping line 19737416: expected 28 fields, saw 39\\nSkipping line 19737417: expected 28 fields, saw 39\\nSkipping line 19737418: expected 28 fields, saw 39\\nSkipping line 19737419: expected 28 fields, saw 39\\nSkipping line 19737420: expected 28 fields, saw 39\\nSkipping line 19737421: expected 28 fields, saw 39\\nSkipping line 19737422: expected 28 fields, saw 39\\nSkipping line 19737423: expected 28 fields, saw 39\\nSkipping line 19737424: expected 28 fields, saw 39\\nSkipping line 19737425: expected 28 fields, saw 39\\nSkipping line 19737426: expected 28 fields, saw 39\\nSkipping line 19737427: expected 28 fields, saw 39\\nSkipping line 19737428: expected 28 fields, saw 39\\nSkipping line 19737429: expected 28 fields, saw 39\\nSkipping line 19737430: expected 28 fields, saw 39\\nSkipping line 19737431: expected 28 fields, saw 39\\nSkipping line 19737432: expected 28 fields, saw 39\\nSkipping line 19737433: expected 28 fields, saw 39\\nSkipping line 19737434: expected 28 fields, saw 39\\nSkipping line 19737435: expected 28 fields, saw 39\\nSkipping line 19737436: expected 28 fields, saw 39\\nSkipping line 19737437: expected 28 fields, saw 39\\nSkipping line 19737438: expected 28 fields, saw 39\\nSkipping line 19737439: expected 28 fields, saw 39\\nSkipping line 19737440: expected 28 fields, saw 39\\nSkipping line 19737441: expected 28 fields, saw 39\\nSkipping line 19737442: expected 28 fields, saw 39\\nSkipping line 19737443: expected 28 fields, saw 39\\nSkipping line 19737444: expected 28 fields, saw 39\\nSkipping line 19737445: expected 28 fields, saw 39\\nSkipping line 19737446: expected 28 fields, saw 39\\nSkipping line 19737447: expected 28 fields, saw 39\\nSkipping line 19737448: expected 28 fields, saw 39\\nSkipping line 19737449: expected 28 fields, saw 39\\nSkipping line 19737450: expected 28 fields, saw 39\\nSkipping line 19737451: expected 28 fields, saw 39\\nSkipping line 19737452: expected 28 fields, saw 39\\nSkipping line 19737453: expected 28 fields, saw 39\\nSkipping line 19737454: expected 28 fields, saw 39\\nSkipping line 19737455: expected 28 fields, saw 39\\nSkipping line 19737456: expected 28 fields, saw 39\\nSkipping line 19737457: expected 28 fields, saw 39\\nSkipping line 19737458: expected 28 fields, saw 39\\nSkipping line 19737459: expected 28 fields, saw 39\\nSkipping line 19737460: expected 28 fields, saw 39\\nSkipping line 19737461: expected 28 fields, saw 39\\nSkipping line 19737462: expected 28 fields, saw 39\\nSkipping line 19737463: expected 28 fields, saw 39\\nSkipping line 19737464: expected 28 fields, saw 39\\nSkipping line 19737465: expected 28 fields, saw 39\\nSkipping line 19737466: expected 28 fields, saw 39\\nSkipping line 19737467: expected 28 fields, saw 39\\nSkipping line 19737468: expected 28 fields, saw 39\\nSkipping line 19737469: expected 28 fields, saw 39\\nSkipping line 19737470: expected 28 fields, saw 39\\nSkipping line 19737471: expected 28 fields, saw 39\\nSkipping line 19737472: expected 28 fields, saw 39\\nSkipping line 19737473: expected 28 fields, saw 39\\nSkipping line 19737474: expected 28 fields, saw 39\\nSkipping line 19737475: expected 28 fields, saw 39\\nSkipping line 19737476: expected 28 fields, saw 39\\nSkipping line 19737477: expected 28 fields, saw 39\\nSkipping line 19737478: expected 28 fields, saw 39\\nSkipping line 19737479: expected 28 fields, saw 39\\nSkipping line 19737480: expected 28 fields, saw 39\\nSkipping line 19737481: expected 28 fields, saw 39\\nSkipping line 19737482: expected 28 fields, saw 39\\nSkipping line 19737483: expected 28 fields, saw 39\\nSkipping line 19737484: expected 28 fields, saw 39\\nSkipping line 19737485: expected 28 fields, saw 39\\nSkipping line 19737486: expected 28 fields, saw 39\\nSkipping line 19737487: expected 28 fields, saw 39\\nSkipping line 19737488: expected 28 fields, saw 39\\nSkipping line 19738111: expected 28 fields, saw 31\\nSkipping line 19738112: expected 28 fields, saw 31\\nSkipping line 19738113: expected 28 fields, saw 31\\nSkipping line 19738114: expected 28 fields, saw 31\\nSkipping line 19738115: expected 28 fields, saw 31\\nSkipping line 19738116: expected 28 fields, saw 31\\nSkipping line 19738117: expected 28 fields, saw 31\\nSkipping line 19738118: expected 28 fields, saw 31\\nSkipping line 19738119: expected 28 fields, saw 31\\nSkipping line 19738120: expected 28 fields, saw 31\\nSkipping line 19738121: expected 28 fields, saw 31\\nSkipping line 19738122: expected 28 fields, saw 31\\nSkipping line 19738123: expected 28 fields, saw 31\\nSkipping line 19738139: expected 28 fields, saw 31\\nSkipping line 19738140: expected 28 fields, saw 31\\nSkipping line 19738141: expected 28 fields, saw 31\\nSkipping line 19738142: expected 28 fields, saw 31\\nSkipping line 19738143: expected 28 fields, saw 31\\nSkipping line 19738144: expected 28 fields, saw 31\\nSkipping line 19738145: expected 28 fields, saw 31\\nSkipping line 19738146: expected 28 fields, saw 31\\nSkipping line 19738147: expected 28 fields, saw 31\\nSkipping line 19738148: expected 28 fields, saw 31\\nSkipping line 19738149: expected 28 fields, saw 31\\nSkipping line 19738150: expected 28 fields, saw 31\\nSkipping line 19738151: expected 28 fields, saw 31\\nSkipping line 19738152: expected 28 fields, saw 31\\nSkipping line 19738153: expected 28 fields, saw 31\\nSkipping line 19738154: expected 28 fields, saw 31\\nSkipping line 19738155: expected 28 fields, saw 31\\nSkipping line 19738156: expected 28 fields, saw 31\\nSkipping line 19738157: expected 28 fields, saw 31\\nSkipping line 19738158: expected 28 fields, saw 31\\nSkipping line 19738159: expected 28 fields, saw 31\\nSkipping line 19738160: expected 28 fields, saw 31\\nSkipping line 19738161: expected 28 fields, saw 31\\nSkipping line 19738162: expected 28 fields, saw 31\\nSkipping line 19738163: expected 28 fields, saw 31\\nSkipping line 19738164: expected 28 fields, saw 31\\nSkipping line 19738165: expected 28 fields, saw 31\\nSkipping line 19738166: expected 28 fields, saw 31\\nSkipping line 19738167: expected 28 fields, saw 31\\nSkipping line 19738168: expected 28 fields, saw 31\\nSkipping line 19738169: expected 28 fields, saw 31\\nSkipping line 19738170: expected 28 fields, saw 31\\nSkipping line 19738171: expected 28 fields, saw 31\\nSkipping line 19738172: expected 28 fields, saw 31\\nSkipping line 19738173: expected 28 fields, saw 31\\nSkipping line 19738174: expected 28 fields, saw 31\\nSkipping line 19738175: expected 28 fields, saw 31\\nSkipping line 19738176: expected 28 fields, saw 31\\nSkipping line 19738177: expected 28 fields, saw 31\\nSkipping line 19738178: expected 28 fields, saw 31\\nSkipping line 19738179: expected 28 fields, saw 31\\nSkipping line 19738180: expected 28 fields, saw 31\\nSkipping line 19738181: expected 28 fields, saw 31\\nSkipping line 19738182: expected 28 fields, saw 31\\nSkipping line 19738183: expected 28 fields, saw 31\\nSkipping line 19738184: expected 28 fields, saw 31\\nSkipping line 19738185: expected 28 fields, saw 31\\nSkipping line 19738186: expected 28 fields, saw 31\\nSkipping line 19738187: expected 28 fields, saw 31\\nSkipping line 19738188: expected 28 fields, saw 31\\nSkipping line 19738189: expected 28 fields, saw 31\\nSkipping line 19738190: expected 28 fields, saw 31\\nSkipping line 19738191: expected 28 fields, saw 31\\nSkipping line 19744412: expected 28 fields, saw 30\\nSkipping line 19744413: expected 28 fields, saw 30\\nSkipping line 19744414: expected 28 fields, saw 30\\nSkipping line 19744415: expected 28 fields, saw 30\\nSkipping line 19744416: expected 28 fields, saw 30\\nSkipping line 19744417: expected 28 fields, saw 30\\nSkipping line 19744418: expected 28 fields, saw 30\\nSkipping line 19744419: expected 28 fields, saw 30\\nSkipping line 19744420: expected 28 fields, saw 30\\nSkipping line 19744421: expected 28 fields, saw 30\\nSkipping line 19744422: expected 28 fields, saw 30\\nSkipping line 19744423: expected 28 fields, saw 30\\nSkipping line 19744424: expected 28 fields, saw 30\\nSkipping line 19744425: expected 28 fields, saw 30\\nSkipping line 19744426: expected 28 fields, saw 30\\nSkipping line 19744427: expected 28 fields, saw 30\\nSkipping line 19744428: expected 28 fields, saw 30\\nSkipping line 19744429: expected 28 fields, saw 30\\nSkipping line 19744430: expected 28 fields, saw 30\\nSkipping line 19744431: expected 28 fields, saw 30\\nSkipping line 19744432: expected 28 fields, saw 30\\nSkipping line 19744433: expected 28 fields, saw 30\\nSkipping line 19744434: expected 28 fields, saw 30\\nSkipping line 19744435: expected 28 fields, saw 30\\nSkipping line 19744436: expected 28 fields, saw 30\\nSkipping line 19744437: expected 28 fields, saw 30\\nSkipping line 19744438: expected 28 fields, saw 30\\nSkipping line 19744439: expected 28 fields, saw 30\\nSkipping line 19744440: expected 28 fields, saw 30\\nSkipping line 19744441: expected 28 fields, saw 30\\nSkipping line 19744442: expected 28 fields, saw 30\\nSkipping line 19744443: expected 28 fields, saw 30\\nSkipping line 19744444: expected 28 fields, saw 30\\nSkipping line 19744577: expected 28 fields, saw 34\\nSkipping line 19744578: expected 28 fields, saw 34\\nSkipping line 19744579: expected 28 fields, saw 34\\nSkipping line 19744580: expected 28 fields, saw 34\\nSkipping line 19744581: expected 28 fields, saw 34\\nSkipping line 19744582: expected 28 fields, saw 34\\nSkipping line 19744583: expected 28 fields, saw 34\\nSkipping line 19744584: expected 28 fields, saw 34\\nSkipping line 19744585: expected 28 fields, saw 34\\nSkipping line 19744586: expected 28 fields, saw 34\\nSkipping line 19744587: expected 28 fields, saw 34\\nSkipping line 19744588: expected 28 fields, saw 34\\nSkipping line 19744589: expected 28 fields, saw 34\\n'\n",
      "b'Skipping line 19766085: expected 28 fields, saw 31\\nSkipping line 19766086: expected 28 fields, saw 31\\nSkipping line 19766087: expected 28 fields, saw 31\\nSkipping line 19766088: expected 28 fields, saw 31\\nSkipping line 19766089: expected 28 fields, saw 31\\n'\n",
      "b'Skipping line 19855963: expected 28 fields, saw 29\\nSkipping line 19855964: expected 28 fields, saw 29\\nSkipping line 19855965: expected 28 fields, saw 29\\nSkipping line 19855966: expected 28 fields, saw 29\\nSkipping line 19855967: expected 28 fields, saw 29\\nSkipping line 19855968: expected 28 fields, saw 29\\nSkipping line 19855969: expected 28 fields, saw 29\\nSkipping line 19855970: expected 28 fields, saw 29\\nSkipping line 19855971: expected 28 fields, saw 29\\nSkipping line 19855972: expected 28 fields, saw 29\\nSkipping line 19855973: expected 28 fields, saw 29\\nSkipping line 19855974: expected 28 fields, saw 29\\nSkipping line 19855975: expected 28 fields, saw 29\\nSkipping line 19855976: expected 28 fields, saw 29\\nSkipping line 19855977: expected 28 fields, saw 29\\nSkipping line 19855978: expected 28 fields, saw 29\\nSkipping line 19855979: expected 28 fields, saw 29\\nSkipping line 19855980: expected 28 fields, saw 29\\nSkipping line 19855981: expected 28 fields, saw 29\\nSkipping line 19855982: expected 28 fields, saw 29\\nSkipping line 19855983: expected 28 fields, saw 29\\nSkipping line 19855984: expected 28 fields, saw 29\\nSkipping line 19855985: expected 28 fields, saw 29\\nSkipping line 19855986: expected 28 fields, saw 29\\nSkipping line 19855987: expected 28 fields, saw 29\\nSkipping line 19855988: expected 28 fields, saw 29\\nSkipping line 19855989: expected 28 fields, saw 29\\nSkipping line 19855990: expected 28 fields, saw 29\\nSkipping line 19855991: expected 28 fields, saw 29\\nSkipping line 19855992: expected 28 fields, saw 29\\nSkipping line 19855993: expected 28 fields, saw 29\\nSkipping line 19855994: expected 28 fields, saw 29\\nSkipping line 19855995: expected 28 fields, saw 29\\nSkipping line 19855996: expected 28 fields, saw 29\\nSkipping line 19855997: expected 28 fields, saw 29\\nSkipping line 19855998: expected 28 fields, saw 29\\nSkipping line 19855999: expected 28 fields, saw 29\\nSkipping line 19856000: expected 28 fields, saw 29\\nSkipping line 19857044: expected 28 fields, saw 33\\nSkipping line 19857045: expected 28 fields, saw 33\\nSkipping line 19857046: expected 28 fields, saw 33\\nSkipping line 19857047: expected 28 fields, saw 33\\nSkipping line 19857048: expected 28 fields, saw 33\\nSkipping line 19857049: expected 28 fields, saw 33\\nSkipping line 19857050: expected 28 fields, saw 33\\nSkipping line 19857051: expected 28 fields, saw 33\\nSkipping line 19857052: expected 28 fields, saw 33\\nSkipping line 19857053: expected 28 fields, saw 33\\nSkipping line 19857054: expected 28 fields, saw 33\\nSkipping line 19857055: expected 28 fields, saw 33\\nSkipping line 19857056: expected 28 fields, saw 33\\nSkipping line 19857057: expected 28 fields, saw 33\\nSkipping line 19857058: expected 28 fields, saw 33\\nSkipping line 19857059: expected 28 fields, saw 33\\nSkipping line 19857060: expected 28 fields, saw 33\\nSkipping line 19857061: expected 28 fields, saw 33\\nSkipping line 19857062: expected 28 fields, saw 33\\nSkipping line 19857063: expected 28 fields, saw 33\\nSkipping line 19857064: expected 28 fields, saw 33\\nSkipping line 19857065: expected 28 fields, saw 33\\nSkipping line 19857066: expected 28 fields, saw 33\\nSkipping line 19857067: expected 28 fields, saw 33\\nSkipping line 19857068: expected 28 fields, saw 33\\nSkipping line 19857069: expected 28 fields, saw 33\\nSkipping line 19857070: expected 28 fields, saw 33\\nSkipping line 19857071: expected 28 fields, saw 33\\nSkipping line 19857072: expected 28 fields, saw 33\\nSkipping line 19857073: expected 28 fields, saw 33\\nSkipping line 19857074: expected 28 fields, saw 33\\nSkipping line 19857075: expected 28 fields, saw 33\\nSkipping line 19857076: expected 28 fields, saw 33\\nSkipping line 19857077: expected 28 fields, saw 33\\nSkipping line 19857078: expected 28 fields, saw 33\\nSkipping line 19857079: expected 28 fields, saw 33\\nSkipping line 19857080: expected 28 fields, saw 33\\nSkipping line 19858680: expected 28 fields, saw 29\\nSkipping line 19858681: expected 28 fields, saw 29\\nSkipping line 19858682: expected 28 fields, saw 29\\nSkipping line 19858683: expected 28 fields, saw 29\\nSkipping line 19858684: expected 28 fields, saw 29\\nSkipping line 19858685: expected 28 fields, saw 29\\nSkipping line 19858686: expected 28 fields, saw 29\\nSkipping line 19858687: expected 28 fields, saw 29\\nSkipping line 19858688: expected 28 fields, saw 29\\nSkipping line 19858689: expected 28 fields, saw 29\\nSkipping line 19858690: expected 28 fields, saw 29\\nSkipping line 19858691: expected 28 fields, saw 29\\nSkipping line 19858692: expected 28 fields, saw 29\\nSkipping line 19858693: expected 28 fields, saw 29\\nSkipping line 19858694: expected 28 fields, saw 29\\nSkipping line 19858695: expected 28 fields, saw 29\\nSkipping line 19858696: expected 28 fields, saw 29\\nSkipping line 19858697: expected 28 fields, saw 29\\nSkipping line 19858698: expected 28 fields, saw 29\\nSkipping line 19858699: expected 28 fields, saw 29\\nSkipping line 19858700: expected 28 fields, saw 29\\nSkipping line 19858701: expected 28 fields, saw 29\\nSkipping line 19858702: expected 28 fields, saw 29\\nSkipping line 19858703: expected 28 fields, saw 29\\nSkipping line 19858704: expected 28 fields, saw 29\\nSkipping line 19858705: expected 28 fields, saw 29\\nSkipping line 19858706: expected 28 fields, saw 29\\nSkipping line 19858707: expected 28 fields, saw 29\\nSkipping line 19858708: expected 28 fields, saw 29\\nSkipping line 19858709: expected 28 fields, saw 29\\nSkipping line 19858710: expected 28 fields, saw 29\\nSkipping line 19858711: expected 28 fields, saw 29\\nSkipping line 19858712: expected 28 fields, saw 29\\nSkipping line 19858713: expected 28 fields, saw 29\\nSkipping line 19858714: expected 28 fields, saw 29\\nSkipping line 19858715: expected 28 fields, saw 29\\nSkipping line 19858716: expected 28 fields, saw 29\\nSkipping line 19858717: expected 28 fields, saw 29\\nSkipping line 19858718: expected 28 fields, saw 29\\nSkipping line 19858719: expected 28 fields, saw 29\\nSkipping line 19858720: expected 28 fields, saw 29\\nSkipping line 19858721: expected 28 fields, saw 29\\nSkipping line 19858722: expected 28 fields, saw 29\\nSkipping line 19858723: expected 28 fields, saw 29\\nSkipping line 19858724: expected 28 fields, saw 29\\nSkipping line 19858725: expected 28 fields, saw 29\\nSkipping line 19858726: expected 28 fields, saw 29\\nSkipping line 19858727: expected 28 fields, saw 29\\nSkipping line 19858728: expected 28 fields, saw 29\\nSkipping line 19858729: expected 28 fields, saw 29\\nSkipping line 19858730: expected 28 fields, saw 29\\nSkipping line 19858731: expected 28 fields, saw 29\\nSkipping line 19858732: expected 28 fields, saw 29\\nSkipping line 19858733: expected 28 fields, saw 29\\nSkipping line 19858734: expected 28 fields, saw 29\\nSkipping line 19858735: expected 28 fields, saw 29\\nSkipping line 19858736: expected 28 fields, saw 29\\nSkipping line 19858737: expected 28 fields, saw 29\\nSkipping line 19858738: expected 28 fields, saw 29\\nSkipping line 19858739: expected 28 fields, saw 29\\nSkipping line 19858740: expected 28 fields, saw 29\\nSkipping line 19858741: expected 28 fields, saw 29\\nSkipping line 19858742: expected 28 fields, saw 29\\nSkipping line 19858743: expected 28 fields, saw 29\\nSkipping line 19858744: expected 28 fields, saw 29\\nSkipping line 19858745: expected 28 fields, saw 29\\nSkipping line 19858746: expected 28 fields, saw 29\\nSkipping line 19858747: expected 28 fields, saw 29\\nSkipping line 19858748: expected 28 fields, saw 29\\nSkipping line 19858749: expected 28 fields, saw 29\\nSkipping line 19858750: expected 28 fields, saw 29\\nSkipping line 19858751: expected 28 fields, saw 29\\nSkipping line 19858752: expected 28 fields, saw 29\\nSkipping line 19858753: expected 28 fields, saw 29\\nSkipping line 19858754: expected 28 fields, saw 29\\nSkipping line 19858755: expected 28 fields, saw 29\\nSkipping line 19858756: expected 28 fields, saw 29\\nSkipping line 19858757: expected 28 fields, saw 29\\nSkipping line 19858758: expected 28 fields, saw 29\\nSkipping line 19858759: expected 28 fields, saw 29\\n'\n",
      "b'Skipping line 19871346: expected 28 fields, saw 34\\nSkipping line 19871347: expected 28 fields, saw 34\\nSkipping line 19871348: expected 28 fields, saw 34\\nSkipping line 19871349: expected 28 fields, saw 34\\nSkipping line 19871350: expected 28 fields, saw 34\\nSkipping line 19871351: expected 28 fields, saw 34\\nSkipping line 19871352: expected 28 fields, saw 34\\nSkipping line 19871353: expected 28 fields, saw 34\\nSkipping line 19871354: expected 28 fields, saw 34\\nSkipping line 19871355: expected 28 fields, saw 34\\nSkipping line 19871356: expected 28 fields, saw 34\\nSkipping line 19871357: expected 28 fields, saw 34\\nSkipping line 19871358: expected 28 fields, saw 34\\nSkipping line 19871359: expected 28 fields, saw 34\\nSkipping line 19871360: expected 28 fields, saw 34\\nSkipping line 19871361: expected 28 fields, saw 34\\nSkipping line 19871362: expected 28 fields, saw 34\\nSkipping line 19871363: expected 28 fields, saw 34\\nSkipping line 19871364: expected 28 fields, saw 34\\nSkipping line 19871365: expected 28 fields, saw 34\\nSkipping line 19871366: expected 28 fields, saw 34\\nSkipping line 19871898: expected 28 fields, saw 33\\nSkipping line 19871899: expected 28 fields, saw 33\\nSkipping line 19871900: expected 28 fields, saw 33\\nSkipping line 19871901: expected 28 fields, saw 33\\nSkipping line 19871902: expected 28 fields, saw 33\\nSkipping line 19871903: expected 28 fields, saw 33\\nSkipping line 19871904: expected 28 fields, saw 33\\nSkipping line 19871905: expected 28 fields, saw 33\\nSkipping line 19871906: expected 28 fields, saw 33\\nSkipping line 19871907: expected 28 fields, saw 33\\nSkipping line 19871908: expected 28 fields, saw 33\\nSkipping line 19871909: expected 28 fields, saw 33\\nSkipping line 19871910: expected 28 fields, saw 33\\nSkipping line 19871911: expected 28 fields, saw 33\\nSkipping line 19871912: expected 28 fields, saw 33\\nSkipping line 19871913: expected 28 fields, saw 33\\nSkipping line 19871914: expected 28 fields, saw 33\\nSkipping line 19871915: expected 28 fields, saw 33\\nSkipping line 19871916: expected 28 fields, saw 33\\nSkipping line 19871917: expected 28 fields, saw 33\\nSkipping line 19871918: expected 28 fields, saw 33\\nSkipping line 19871919: expected 28 fields, saw 33\\nSkipping line 19871920: expected 28 fields, saw 33\\nSkipping line 19871921: expected 28 fields, saw 33\\nSkipping line 19871922: expected 28 fields, saw 33\\nSkipping line 19871923: expected 28 fields, saw 33\\nSkipping line 19871924: expected 28 fields, saw 33\\nSkipping line 19871925: expected 28 fields, saw 33\\nSkipping line 19871926: expected 28 fields, saw 33\\nSkipping line 19871927: expected 28 fields, saw 33\\nSkipping line 19871928: expected 28 fields, saw 33\\nSkipping line 19871929: expected 28 fields, saw 33\\nSkipping line 19871930: expected 28 fields, saw 33\\nSkipping line 19871931: expected 28 fields, saw 33\\nSkipping line 19871932: expected 28 fields, saw 33\\nSkipping line 19871933: expected 28 fields, saw 33\\nSkipping line 19871934: expected 28 fields, saw 33\\nSkipping line 19871935: expected 28 fields, saw 33\\nSkipping line 19871936: expected 28 fields, saw 33\\nSkipping line 19871937: expected 28 fields, saw 33\\nSkipping line 19871938: expected 28 fields, saw 33\\nSkipping line 19871939: expected 28 fields, saw 33\\nSkipping line 19871940: expected 28 fields, saw 33\\nSkipping line 19871941: expected 28 fields, saw 33\\nSkipping line 19871942: expected 28 fields, saw 33\\nSkipping line 19871943: expected 28 fields, saw 33\\nSkipping line 19871944: expected 28 fields, saw 33\\nSkipping line 19871945: expected 28 fields, saw 33\\nSkipping line 19871946: expected 28 fields, saw 33\\nSkipping line 19871947: expected 28 fields, saw 33\\nSkipping line 19871948: expected 28 fields, saw 33\\nSkipping line 19871949: expected 28 fields, saw 33\\nSkipping line 19871950: expected 28 fields, saw 33\\nSkipping line 19871951: expected 28 fields, saw 33\\nSkipping line 19871952: expected 28 fields, saw 33\\nSkipping line 19871953: expected 28 fields, saw 33\\nSkipping line 19871954: expected 28 fields, saw 33\\nSkipping line 19871955: expected 28 fields, saw 33\\nSkipping line 19871956: expected 28 fields, saw 33\\nSkipping line 19871957: expected 28 fields, saw 33\\nSkipping line 19871958: expected 28 fields, saw 33\\nSkipping line 19871959: expected 28 fields, saw 33\\nSkipping line 19871960: expected 28 fields, saw 33\\nSkipping line 19871961: expected 28 fields, saw 33\\nSkipping line 19871962: expected 28 fields, saw 33\\nSkipping line 19871963: expected 28 fields, saw 33\\nSkipping line 19871964: expected 28 fields, saw 33\\nSkipping line 19871965: expected 28 fields, saw 33\\nSkipping line 19871966: expected 28 fields, saw 33\\nSkipping line 19871967: expected 28 fields, saw 33\\nSkipping line 19871968: expected 28 fields, saw 33\\nSkipping line 19871969: expected 28 fields, saw 33\\nSkipping line 19871970: expected 28 fields, saw 33\\nSkipping line 19871971: expected 28 fields, saw 33\\nSkipping line 19871972: expected 28 fields, saw 33\\nSkipping line 19871973: expected 28 fields, saw 33\\nSkipping line 19871974: expected 28 fields, saw 33\\nSkipping line 19871975: expected 28 fields, saw 33\\nSkipping line 19871976: expected 28 fields, saw 33\\nSkipping line 19871977: expected 28 fields, saw 33\\nSkipping line 19871978: expected 28 fields, saw 33\\nSkipping line 19871979: expected 28 fields, saw 33\\nSkipping line 19871980: expected 28 fields, saw 33\\nSkipping line 19871981: expected 28 fields, saw 33\\nSkipping line 19871982: expected 28 fields, saw 33\\nSkipping line 19871983: expected 28 fields, saw 33\\nSkipping line 19871984: expected 28 fields, saw 33\\nSkipping line 19871985: expected 28 fields, saw 33\\nSkipping line 19871986: expected 28 fields, saw 33\\nSkipping line 19871987: expected 28 fields, saw 33\\nSkipping line 19871988: expected 28 fields, saw 33\\nSkipping line 19871989: expected 28 fields, saw 33\\nSkipping line 19871990: expected 28 fields, saw 33\\nSkipping line 19871991: expected 28 fields, saw 33\\nSkipping line 19871992: expected 28 fields, saw 33\\nSkipping line 19871993: expected 28 fields, saw 33\\nSkipping line 19871994: expected 28 fields, saw 33\\nSkipping line 19871995: expected 28 fields, saw 33\\nSkipping line 19871996: expected 28 fields, saw 33\\nSkipping line 19871997: expected 28 fields, saw 33\\nSkipping line 19871998: expected 28 fields, saw 33\\nSkipping line 19871999: expected 28 fields, saw 33\\nSkipping line 19872000: expected 28 fields, saw 33\\nSkipping line 19872001: expected 28 fields, saw 33\\nSkipping line 19872002: expected 28 fields, saw 33\\nSkipping line 19872003: expected 28 fields, saw 33\\nSkipping line 19872004: expected 28 fields, saw 33\\nSkipping line 19872005: expected 28 fields, saw 33\\nSkipping line 19872006: expected 28 fields, saw 33\\nSkipping line 19872007: expected 28 fields, saw 33\\nSkipping line 19872008: expected 28 fields, saw 33\\nSkipping line 19872009: expected 28 fields, saw 33\\nSkipping line 19872010: expected 28 fields, saw 33\\nSkipping line 19872011: expected 28 fields, saw 33\\nSkipping line 19872012: expected 28 fields, saw 33\\nSkipping line 19872013: expected 28 fields, saw 33\\nSkipping line 19872014: expected 28 fields, saw 33\\nSkipping line 19872015: expected 28 fields, saw 33\\nSkipping line 19872016: expected 28 fields, saw 33\\nSkipping line 19872017: expected 28 fields, saw 33\\nSkipping line 19872018: expected 28 fields, saw 33\\nSkipping line 19872019: expected 28 fields, saw 33\\nSkipping line 19872020: expected 28 fields, saw 33\\nSkipping line 19872021: expected 28 fields, saw 33\\nSkipping line 19872022: expected 28 fields, saw 33\\nSkipping line 19872023: expected 28 fields, saw 33\\nSkipping line 19872024: expected 28 fields, saw 33\\nSkipping line 19872025: expected 28 fields, saw 33\\nSkipping line 19872026: expected 28 fields, saw 33\\nSkipping line 19872027: expected 28 fields, saw 33\\nSkipping line 19872028: expected 28 fields, saw 33\\nSkipping line 19872029: expected 28 fields, saw 33\\nSkipping line 19872030: expected 28 fields, saw 33\\nSkipping line 19872031: expected 28 fields, saw 33\\nSkipping line 19872032: expected 28 fields, saw 33\\nSkipping line 19872033: expected 28 fields, saw 33\\nSkipping line 19872034: expected 28 fields, saw 33\\nSkipping line 19872035: expected 28 fields, saw 33\\nSkipping line 19872036: expected 28 fields, saw 33\\nSkipping line 19872037: expected 28 fields, saw 33\\nSkipping line 19872038: expected 28 fields, saw 33\\nSkipping line 19872039: expected 28 fields, saw 33\\nSkipping line 19872040: expected 28 fields, saw 33\\nSkipping line 19872041: expected 28 fields, saw 33\\nSkipping line 19872042: expected 28 fields, saw 33\\nSkipping line 19872043: expected 28 fields, saw 33\\nSkipping line 19872044: expected 28 fields, saw 33\\nSkipping line 19872045: expected 28 fields, saw 33\\nSkipping line 19872046: expected 28 fields, saw 33\\nSkipping line 19872047: expected 28 fields, saw 33\\nSkipping line 19872048: expected 28 fields, saw 33\\nSkipping line 19872049: expected 28 fields, saw 33\\nSkipping line 19872050: expected 28 fields, saw 33\\nSkipping line 19872051: expected 28 fields, saw 33\\nSkipping line 19872052: expected 28 fields, saw 33\\nSkipping line 19872053: expected 28 fields, saw 33\\nSkipping line 19872054: expected 28 fields, saw 33\\nSkipping line 19872055: expected 28 fields, saw 33\\nSkipping line 19872056: expected 28 fields, saw 33\\nSkipping line 19872057: expected 28 fields, saw 33\\nSkipping line 19872058: expected 28 fields, saw 33\\nSkipping line 19872059: expected 28 fields, saw 33\\nSkipping line 19872060: expected 28 fields, saw 33\\nSkipping line 19872061: expected 28 fields, saw 33\\nSkipping line 19872062: expected 28 fields, saw 33\\nSkipping line 19872063: expected 28 fields, saw 33\\nSkipping line 19872064: expected 28 fields, saw 33\\nSkipping line 19872065: expected 28 fields, saw 33\\nSkipping line 19872066: expected 28 fields, saw 33\\nSkipping line 19872067: expected 28 fields, saw 33\\nSkipping line 19872068: expected 28 fields, saw 33\\nSkipping line 19872069: expected 28 fields, saw 33\\nSkipping line 19872070: expected 28 fields, saw 33\\nSkipping line 19872071: expected 28 fields, saw 33\\nSkipping line 19872072: expected 28 fields, saw 33\\nSkipping line 19872073: expected 28 fields, saw 33\\nSkipping line 19872074: expected 28 fields, saw 33\\nSkipping line 19872075: expected 28 fields, saw 33\\nSkipping line 19872076: expected 28 fields, saw 33\\nSkipping line 19872077: expected 28 fields, saw 33\\nSkipping line 19872078: expected 28 fields, saw 33\\nSkipping line 19872079: expected 28 fields, saw 33\\nSkipping line 19872080: expected 28 fields, saw 33\\nSkipping line 19872081: expected 28 fields, saw 33\\nSkipping line 19872082: expected 28 fields, saw 33\\nSkipping line 19872083: expected 28 fields, saw 33\\nSkipping line 19872084: expected 28 fields, saw 33\\nSkipping line 19872085: expected 28 fields, saw 33\\nSkipping line 19872086: expected 28 fields, saw 33\\nSkipping line 19872087: expected 28 fields, saw 33\\nSkipping line 19872088: expected 28 fields, saw 33\\nSkipping line 19872089: expected 28 fields, saw 33\\nSkipping line 19872090: expected 28 fields, saw 33\\nSkipping line 19872091: expected 28 fields, saw 33\\nSkipping line 19872092: expected 28 fields, saw 33\\nSkipping line 19872093: expected 28 fields, saw 33\\nSkipping line 19872094: expected 28 fields, saw 33\\nSkipping line 19872095: expected 28 fields, saw 33\\nSkipping line 19872096: expected 28 fields, saw 33\\nSkipping line 19872097: expected 28 fields, saw 33\\nSkipping line 19872098: expected 28 fields, saw 33\\nSkipping line 19872099: expected 28 fields, saw 33\\nSkipping line 19872100: expected 28 fields, saw 33\\nSkipping line 19872101: expected 28 fields, saw 33\\nSkipping line 19872102: expected 28 fields, saw 33\\nSkipping line 19872103: expected 28 fields, saw 33\\nSkipping line 19872104: expected 28 fields, saw 33\\nSkipping line 19872105: expected 28 fields, saw 33\\nSkipping line 19872106: expected 28 fields, saw 33\\nSkipping line 19872107: expected 28 fields, saw 33\\nSkipping line 19872108: expected 28 fields, saw 33\\nSkipping line 19872109: expected 28 fields, saw 33\\nSkipping line 19872110: expected 28 fields, saw 33\\nSkipping line 19872111: expected 28 fields, saw 33\\nSkipping line 19872112: expected 28 fields, saw 33\\nSkipping line 19872113: expected 28 fields, saw 33\\nSkipping line 19872114: expected 28 fields, saw 33\\nSkipping line 19872115: expected 28 fields, saw 33\\nSkipping line 19872116: expected 28 fields, saw 33\\nSkipping line 19872117: expected 28 fields, saw 33\\nSkipping line 19872118: expected 28 fields, saw 33\\nSkipping line 19872119: expected 28 fields, saw 33\\nSkipping line 19872120: expected 28 fields, saw 33\\nSkipping line 19872121: expected 28 fields, saw 33\\nSkipping line 19872122: expected 28 fields, saw 33\\nSkipping line 19872123: expected 28 fields, saw 33\\nSkipping line 19872124: expected 28 fields, saw 33\\nSkipping line 19872125: expected 28 fields, saw 33\\nSkipping line 19872126: expected 28 fields, saw 33\\nSkipping line 19872127: expected 28 fields, saw 33\\nSkipping line 19872128: expected 28 fields, saw 33\\nSkipping line 19872129: expected 28 fields, saw 33\\nSkipping line 19872130: expected 28 fields, saw 33\\nSkipping line 19872131: expected 28 fields, saw 33\\nSkipping line 19872132: expected 28 fields, saw 33\\nSkipping line 19872133: expected 28 fields, saw 33\\nSkipping line 19872134: expected 28 fields, saw 33\\nSkipping line 19872135: expected 28 fields, saw 33\\nSkipping line 19872136: expected 28 fields, saw 33\\nSkipping line 19872137: expected 28 fields, saw 33\\nSkipping line 19872138: expected 28 fields, saw 33\\nSkipping line 19872139: expected 28 fields, saw 33\\nSkipping line 19872140: expected 28 fields, saw 33\\nSkipping line 19872141: expected 28 fields, saw 33\\nSkipping line 19872142: expected 28 fields, saw 33\\nSkipping line 19872143: expected 28 fields, saw 33\\nSkipping line 19873561: expected 28 fields, saw 42\\nSkipping line 19873562: expected 28 fields, saw 42\\nSkipping line 19873563: expected 28 fields, saw 42\\nSkipping line 19873564: expected 28 fields, saw 42\\nSkipping line 19873565: expected 28 fields, saw 42\\nSkipping line 19873566: expected 28 fields, saw 42\\nSkipping line 19873567: expected 28 fields, saw 42\\nSkipping line 19873568: expected 28 fields, saw 42\\nSkipping line 19873569: expected 28 fields, saw 42\\nSkipping line 19873570: expected 28 fields, saw 42\\nSkipping line 19873571: expected 28 fields, saw 42\\nSkipping line 19873572: expected 28 fields, saw 42\\nSkipping line 19873573: expected 28 fields, saw 42\\nSkipping line 19873574: expected 28 fields, saw 42\\nSkipping line 19873575: expected 28 fields, saw 42\\nSkipping line 19873576: expected 28 fields, saw 42\\nSkipping line 19873577: expected 28 fields, saw 42\\nSkipping line 19873578: expected 28 fields, saw 42\\nSkipping line 19873579: expected 28 fields, saw 42\\nSkipping line 19873580: expected 28 fields, saw 42\\nSkipping line 19873581: expected 28 fields, saw 42\\nSkipping line 19873582: expected 28 fields, saw 42\\nSkipping line 19873583: expected 28 fields, saw 42\\nSkipping line 19873584: expected 28 fields, saw 42\\nSkipping line 19873585: expected 28 fields, saw 42\\nSkipping line 19873586: expected 28 fields, saw 42\\nSkipping line 19873587: expected 28 fields, saw 42\\nSkipping line 19873588: expected 28 fields, saw 42\\nSkipping line 19873589: expected 28 fields, saw 42\\nSkipping line 19873590: expected 28 fields, saw 42\\nSkipping line 19873591: expected 28 fields, saw 42\\nSkipping line 19873592: expected 28 fields, saw 42\\nSkipping line 19873593: expected 28 fields, saw 42\\nSkipping line 19873594: expected 28 fields, saw 42\\nSkipping line 19873595: expected 28 fields, saw 42\\nSkipping line 19873596: expected 28 fields, saw 42\\nSkipping line 19873597: expected 28 fields, saw 42\\nSkipping line 19873598: expected 28 fields, saw 42\\nSkipping line 19873599: expected 28 fields, saw 42\\nSkipping line 19873600: expected 28 fields, saw 42\\nSkipping line 19873601: expected 28 fields, saw 42\\nSkipping line 19873602: expected 28 fields, saw 42\\nSkipping line 19873603: expected 28 fields, saw 42\\nSkipping line 19873604: expected 28 fields, saw 42\\nSkipping line 19873605: expected 28 fields, saw 42\\nSkipping line 19873606: expected 28 fields, saw 42\\nSkipping line 19873607: expected 28 fields, saw 42\\nSkipping line 19873608: expected 28 fields, saw 42\\nSkipping line 19873609: expected 28 fields, saw 42\\nSkipping line 19873610: expected 28 fields, saw 42\\nSkipping line 19873611: expected 28 fields, saw 42\\nSkipping line 19873612: expected 28 fields, saw 42\\nSkipping line 19873613: expected 28 fields, saw 42\\nSkipping line 19873614: expected 28 fields, saw 42\\nSkipping line 19873615: expected 28 fields, saw 42\\nSkipping line 19873616: expected 28 fields, saw 42\\nSkipping line 19873617: expected 28 fields, saw 42\\nSkipping line 19873618: expected 28 fields, saw 42\\nSkipping line 19873619: expected 28 fields, saw 42\\nSkipping line 19873620: expected 28 fields, saw 42\\nSkipping line 19873621: expected 28 fields, saw 42\\nSkipping line 19873622: expected 28 fields, saw 42\\nSkipping line 19873623: expected 28 fields, saw 42\\nSkipping line 19873624: expected 28 fields, saw 42\\nSkipping line 19873625: expected 28 fields, saw 42\\nSkipping line 19873626: expected 28 fields, saw 42\\nSkipping line 19873627: expected 28 fields, saw 42\\nSkipping line 19873628: expected 28 fields, saw 42\\nSkipping line 19873629: expected 28 fields, saw 42\\nSkipping line 19873630: expected 28 fields, saw 42\\nSkipping line 19873631: expected 28 fields, saw 42\\nSkipping line 19873632: expected 28 fields, saw 42\\nSkipping line 19873633: expected 28 fields, saw 42\\nSkipping line 19873634: expected 28 fields, saw 42\\nSkipping line 19873635: expected 28 fields, saw 42\\nSkipping line 19873636: expected 28 fields, saw 42\\nSkipping line 19873637: expected 28 fields, saw 42\\nSkipping line 19873638: expected 28 fields, saw 42\\nSkipping line 19873639: expected 28 fields, saw 42\\nSkipping line 19873640: expected 28 fields, saw 42\\nSkipping line 19873641: expected 28 fields, saw 42\\nSkipping line 19873642: expected 28 fields, saw 42\\nSkipping line 19873643: expected 28 fields, saw 42\\nSkipping line 19873644: expected 28 fields, saw 42\\nSkipping line 19873645: expected 28 fields, saw 42\\nSkipping line 19873646: expected 28 fields, saw 42\\nSkipping line 19873647: expected 28 fields, saw 42\\nSkipping line 19873648: expected 28 fields, saw 42\\nSkipping line 19873649: expected 28 fields, saw 42\\nSkipping line 19873650: expected 28 fields, saw 42\\nSkipping line 19873651: expected 28 fields, saw 42\\nSkipping line 19873652: expected 28 fields, saw 42\\nSkipping line 19873653: expected 28 fields, saw 42\\nSkipping line 19873654: expected 28 fields, saw 42\\nSkipping line 19873655: expected 28 fields, saw 42\\nSkipping line 19873656: expected 28 fields, saw 42\\nSkipping line 19873657: expected 28 fields, saw 42\\nSkipping line 19873658: expected 28 fields, saw 42\\nSkipping line 19873659: expected 28 fields, saw 42\\nSkipping line 19873660: expected 28 fields, saw 42\\nSkipping line 19873661: expected 28 fields, saw 42\\nSkipping line 19873662: expected 28 fields, saw 42\\nSkipping line 19873663: expected 28 fields, saw 42\\nSkipping line 19873664: expected 28 fields, saw 42\\nSkipping line 19873665: expected 28 fields, saw 42\\nSkipping line 19873666: expected 28 fields, saw 42\\nSkipping line 19873667: expected 28 fields, saw 42\\nSkipping line 19873668: expected 28 fields, saw 42\\nSkipping line 19873669: expected 28 fields, saw 42\\nSkipping line 19873670: expected 28 fields, saw 42\\nSkipping line 19873671: expected 28 fields, saw 42\\nSkipping line 19875657: expected 28 fields, saw 33\\nSkipping line 19875658: expected 28 fields, saw 33\\nSkipping line 19875659: expected 28 fields, saw 33\\nSkipping line 19875660: expected 28 fields, saw 33\\nSkipping line 19875661: expected 28 fields, saw 33\\nSkipping line 19875662: expected 28 fields, saw 33\\nSkipping line 19875663: expected 28 fields, saw 33\\nSkipping line 19875664: expected 28 fields, saw 33\\nSkipping line 19875665: expected 28 fields, saw 33\\nSkipping line 19875666: expected 28 fields, saw 33\\nSkipping line 19875667: expected 28 fields, saw 33\\nSkipping line 19875668: expected 28 fields, saw 33\\nSkipping line 19875669: expected 28 fields, saw 33\\nSkipping line 19875670: expected 28 fields, saw 33\\nSkipping line 19875671: expected 28 fields, saw 33\\nSkipping line 19875672: expected 28 fields, saw 33\\nSkipping line 19875673: expected 28 fields, saw 33\\nSkipping line 19875674: expected 28 fields, saw 33\\nSkipping line 19875675: expected 28 fields, saw 33\\nSkipping line 19875804: expected 28 fields, saw 36\\nSkipping line 19875805: expected 28 fields, saw 36\\nSkipping line 19875806: expected 28 fields, saw 36\\nSkipping line 19875807: expected 28 fields, saw 36\\nSkipping line 19875808: expected 28 fields, saw 36\\nSkipping line 19875809: expected 28 fields, saw 36\\nSkipping line 19875810: expected 28 fields, saw 36\\nSkipping line 19875811: expected 28 fields, saw 36\\nSkipping line 19875812: expected 28 fields, saw 36\\nSkipping line 19875813: expected 28 fields, saw 36\\nSkipping line 19875814: expected 28 fields, saw 36\\nSkipping line 19875815: expected 28 fields, saw 36\\nSkipping line 19875816: expected 28 fields, saw 36\\nSkipping line 19875817: expected 28 fields, saw 36\\nSkipping line 19875818: expected 28 fields, saw 36\\nSkipping line 19875819: expected 28 fields, saw 36\\nSkipping line 19875820: expected 28 fields, saw 36\\nSkipping line 19875821: expected 28 fields, saw 36\\nSkipping line 19875822: expected 28 fields, saw 36\\nSkipping line 19875823: expected 28 fields, saw 36\\nSkipping line 19875824: expected 28 fields, saw 36\\nSkipping line 19875825: expected 28 fields, saw 36\\nSkipping line 19875826: expected 28 fields, saw 36\\nSkipping line 19875827: expected 28 fields, saw 36\\nSkipping line 19875828: expected 28 fields, saw 36\\nSkipping line 19875829: expected 28 fields, saw 36\\nSkipping line 19875830: expected 28 fields, saw 36\\nSkipping line 19875831: expected 28 fields, saw 36\\nSkipping line 19875832: expected 28 fields, saw 36\\nSkipping line 19875833: expected 28 fields, saw 36\\nSkipping line 19875834: expected 28 fields, saw 36\\nSkipping line 19875835: expected 28 fields, saw 36\\nSkipping line 19875836: expected 28 fields, saw 36\\nSkipping line 19875837: expected 28 fields, saw 36\\nSkipping line 19875838: expected 28 fields, saw 36\\nSkipping line 19875839: expected 28 fields, saw 36\\nSkipping line 19875840: expected 28 fields, saw 36\\nSkipping line 19875841: expected 28 fields, saw 36\\nSkipping line 19875842: expected 28 fields, saw 36\\nSkipping line 19875843: expected 28 fields, saw 36\\nSkipping line 19875844: expected 28 fields, saw 36\\nSkipping line 19875845: expected 28 fields, saw 36\\nSkipping line 19875846: expected 28 fields, saw 36\\nSkipping line 19875847: expected 28 fields, saw 36\\nSkipping line 19875848: expected 28 fields, saw 36\\nSkipping line 19875849: expected 28 fields, saw 36\\nSkipping line 19875850: expected 28 fields, saw 36\\nSkipping line 19875851: expected 28 fields, saw 36\\nSkipping line 19875852: expected 28 fields, saw 36\\nSkipping line 19875853: expected 28 fields, saw 36\\nSkipping line 19875854: expected 28 fields, saw 36\\nSkipping line 19875855: expected 28 fields, saw 36\\nSkipping line 19875856: expected 28 fields, saw 36\\nSkipping line 19875857: expected 28 fields, saw 36\\nSkipping line 19875858: expected 28 fields, saw 36\\nSkipping line 19875859: expected 28 fields, saw 36\\nSkipping line 19875860: expected 28 fields, saw 36\\nSkipping line 19875861: expected 28 fields, saw 36\\nSkipping line 19875862: expected 28 fields, saw 36\\nSkipping line 19875863: expected 28 fields, saw 36\\nSkipping line 19875864: expected 28 fields, saw 36\\nSkipping line 19875865: expected 28 fields, saw 36\\nSkipping line 19875866: expected 28 fields, saw 36\\nSkipping line 19875867: expected 28 fields, saw 36\\nSkipping line 19875868: expected 28 fields, saw 36\\nSkipping line 19875869: expected 28 fields, saw 36\\nSkipping line 19875870: expected 28 fields, saw 36\\nSkipping line 19875871: expected 28 fields, saw 36\\nSkipping line 19875872: expected 28 fields, saw 36\\nSkipping line 19875873: expected 28 fields, saw 36\\nSkipping line 19875874: expected 28 fields, saw 36\\nSkipping line 19875875: expected 28 fields, saw 36\\nSkipping line 19875876: expected 28 fields, saw 36\\nSkipping line 19875877: expected 28 fields, saw 36\\nSkipping line 19875878: expected 28 fields, saw 36\\nSkipping line 19875879: expected 28 fields, saw 36\\nSkipping line 19875880: expected 28 fields, saw 36\\nSkipping line 19875881: expected 28 fields, saw 36\\nSkipping line 19875882: expected 28 fields, saw 36\\nSkipping line 19875883: expected 28 fields, saw 36\\nSkipping line 19875884: expected 28 fields, saw 36\\nSkipping line 19875885: expected 28 fields, saw 36\\nSkipping line 19875886: expected 28 fields, saw 36\\nSkipping line 19875887: expected 28 fields, saw 36\\nSkipping line 19875888: expected 28 fields, saw 36\\nSkipping line 19875889: expected 28 fields, saw 36\\nSkipping line 19875890: expected 28 fields, saw 36\\nSkipping line 19875891: expected 28 fields, saw 36\\nSkipping line 19875892: expected 28 fields, saw 36\\nSkipping line 19875893: expected 28 fields, saw 36\\nSkipping line 19875894: expected 28 fields, saw 36\\nSkipping line 19875895: expected 28 fields, saw 36\\nSkipping line 19875896: expected 28 fields, saw 36\\nSkipping line 19875897: expected 28 fields, saw 36\\nSkipping line 19875898: expected 28 fields, saw 36\\nSkipping line 19875899: expected 28 fields, saw 36\\nSkipping line 19875900: expected 28 fields, saw 36\\nSkipping line 19875901: expected 28 fields, saw 36\\nSkipping line 19875902: expected 28 fields, saw 36\\nSkipping line 19875903: expected 28 fields, saw 36\\nSkipping line 19875904: expected 28 fields, saw 36\\nSkipping line 19875905: expected 28 fields, saw 36\\nSkipping line 19875906: expected 28 fields, saw 36\\nSkipping line 19875907: expected 28 fields, saw 36\\nSkipping line 19875908: expected 28 fields, saw 36\\nSkipping line 19875909: expected 28 fields, saw 36\\nSkipping line 19875910: expected 28 fields, saw 36\\nSkipping line 19875911: expected 28 fields, saw 36\\nSkipping line 19875912: expected 28 fields, saw 36\\nSkipping line 19875913: expected 28 fields, saw 36\\nSkipping line 19875914: expected 28 fields, saw 36\\nSkipping line 19875915: expected 28 fields, saw 36\\nSkipping line 19875916: expected 28 fields, saw 36\\nSkipping line 19875917: expected 28 fields, saw 36\\nSkipping line 19875918: expected 28 fields, saw 36\\nSkipping line 19875919: expected 28 fields, saw 36\\nSkipping line 19875920: expected 28 fields, saw 36\\nSkipping line 19875921: expected 28 fields, saw 36\\nSkipping line 19875922: expected 28 fields, saw 36\\nSkipping line 19875923: expected 28 fields, saw 36\\nSkipping line 19875924: expected 28 fields, saw 36\\nSkipping line 19875925: expected 28 fields, saw 36\\nSkipping line 19875926: expected 28 fields, saw 36\\nSkipping line 19875927: expected 28 fields, saw 36\\nSkipping line 19875928: expected 28 fields, saw 36\\nSkipping line 19875929: expected 28 fields, saw 36\\nSkipping line 19875930: expected 28 fields, saw 36\\nSkipping line 19875931: expected 28 fields, saw 36\\nSkipping line 19875932: expected 28 fields, saw 36\\nSkipping line 19875933: expected 28 fields, saw 36\\nSkipping line 19875934: expected 28 fields, saw 36\\nSkipping line 19875935: expected 28 fields, saw 36\\nSkipping line 19875936: expected 28 fields, saw 36\\nSkipping line 19875937: expected 28 fields, saw 36\\nSkipping line 19875938: expected 28 fields, saw 36\\nSkipping line 19875939: expected 28 fields, saw 36\\nSkipping line 19875940: expected 28 fields, saw 36\\nSkipping line 19875941: expected 28 fields, saw 36\\nSkipping line 19875942: expected 28 fields, saw 36\\nSkipping line 19875943: expected 28 fields, saw 36\\nSkipping line 19875944: expected 28 fields, saw 36\\nSkipping line 19875945: expected 28 fields, saw 36\\nSkipping line 19875946: expected 28 fields, saw 36\\nSkipping line 19875947: expected 28 fields, saw 36\\nSkipping line 19875948: expected 28 fields, saw 36\\nSkipping line 19875949: expected 28 fields, saw 36\\nSkipping line 19875950: expected 28 fields, saw 36\\nSkipping line 19875951: expected 28 fields, saw 36\\nSkipping line 19875952: expected 28 fields, saw 36\\nSkipping line 19875953: expected 28 fields, saw 36\\nSkipping line 19875954: expected 28 fields, saw 36\\nSkipping line 19875955: expected 28 fields, saw 36\\nSkipping line 19875956: expected 28 fields, saw 36\\nSkipping line 19875957: expected 28 fields, saw 36\\nSkipping line 19875958: expected 28 fields, saw 36\\nSkipping line 19875959: expected 28 fields, saw 36\\nSkipping line 19875960: expected 28 fields, saw 36\\nSkipping line 19875961: expected 28 fields, saw 36\\nSkipping line 19875962: expected 28 fields, saw 36\\nSkipping line 19875963: expected 28 fields, saw 36\\nSkipping line 19875964: expected 28 fields, saw 36\\nSkipping line 19875965: expected 28 fields, saw 36\\nSkipping line 19875966: expected 28 fields, saw 36\\nSkipping line 19875967: expected 28 fields, saw 36\\nSkipping line 19875968: expected 28 fields, saw 36\\nSkipping line 19875969: expected 28 fields, saw 36\\nSkipping line 19875970: expected 28 fields, saw 36\\nSkipping line 19875971: expected 28 fields, saw 36\\nSkipping line 19875972: expected 28 fields, saw 36\\nSkipping line 19875973: expected 28 fields, saw 36\\nSkipping line 19875974: expected 28 fields, saw 36\\nSkipping line 19875975: expected 28 fields, saw 36\\nSkipping line 19875976: expected 28 fields, saw 36\\nSkipping line 19875977: expected 28 fields, saw 36\\nSkipping line 19875978: expected 28 fields, saw 36\\nSkipping line 19875979: expected 28 fields, saw 36\\nSkipping line 19875980: expected 28 fields, saw 36\\nSkipping line 19875981: expected 28 fields, saw 36\\nSkipping line 19875982: expected 28 fields, saw 36\\nSkipping line 19875983: expected 28 fields, saw 36\\nSkipping line 19875984: expected 28 fields, saw 36\\nSkipping line 19875985: expected 28 fields, saw 36\\nSkipping line 19875986: expected 28 fields, saw 36\\nSkipping line 19875987: expected 28 fields, saw 36\\nSkipping line 19875988: expected 28 fields, saw 36\\nSkipping line 19875989: expected 28 fields, saw 36\\nSkipping line 19875990: expected 28 fields, saw 36\\nSkipping line 19875991: expected 28 fields, saw 36\\nSkipping line 19875992: expected 28 fields, saw 36\\nSkipping line 19875993: expected 28 fields, saw 36\\nSkipping line 19875994: expected 28 fields, saw 36\\nSkipping line 19875995: expected 28 fields, saw 36\\nSkipping line 19875996: expected 28 fields, saw 36\\nSkipping line 19875997: expected 28 fields, saw 36\\nSkipping line 19875998: expected 28 fields, saw 36\\nSkipping line 19875999: expected 28 fields, saw 36\\nSkipping line 19876000: expected 28 fields, saw 36\\nSkipping line 19876001: expected 28 fields, saw 36\\nSkipping line 19876002: expected 28 fields, saw 36\\nSkipping line 19876003: expected 28 fields, saw 36\\nSkipping line 19876004: expected 28 fields, saw 36\\nSkipping line 19876005: expected 28 fields, saw 36\\nSkipping line 19876006: expected 28 fields, saw 36\\nSkipping line 19876007: expected 28 fields, saw 36\\nSkipping line 19876008: expected 28 fields, saw 36\\nSkipping line 19876009: expected 28 fields, saw 36\\nSkipping line 19876010: expected 28 fields, saw 36\\nSkipping line 19876011: expected 28 fields, saw 36\\nSkipping line 19876012: expected 28 fields, saw 36\\nSkipping line 19876013: expected 28 fields, saw 36\\nSkipping line 19876014: expected 28 fields, saw 36\\nSkipping line 19876015: expected 28 fields, saw 36\\nSkipping line 19876016: expected 28 fields, saw 36\\nSkipping line 19876017: expected 28 fields, saw 36\\nSkipping line 19876018: expected 28 fields, saw 36\\nSkipping line 19876019: expected 28 fields, saw 36\\nSkipping line 19876020: expected 28 fields, saw 36\\nSkipping line 19876021: expected 28 fields, saw 36\\nSkipping line 19876022: expected 28 fields, saw 36\\nSkipping line 19876023: expected 28 fields, saw 36\\nSkipping line 19876024: expected 28 fields, saw 36\\nSkipping line 19876025: expected 28 fields, saw 36\\nSkipping line 19876026: expected 28 fields, saw 36\\nSkipping line 19876027: expected 28 fields, saw 36\\nSkipping line 19876028: expected 28 fields, saw 36\\nSkipping line 19876029: expected 28 fields, saw 36\\nSkipping line 19876030: expected 28 fields, saw 36\\nSkipping line 19876031: expected 28 fields, saw 36\\nSkipping line 19876032: expected 28 fields, saw 36\\nSkipping line 19876033: expected 28 fields, saw 36\\nSkipping line 19876034: expected 28 fields, saw 36\\nSkipping line 19876035: expected 28 fields, saw 36\\nSkipping line 19876036: expected 28 fields, saw 36\\nSkipping line 19876037: expected 28 fields, saw 36\\nSkipping line 19876038: expected 28 fields, saw 36\\nSkipping line 19876039: expected 28 fields, saw 36\\nSkipping line 19876040: expected 28 fields, saw 36\\nSkipping line 19876041: expected 28 fields, saw 36\\nSkipping line 19876042: expected 28 fields, saw 36\\nSkipping line 19876043: expected 28 fields, saw 36\\nSkipping line 19876044: expected 28 fields, saw 36\\nSkipping line 19876045: expected 28 fields, saw 36\\nSkipping line 19876046: expected 28 fields, saw 36\\nSkipping line 19876047: expected 28 fields, saw 36\\nSkipping line 19876048: expected 28 fields, saw 36\\nSkipping line 19876049: expected 28 fields, saw 36\\nSkipping line 19876050: expected 28 fields, saw 36\\nSkipping line 19876051: expected 28 fields, saw 36\\nSkipping line 19876052: expected 28 fields, saw 36\\nSkipping line 19876053: expected 28 fields, saw 36\\nSkipping line 19876054: expected 28 fields, saw 36\\nSkipping line 19876055: expected 28 fields, saw 36\\nSkipping line 19876056: expected 28 fields, saw 36\\nSkipping line 19876057: expected 28 fields, saw 36\\nSkipping line 19876058: expected 28 fields, saw 36\\nSkipping line 19876059: expected 28 fields, saw 36\\nSkipping line 19876060: expected 28 fields, saw 36\\nSkipping line 19876061: expected 28 fields, saw 36\\nSkipping line 19876062: expected 28 fields, saw 36\\nSkipping line 19876063: expected 28 fields, saw 36\\nSkipping line 19876064: expected 28 fields, saw 36\\nSkipping line 19876065: expected 28 fields, saw 36\\nSkipping line 19876066: expected 28 fields, saw 36\\nSkipping line 19876067: expected 28 fields, saw 36\\nSkipping line 19876068: expected 28 fields, saw 36\\nSkipping line 19876069: expected 28 fields, saw 36\\nSkipping line 19876070: expected 28 fields, saw 36\\nSkipping line 19876071: expected 28 fields, saw 36\\nSkipping line 19876072: expected 28 fields, saw 36\\nSkipping line 19876073: expected 28 fields, saw 36\\nSkipping line 19876074: expected 28 fields, saw 36\\nSkipping line 19876075: expected 28 fields, saw 36\\nSkipping line 19876076: expected 28 fields, saw 36\\nSkipping line 19876077: expected 28 fields, saw 36\\nSkipping line 19876078: expected 28 fields, saw 36\\nSkipping line 19876079: expected 28 fields, saw 36\\nSkipping line 19876080: expected 28 fields, saw 36\\nSkipping line 19876081: expected 28 fields, saw 36\\nSkipping line 19876082: expected 28 fields, saw 36\\nSkipping line 19876083: expected 28 fields, saw 36\\nSkipping line 19876084: expected 28 fields, saw 36\\nSkipping line 19876085: expected 28 fields, saw 36\\nSkipping line 19876086: expected 28 fields, saw 36\\nSkipping line 19876087: expected 28 fields, saw 36\\nSkipping line 19876088: expected 28 fields, saw 36\\nSkipping line 19876089: expected 28 fields, saw 36\\nSkipping line 19876090: expected 28 fields, saw 36\\nSkipping line 19876091: expected 28 fields, saw 36\\nSkipping line 19876092: expected 28 fields, saw 36\\nSkipping line 19876093: expected 28 fields, saw 36\\nSkipping line 19876094: expected 28 fields, saw 36\\nSkipping line 19876095: expected 28 fields, saw 36\\nSkipping line 19876096: expected 28 fields, saw 36\\nSkipping line 19876097: expected 28 fields, saw 36\\nSkipping line 19876098: expected 28 fields, saw 36\\nSkipping line 19876099: expected 28 fields, saw 36\\nSkipping line 19876100: expected 28 fields, saw 36\\nSkipping line 19876101: expected 28 fields, saw 36\\nSkipping line 19876102: expected 28 fields, saw 36\\nSkipping line 19876103: expected 28 fields, saw 36\\nSkipping line 19876104: expected 28 fields, saw 36\\nSkipping line 19876105: expected 28 fields, saw 36\\nSkipping line 19876106: expected 28 fields, saw 36\\nSkipping line 19876107: expected 28 fields, saw 36\\nSkipping line 19876108: expected 28 fields, saw 36\\nSkipping line 19876109: expected 28 fields, saw 36\\nSkipping line 19876110: expected 28 fields, saw 36\\nSkipping line 19876111: expected 28 fields, saw 36\\nSkipping line 19876112: expected 28 fields, saw 36\\nSkipping line 19876113: expected 28 fields, saw 36\\nSkipping line 19876114: expected 28 fields, saw 36\\nSkipping line 19876115: expected 28 fields, saw 36\\nSkipping line 19876116: expected 28 fields, saw 36\\nSkipping line 19876117: expected 28 fields, saw 36\\nSkipping line 19877621: expected 28 fields, saw 29\\nSkipping line 19877622: expected 28 fields, saw 29\\nSkipping line 19877623: expected 28 fields, saw 29\\nSkipping line 19877624: expected 28 fields, saw 29\\nSkipping line 19877625: expected 28 fields, saw 29\\nSkipping line 19877626: expected 28 fields, saw 29\\nSkipping line 19877627: expected 28 fields, saw 29\\nSkipping line 19877628: expected 28 fields, saw 29\\nSkipping line 19877629: expected 28 fields, saw 29\\nSkipping line 19877630: expected 28 fields, saw 29\\nSkipping line 19877631: expected 28 fields, saw 29\\nSkipping line 19877632: expected 28 fields, saw 29\\nSkipping line 19877633: expected 28 fields, saw 29\\nSkipping line 19877634: expected 28 fields, saw 29\\nSkipping line 19877635: expected 28 fields, saw 29\\nSkipping line 19877636: expected 28 fields, saw 29\\nSkipping line 19877637: expected 28 fields, saw 29\\nSkipping line 19877638: expected 28 fields, saw 29\\nSkipping line 19877639: expected 28 fields, saw 29\\nSkipping line 19877640: expected 28 fields, saw 29\\nSkipping line 19877641: expected 28 fields, saw 29\\nSkipping line 19877642: expected 28 fields, saw 29\\nSkipping line 19877643: expected 28 fields, saw 29\\nSkipping line 19877644: expected 28 fields, saw 29\\nSkipping line 19877645: expected 28 fields, saw 29\\nSkipping line 19877646: expected 28 fields, saw 29\\nSkipping line 19881859: expected 28 fields, saw 30\\nSkipping line 19881860: expected 28 fields, saw 30\\nSkipping line 19881861: expected 28 fields, saw 30\\nSkipping line 19881862: expected 28 fields, saw 30\\nSkipping line 19881863: expected 28 fields, saw 30\\nSkipping line 19881864: expected 28 fields, saw 30\\nSkipping line 19881865: expected 28 fields, saw 30\\nSkipping line 19881866: expected 28 fields, saw 30\\nSkipping line 19881867: expected 28 fields, saw 30\\nSkipping line 19881868: expected 28 fields, saw 30\\nSkipping line 19881869: expected 28 fields, saw 30\\nSkipping line 19881870: expected 28 fields, saw 30\\nSkipping line 19881871: expected 28 fields, saw 30\\nSkipping line 19881872: expected 28 fields, saw 30\\nSkipping line 19881873: expected 28 fields, saw 30\\nSkipping line 19881874: expected 28 fields, saw 30\\nSkipping line 19881875: expected 28 fields, saw 30\\nSkipping line 19881876: expected 28 fields, saw 30\\nSkipping line 19881877: expected 28 fields, saw 30\\nSkipping line 19881878: expected 28 fields, saw 30\\nSkipping line 19881879: expected 28 fields, saw 30\\nSkipping line 19881880: expected 28 fields, saw 30\\nSkipping line 19881881: expected 28 fields, saw 30\\nSkipping line 19881882: expected 28 fields, saw 30\\nSkipping line 19881883: expected 28 fields, saw 30\\nSkipping line 19881884: expected 28 fields, saw 30\\nSkipping line 19881885: expected 28 fields, saw 30\\nSkipping line 19881886: expected 28 fields, saw 30\\nSkipping line 19881887: expected 28 fields, saw 30\\nSkipping line 19881888: expected 28 fields, saw 30\\nSkipping line 19881889: expected 28 fields, saw 30\\nSkipping line 19881890: expected 28 fields, saw 30\\nSkipping line 19881891: expected 28 fields, saw 30\\nSkipping line 19881892: expected 28 fields, saw 30\\nSkipping line 19881893: expected 28 fields, saw 30\\nSkipping line 19881894: expected 28 fields, saw 30\\nSkipping line 19881895: expected 28 fields, saw 30\\nSkipping line 19881896: expected 28 fields, saw 30\\nSkipping line 19881897: expected 28 fields, saw 30\\nSkipping line 19881898: expected 28 fields, saw 30\\nSkipping line 19881899: expected 28 fields, saw 30\\nSkipping line 19881900: expected 28 fields, saw 30\\nSkipping line 19881901: expected 28 fields, saw 30\\nSkipping line 19881902: expected 28 fields, saw 30\\nSkipping line 19881903: expected 28 fields, saw 30\\nSkipping line 19881904: expected 28 fields, saw 30\\nSkipping line 19881905: expected 28 fields, saw 30\\nSkipping line 19881906: expected 28 fields, saw 30\\nSkipping line 19881907: expected 28 fields, saw 30\\nSkipping line 19881908: expected 28 fields, saw 30\\nSkipping line 19881909: expected 28 fields, saw 30\\nSkipping line 19881910: expected 28 fields, saw 30\\nSkipping line 19881911: expected 28 fields, saw 30\\nSkipping line 19881912: expected 28 fields, saw 30\\nSkipping line 19881913: expected 28 fields, saw 30\\nSkipping line 19881914: expected 28 fields, saw 30\\nSkipping line 19881915: expected 28 fields, saw 30\\nSkipping line 19881916: expected 28 fields, saw 30\\nSkipping line 19881917: expected 28 fields, saw 30\\nSkipping line 19881918: expected 28 fields, saw 30\\nSkipping line 19881919: expected 28 fields, saw 30\\nSkipping line 19881920: expected 28 fields, saw 30\\nSkipping line 19881921: expected 28 fields, saw 30\\nSkipping line 19881922: expected 28 fields, saw 30\\nSkipping line 19881923: expected 28 fields, saw 30\\nSkipping line 19881924: expected 28 fields, saw 30\\nSkipping line 19881925: expected 28 fields, saw 30\\nSkipping line 19881926: expected 28 fields, saw 30\\nSkipping line 19881927: expected 28 fields, saw 30\\nSkipping line 19881928: expected 28 fields, saw 30\\nSkipping line 19881929: expected 28 fields, saw 30\\nSkipping line 19881930: expected 28 fields, saw 30\\nSkipping line 19881931: expected 28 fields, saw 30\\nSkipping line 19884339: expected 28 fields, saw 33\\nSkipping line 19884340: expected 28 fields, saw 33\\nSkipping line 19884341: expected 28 fields, saw 33\\nSkipping line 19884342: expected 28 fields, saw 33\\nSkipping line 19884343: expected 28 fields, saw 33\\nSkipping line 19884344: expected 28 fields, saw 33\\nSkipping line 19884345: expected 28 fields, saw 33\\nSkipping line 19884346: expected 28 fields, saw 33\\nSkipping line 19884347: expected 28 fields, saw 33\\nSkipping line 19884348: expected 28 fields, saw 33\\nSkipping line 19884349: expected 28 fields, saw 33\\nSkipping line 19884350: expected 28 fields, saw 33\\nSkipping line 19884351: expected 28 fields, saw 33\\nSkipping line 19884352: expected 28 fields, saw 33\\nSkipping line 19884353: expected 28 fields, saw 33\\nSkipping line 19884354: expected 28 fields, saw 33\\nSkipping line 19884355: expected 28 fields, saw 33\\nSkipping line 19884356: expected 28 fields, saw 33\\nSkipping line 19884357: expected 28 fields, saw 33\\nSkipping line 19884358: expected 28 fields, saw 33\\nSkipping line 19884359: expected 28 fields, saw 33\\nSkipping line 19884360: expected 28 fields, saw 33\\nSkipping line 19884361: expected 28 fields, saw 33\\nSkipping line 19884362: expected 28 fields, saw 33\\nSkipping line 19884363: expected 28 fields, saw 33\\nSkipping line 19884364: expected 28 fields, saw 33\\nSkipping line 19884365: expected 28 fields, saw 33\\nSkipping line 19884366: expected 28 fields, saw 33\\nSkipping line 19886490: expected 28 fields, saw 43\\nSkipping line 19886491: expected 28 fields, saw 43\\nSkipping line 19886492: expected 28 fields, saw 43\\nSkipping line 19886493: expected 28 fields, saw 43\\nSkipping line 19886494: expected 28 fields, saw 43\\nSkipping line 19886495: expected 28 fields, saw 43\\nSkipping line 19886496: expected 28 fields, saw 43\\nSkipping line 19886497: expected 28 fields, saw 43\\nSkipping line 19886498: expected 28 fields, saw 43\\nSkipping line 19886499: expected 28 fields, saw 43\\nSkipping line 19886500: expected 28 fields, saw 43\\nSkipping line 19886501: expected 28 fields, saw 43\\nSkipping line 19886502: expected 28 fields, saw 43\\nSkipping line 19886503: expected 28 fields, saw 43\\nSkipping line 19886504: expected 28 fields, saw 43\\nSkipping line 19886505: expected 28 fields, saw 43\\nSkipping line 19886506: expected 28 fields, saw 43\\nSkipping line 19886507: expected 28 fields, saw 43\\nSkipping line 19886508: expected 28 fields, saw 43\\nSkipping line 19886509: expected 28 fields, saw 43\\nSkipping line 19886510: expected 28 fields, saw 43\\nSkipping line 19886511: expected 28 fields, saw 43\\nSkipping line 19886512: expected 28 fields, saw 43\\nSkipping line 19886513: expected 28 fields, saw 43\\nSkipping line 19886514: expected 28 fields, saw 43\\nSkipping line 19886515: expected 28 fields, saw 43\\nSkipping line 19886516: expected 28 fields, saw 43\\nSkipping line 19886517: expected 28 fields, saw 43\\nSkipping line 19886518: expected 28 fields, saw 43\\nSkipping line 19886519: expected 28 fields, saw 43\\nSkipping line 19886520: expected 28 fields, saw 43\\nSkipping line 19886521: expected 28 fields, saw 43\\nSkipping line 19891870: expected 28 fields, saw 31\\nSkipping line 19891871: expected 28 fields, saw 31\\nSkipping line 19891872: expected 28 fields, saw 31\\nSkipping line 19891873: expected 28 fields, saw 31\\nSkipping line 19891874: expected 28 fields, saw 31\\nSkipping line 19891875: expected 28 fields, saw 31\\nSkipping line 19891876: expected 28 fields, saw 31\\nSkipping line 19891877: expected 28 fields, saw 31\\nSkipping line 19891878: expected 28 fields, saw 31\\nSkipping line 19891879: expected 28 fields, saw 31\\nSkipping line 19891880: expected 28 fields, saw 31\\nSkipping line 19891881: expected 28 fields, saw 31\\nSkipping line 19891882: expected 28 fields, saw 31\\nSkipping line 19892513: expected 28 fields, saw 34\\nSkipping line 19892514: expected 28 fields, saw 34\\nSkipping line 19892515: expected 28 fields, saw 34\\nSkipping line 19892516: expected 28 fields, saw 34\\nSkipping line 19892517: expected 28 fields, saw 34\\nSkipping line 19892518: expected 28 fields, saw 34\\nSkipping line 19892519: expected 28 fields, saw 34\\nSkipping line 19892520: expected 28 fields, saw 34\\nSkipping line 19892521: expected 28 fields, saw 34\\nSkipping line 19892522: expected 28 fields, saw 34\\nSkipping line 19892523: expected 28 fields, saw 34\\nSkipping line 19892524: expected 28 fields, saw 34\\nSkipping line 19892525: expected 28 fields, saw 34\\nSkipping line 19892526: expected 28 fields, saw 34\\nSkipping line 19892527: expected 28 fields, saw 34\\nSkipping line 19892528: expected 28 fields, saw 34\\nSkipping line 19892529: expected 28 fields, saw 34\\nSkipping line 19892530: expected 28 fields, saw 34\\nSkipping line 19892531: expected 28 fields, saw 34\\nSkipping line 19892532: expected 28 fields, saw 34\\nSkipping line 19892533: expected 28 fields, saw 34\\nSkipping line 19892534: expected 28 fields, saw 34\\nSkipping line 19892535: expected 28 fields, saw 34\\nSkipping line 19892536: expected 28 fields, saw 34\\nSkipping line 19892537: expected 28 fields, saw 34\\nSkipping line 19892538: expected 28 fields, saw 34\\nSkipping line 19892539: expected 28 fields, saw 34\\nSkipping line 19892540: expected 28 fields, saw 34\\nSkipping line 19892541: expected 28 fields, saw 34\\nSkipping line 19892542: expected 28 fields, saw 34\\nSkipping line 19892543: expected 28 fields, saw 34\\nSkipping line 19892544: expected 28 fields, saw 34\\nSkipping line 19892545: expected 28 fields, saw 34\\nSkipping line 19892546: expected 28 fields, saw 34\\nSkipping line 19892547: expected 28 fields, saw 34\\nSkipping line 19892548: expected 28 fields, saw 34\\nSkipping line 19892549: expected 28 fields, saw 34\\nSkipping line 19892550: expected 28 fields, saw 34\\nSkipping line 19892551: expected 28 fields, saw 34\\nSkipping line 19892552: expected 28 fields, saw 34\\nSkipping line 19892553: expected 28 fields, saw 34\\nSkipping line 19892554: expected 28 fields, saw 34\\nSkipping line 19892555: expected 28 fields, saw 34\\nSkipping line 19892556: expected 28 fields, saw 34\\nSkipping line 19892557: expected 28 fields, saw 34\\nSkipping line 19892558: expected 28 fields, saw 34\\nSkipping line 19892559: expected 28 fields, saw 34\\nSkipping line 19892560: expected 28 fields, saw 34\\nSkipping line 19892561: expected 28 fields, saw 34\\nSkipping line 19892562: expected 28 fields, saw 34\\nSkipping line 19892563: expected 28 fields, saw 34\\nSkipping line 19892564: expected 28 fields, saw 34\\nSkipping line 19892565: expected 28 fields, saw 34\\nSkipping line 19892566: expected 28 fields, saw 34\\nSkipping line 19892567: expected 28 fields, saw 34\\nSkipping line 19892568: expected 28 fields, saw 34\\nSkipping line 19892569: expected 28 fields, saw 34\\nSkipping line 19892570: expected 28 fields, saw 34\\nSkipping line 19892571: expected 28 fields, saw 34\\nSkipping line 19892572: expected 28 fields, saw 34\\nSkipping line 19892573: expected 28 fields, saw 34\\nSkipping line 19892574: expected 28 fields, saw 34\\nSkipping line 19892575: expected 28 fields, saw 34\\nSkipping line 19892576: expected 28 fields, saw 34\\nSkipping line 19892577: expected 28 fields, saw 34\\nSkipping line 19892578: expected 28 fields, saw 34\\nSkipping line 19892579: expected 28 fields, saw 34\\nSkipping line 19892580: expected 28 fields, saw 34\\nSkipping line 19892581: expected 28 fields, saw 34\\nSkipping line 19892582: expected 28 fields, saw 34\\nSkipping line 19892583: expected 28 fields, saw 34\\nSkipping line 19892584: expected 28 fields, saw 34\\nSkipping line 19892585: expected 28 fields, saw 34\\nSkipping line 19892586: expected 28 fields, saw 34\\nSkipping line 19892587: expected 28 fields, saw 34\\nSkipping line 19892588: expected 28 fields, saw 34\\nSkipping line 19892589: expected 28 fields, saw 34\\nSkipping line 19892590: expected 28 fields, saw 34\\nSkipping line 19892591: expected 28 fields, saw 34\\nSkipping line 19892592: expected 28 fields, saw 34\\nSkipping line 19892593: expected 28 fields, saw 34\\nSkipping line 19892594: expected 28 fields, saw 34\\nSkipping line 19892595: expected 28 fields, saw 34\\nSkipping line 19892596: expected 28 fields, saw 34\\nSkipping line 19892597: expected 28 fields, saw 34\\nSkipping line 19892598: expected 28 fields, saw 34\\nSkipping line 19892599: expected 28 fields, saw 34\\nSkipping line 19892600: expected 28 fields, saw 34\\nSkipping line 19892601: expected 28 fields, saw 34\\nSkipping line 19892602: expected 28 fields, saw 34\\n'\n",
      "b'Skipping line 19894240: expected 28 fields, saw 33\\nSkipping line 19894241: expected 28 fields, saw 33\\nSkipping line 19894242: expected 28 fields, saw 33\\nSkipping line 19894243: expected 28 fields, saw 33\\nSkipping line 19894244: expected 28 fields, saw 33\\nSkipping line 19894245: expected 28 fields, saw 33\\nSkipping line 19894246: expected 28 fields, saw 33\\nSkipping line 19894247: expected 28 fields, saw 33\\nSkipping line 19894248: expected 28 fields, saw 33\\nSkipping line 19894249: expected 28 fields, saw 33\\nSkipping line 19894250: expected 28 fields, saw 33\\nSkipping line 19894251: expected 28 fields, saw 33\\nSkipping line 19894252: expected 28 fields, saw 51\\nSkipping line 19894253: expected 28 fields, saw 51\\nSkipping line 19894254: expected 28 fields, saw 51\\nSkipping line 19894255: expected 28 fields, saw 51\\nSkipping line 19894256: expected 28 fields, saw 51\\nSkipping line 19896610: expected 28 fields, saw 29\\nSkipping line 19896611: expected 28 fields, saw 29\\nSkipping line 19896612: expected 28 fields, saw 29\\nSkipping line 19896613: expected 28 fields, saw 29\\nSkipping line 19896614: expected 28 fields, saw 29\\nSkipping line 19896615: expected 28 fields, saw 29\\n'\n"
     ]
    },
    {
     "data": {
      "text/plain": [
       "(20345140, 28)"
      ]
     },
     "execution_count": 4,
     "metadata": {},
     "output_type": "execute_result"
    }
   ],
   "source": [
    "df = pd.read_csv('/mnt/nas/ai-project-data/syl/chembl30/chembl30_all_raw_20220317.csv', error_bad_lines=False)\n",
    "df.shape"
   ]
  },
  {
   "cell_type": "code",
   "execution_count": 5,
   "metadata": {},
   "outputs": [
    {
     "data": {
      "text/plain": [
       "14408"
      ]
     },
     "execution_count": 5,
     "metadata": {},
     "output_type": "execute_result"
    }
   ],
   "source": [
    "len(df['target_chembl_id'].unique())"
   ]
  },
  {
   "cell_type": "code",
   "execution_count": 6,
   "metadata": {},
   "outputs": [
    {
     "data": {
      "text/plain": [
       "8931184"
      ]
     },
     "execution_count": 6,
     "metadata": {},
     "output_type": "execute_result"
    }
   ],
   "source": [
    "df['uniprot_id'].count()"
   ]
  },
  {
   "cell_type": "code",
   "execution_count": 7,
   "metadata": {},
   "outputs": [
    {
     "data": {
      "text/plain": [
       "(8931184, 28)"
      ]
     },
     "execution_count": 7,
     "metadata": {},
     "output_type": "execute_result"
    }
   ],
   "source": [
    "#删除uniprotid为空的数据\n",
    "df = df[df['uniprot_id'].notna()]\n",
    "df.shape"
   ]
  },
  {
   "cell_type": "code",
   "execution_count": 8,
   "metadata": {},
   "outputs": [
    {
     "data": {
      "text/plain": [
       "(8242817, 28)"
      ]
     },
     "execution_count": 8,
     "metadata": {},
     "output_type": "execute_result"
    }
   ],
   "source": [
    "#删除smiles，values，sequence为空的数据\n",
    "df.dropna(subset=['canonical_smiles','standard_value', 'sequence'], inplace=True)\n",
    "df.shape"
   ]
  },
  {
   "cell_type": "code",
   "execution_count": 9,
   "metadata": {},
   "outputs": [
    {
     "data": {
      "text/plain": [
       "(5133720, 28)"
      ]
     },
     "execution_count": 9,
     "metadata": {},
     "output_type": "execute_result"
    }
   ],
   "source": [
    "df = df[df['standard_relation'] == '=']\n",
    "df.shape"
   ]
  },
  {
   "cell_type": "code",
   "execution_count": 10,
   "metadata": {},
   "outputs": [
    {
     "data": {
      "text/plain": [
       "(1226898, 28)"
      ]
     },
     "execution_count": 10,
     "metadata": {},
     "output_type": "execute_result"
    }
   ],
   "source": [
    "df_IC50 = df[df['standard_type'] == 'IC50']\n",
    "df_IC50.shape"
   ]
  },
  {
   "cell_type": "code",
   "execution_count": 11,
   "metadata": {},
   "outputs": [
    {
     "data": {
      "text/plain": [
       "{'nM': 1218682,\n",
       " 'ug.mL-1': 7589,\n",
       " '%': 88,\n",
       " '10^-9mol/L': 46,\n",
       " '10^-8mol/L': 33,\n",
       " '10^-7mol/L': 32,\n",
       " '/uM': 21,\n",
       " 'milliequivalent': 20,\n",
       " 'ppm': 18,\n",
       " '10^-10mol/L': 18,\n",
       " 'uM tube-1': 9,\n",
       " 'min': 9,\n",
       " 'molar ratio': 8,\n",
       " 'mg kg-1': 6,\n",
       " 'nmol/mg': 5,\n",
       " 'p.p.m.': 5,\n",
       " '10^-5 mol/L': 5,\n",
       " 'mg.min/m3': 4,\n",
       " '10^-4microM': 4,\n",
       " '10^-6 mol/L': 4,\n",
       " 'umol/dm3': 4,\n",
       " \"10'5pM\": 3,\n",
       " '10^-5 uM': 2,\n",
       " \"10'6pM\": 2,\n",
       " \"10'3pM\": 2,\n",
       " 'ucm/s': 2,\n",
       " 'ucm': 2,\n",
       " 'ug': 2,\n",
       " \"10'-4umol/L\": 1,\n",
       " '/uM/s': 1,\n",
       " \"10'13nM\": 1,\n",
       " \"10'8nM\": 1,\n",
       " \"10'7nM\": 1,\n",
       " \"10'16 uM\": 1,\n",
       " \"10'20 uM\": 1}"
      ]
     },
     "execution_count": 11,
     "metadata": {},
     "output_type": "execute_result"
    }
   ],
   "source": [
    "#查看单位\n",
    "df_IC50.standard_units.value_counts().to_dict()"
   ]
  },
  {
   "cell_type": "code",
   "execution_count": 12,
   "metadata": {},
   "outputs": [
    {
     "data": {
      "text/plain": [
       "(1218682, 28)"
      ]
     },
     "execution_count": 12,
     "metadata": {},
     "output_type": "execute_result"
    }
   ],
   "source": [
    "#只保留单位为nM的数据\n",
    "df_IC50 = df_IC50[df_IC50['standard_units'] == 'nM']\n",
    "df_IC50.shape"
   ]
  },
  {
   "cell_type": "code",
   "execution_count": 13,
   "metadata": {},
   "outputs": [
    {
     "name": "stderr",
     "output_type": "stream",
     "text": [
      " 29%|██▉       | 356624/1218682 [06:12<12:32, 1146.28it/s]==============================\n",
      "*** Open Babel Warning  in CreateCisTrans\n",
      "  Error in cis/trans stereochemistry specified for the double bond\n",
      "\n",
      "100%|██████████| 1218682/1218682 [21:48<00:00, 931.61it/s]\n"
     ]
    },
    {
     "data": {
      "text/plain": [
       "(1218682, 29)"
      ]
     },
     "execution_count": 13,
     "metadata": {},
     "output_type": "execute_result"
    }
   ],
   "source": [
    "#删除不合法的smiles\n",
    "label_list = []\n",
    "for x in tqdm(df_IC50[\"canonical_smiles\"], total=df_IC50.shape[0]):\n",
    "    try:\n",
    "        smiles2inchi(x)\n",
    "        smiles_unique([x])\n",
    "        label_list.append(\"1\")\n",
    "    except Exception:\n",
    "        label_list.append(\"0\")\n",
    "        continue\n",
    "df_IC50.loc[:, \"label\"] = label_list\n",
    "df_IC50 = df_IC50[df_IC50[\"label\"] == \"1\"]\n",
    "df_IC50.shape"
   ]
  },
  {
   "cell_type": "code",
   "execution_count": 14,
   "metadata": {},
   "outputs": [
    {
     "name": "stderr",
     "output_type": "stream",
     "text": [
      "==============================\n",
      "*** Open Babel Warning  in CreateCisTrans\n",
      "  Error in cis/trans stereochemistry specified for the double bond\n",
      "\n"
     ]
    },
    {
     "data": {
      "text/plain": [
       "(1218682, 31)"
      ]
     },
     "execution_count": 14,
     "metadata": {},
     "output_type": "execute_result"
    }
   ],
   "source": [
    "#加上COMPOUND_SMILES 和 INCHI_KEY\n",
    "df_IC50.loc[:,\"COMPOUND_SMILES\"] = df_IC50['canonical_smiles'].apply(lambda x: smiles_unique([x])[0])\n",
    "df_IC50.loc[:, \"INCHI_KEY\"] = df_IC50['COMPOUND_SMILES'].apply(lambda x: smiles2inchi(x))\n",
    "df_IC50.shape"
   ]
  },
  {
   "cell_type": "code",
   "execution_count": 15,
   "metadata": {},
   "outputs": [
    {
     "data": {
      "text/plain": [
       "78          XMAYWYJOQHXEEK-JYFHCDHNSA-N\n",
       "79          XMAYWYJOQHXEEK-BVAGGSTKSA-N\n",
       "80          XMAYWYJOQHXEEK-UHFFFAOYSA-N\n",
       "81          XMAYWYJOQHXEEK-UHFFFAOYSA-N\n",
       "83          FXNFHKRTJBSTCS-UHFFFAOYSA-N\n",
       "                       ...             \n",
       "20344230    ZQTDPABHHRSFDF-FRJWGUMJSA-N\n",
       "20344231    IVHVIBKVJIZKOC-RTWAVKEYSA-N\n",
       "20344232    IVHVIBKVJIZKOC-RTWAVKEYSA-N\n",
       "20344233    IVHVIBKVJIZKOC-RTWAVKEYSA-N\n",
       "20344271    VKJGBAJNNALVAV-UHFFFAOYSA-M\n",
       "Name: INCHI_KEY, Length: 1218682, dtype: object"
      ]
     },
     "execution_count": 15,
     "metadata": {},
     "output_type": "execute_result"
    }
   ],
   "source": [
    "df_IC50['INCHI_KEY']"
   ]
  },
  {
   "cell_type": "code",
   "execution_count": 16,
   "metadata": {},
   "outputs": [
    {
     "data": {
      "text/plain": [
       "(1218682, 31)"
      ]
     },
     "execution_count": 16,
     "metadata": {},
     "output_type": "execute_result"
    }
   ],
   "source": [
    "#删除smiles，inchi为空的数据\n",
    "df_IC50.dropna(subset=['COMPOUND_SMILES','INCHI_KEY'],inplace=True)\n",
    "df_IC50.shape"
   ]
  },
  {
   "cell_type": "code",
   "execution_count": 17,
   "metadata": {},
   "outputs": [
    {
     "name": "stdout",
     "output_type": "stream",
     "text": [
      "(0, 31)\n",
      "(1218682, 31)\n"
     ]
    }
   ],
   "source": [
    "#处理smiles带点的数据\n",
    "def remove_solution(smi):\n",
    "    if '.' in smi:\n",
    "        par1 = smi.split('.')[0]\n",
    "        par2 = smi.split('.')[1]\n",
    "        if len(par1) >= len(par2):\n",
    "            return par1\n",
    "        else:\n",
    "            return par2\n",
    "    else: \n",
    "        return smi\n",
    "df_IC50['COMPOUND_SMILES'] = df_IC50['COMPOUND_SMILES'].apply(remove_solution)\n",
    "print(df_IC50[df_IC50['COMPOUND_SMILES'].str.contains('\\.')].shape)\n",
    "print(df_IC50.shape)"
   ]
  },
  {
   "cell_type": "code",
   "execution_count": 18,
   "metadata": {},
   "outputs": [
    {
     "name": "stdout",
     "output_type": "stream",
     "text": [
      "(0, 31)\n",
      "(1218682, 31)\n"
     ]
    }
   ],
   "source": [
    "#处理smiles带\\t的数据\n",
    "def remove_solution1(smi):\n",
    "    if '\\t' in smi:\n",
    "        par1 = smi.split('\\t')[0]\n",
    "        par2 = smi.split('\\t')[1]\n",
    "        if len(par1) >= len(par2):\n",
    "            return par1\n",
    "        else:\n",
    "            return par2\n",
    "    else: \n",
    "        return smi\n",
    "df_IC50['COMPOUND_SMILES'] = df_IC50['COMPOUND_SMILES'].apply(remove_solution)\n",
    "print(df_IC50[df_IC50['COMPOUND_SMILES'].str.contains('\\t')].shape)\n",
    "print(df_IC50.shape)"
   ]
  },
  {
   "cell_type": "code",
   "execution_count": 19,
   "metadata": {},
   "outputs": [
    {
     "data": {
      "text/plain": [
       "(1218682, 32)"
      ]
     },
     "execution_count": 19,
     "metadata": {},
     "output_type": "execute_result"
    }
   ],
   "source": [
    "#添加UID字段（COMPOUND_SMILES + Uniport_id）\n",
    "df_IC50['UID'] = df_IC50['COMPOUND_SMILES'] + '_' + df_IC50['uniprot_id']\n",
    "df_IC50.shape"
   ]
  },
  {
   "cell_type": "code",
   "execution_count": 20,
   "metadata": {},
   "outputs": [
    {
     "data": {
      "text/html": [
       "<div>\n",
       "<style scoped>\n",
       "    .dataframe tbody tr th:only-of-type {\n",
       "        vertical-align: middle;\n",
       "    }\n",
       "\n",
       "    .dataframe tbody tr th {\n",
       "        vertical-align: top;\n",
       "    }\n",
       "\n",
       "    .dataframe thead th {\n",
       "        text-align: right;\n",
       "    }\n",
       "</style>\n",
       "<table border=\"1\" class=\"dataframe\">\n",
       "  <thead>\n",
       "    <tr style=\"text-align: right;\">\n",
       "      <th></th>\n",
       "      <th>molregno</th>\n",
       "      <th>canonical_smiles</th>\n",
       "      <th>activity_id</th>\n",
       "      <th>assay_id</th>\n",
       "      <th>standard_relation</th>\n",
       "      <th>standard_value</th>\n",
       "      <th>standard_units</th>\n",
       "      <th>standard_type</th>\n",
       "      <th>molecule_chembl_id</th>\n",
       "      <th>molecule_type</th>\n",
       "      <th>description</th>\n",
       "      <th>assay_strain</th>\n",
       "      <th>assay_tissue</th>\n",
       "      <th>assay_cell_type</th>\n",
       "      <th>confidence_score</th>\n",
       "      <th>assay_chembl_id</th>\n",
       "      <th>tid</th>\n",
       "      <th>target_type</th>\n",
       "      <th>target_pref_name</th>\n",
       "      <th>target_chembl_id</th>\n",
       "      <th>organism</th>\n",
       "      <th>targcomp_id</th>\n",
       "      <th>component_id</th>\n",
       "      <th>homologue</th>\n",
       "      <th>component_type</th>\n",
       "      <th>uniprot_id</th>\n",
       "      <th>sequence</th>\n",
       "      <th>sequence_md5sum</th>\n",
       "      <th>label</th>\n",
       "      <th>COMPOUND_SMILES</th>\n",
       "      <th>INCHI_KEY</th>\n",
       "      <th>UID</th>\n",
       "      <th>IC50pki</th>\n",
       "    </tr>\n",
       "  </thead>\n",
       "  <tbody>\n",
       "    <tr>\n",
       "      <th>78</th>\n",
       "      <td>156572</td>\n",
       "      <td>CC(=O)N1CCN(c2ccc(OC[C@H]3CO[C@@](Cn4ccnc4)(c4...</td>\n",
       "      <td>1256007</td>\n",
       "      <td>17</td>\n",
       "      <td>=</td>\n",
       "      <td>1080.0</td>\n",
       "      <td>nM</td>\n",
       "      <td>IC50</td>\n",
       "      <td>CHEMBL319160</td>\n",
       "      <td>Small molecule</td>\n",
       "      <td>Inhibition of cytochrome P450 progesterone 15-...</td>\n",
       "      <td>NaN</td>\n",
       "      <td>NaN</td>\n",
       "      <td>NaN</td>\n",
       "      <td>9</td>\n",
       "      <td>CHEMBL884521</td>\n",
       "      <td>100122</td>\n",
       "      <td>SINGLE PROTEIN</td>\n",
       "      <td>Cytochrome P450 2A2</td>\n",
       "      <td>CHEMBL3705</td>\n",
       "      <td>Rattus norvegicus</td>\n",
       "      <td>1808.0</td>\n",
       "      <td>2020.0</td>\n",
       "      <td>0.0</td>\n",
       "      <td>PROTEIN</td>\n",
       "      <td>P15149</td>\n",
       "      <td>MLDTGLLLVVILASLSVMFLVSLWQQKIRERLPPGPTPLPFIGNYL...</td>\n",
       "      <td>2954bba4ecdf5fe262f6e90d5d47a524</td>\n",
       "      <td>1</td>\n",
       "      <td>Clc1ccc(c(c1)Cl)[C@@]1(OC[C@@H](O1)COc1ccc(cc1...</td>\n",
       "      <td>XMAYWYJOQHXEEK-JYFHCDHNSA-N</td>\n",
       "      <td>Clc1ccc(c(c1)Cl)[C@@]1(OC[C@@H](O1)COc1ccc(cc1...</td>\n",
       "      <td>5.9666</td>\n",
       "    </tr>\n",
       "    <tr>\n",
       "      <th>79</th>\n",
       "      <td>156650</td>\n",
       "      <td>CC(=O)N1CCN(c2ccc(OC[C@@H]3CO[C@](Cn4ccnc4)(c4...</td>\n",
       "      <td>1239273</td>\n",
       "      <td>17</td>\n",
       "      <td>=</td>\n",
       "      <td>728.0</td>\n",
       "      <td>nM</td>\n",
       "      <td>IC50</td>\n",
       "      <td>CHEMBL328863</td>\n",
       "      <td>Small molecule</td>\n",
       "      <td>Inhibition of cytochrome P450 progesterone 15-...</td>\n",
       "      <td>NaN</td>\n",
       "      <td>NaN</td>\n",
       "      <td>NaN</td>\n",
       "      <td>9</td>\n",
       "      <td>CHEMBL884521</td>\n",
       "      <td>100122</td>\n",
       "      <td>SINGLE PROTEIN</td>\n",
       "      <td>Cytochrome P450 2A2</td>\n",
       "      <td>CHEMBL3705</td>\n",
       "      <td>Rattus norvegicus</td>\n",
       "      <td>1808.0</td>\n",
       "      <td>2020.0</td>\n",
       "      <td>0.0</td>\n",
       "      <td>PROTEIN</td>\n",
       "      <td>P15149</td>\n",
       "      <td>MLDTGLLLVVILASLSVMFLVSLWQQKIRERLPPGPTPLPFIGNYL...</td>\n",
       "      <td>2954bba4ecdf5fe262f6e90d5d47a524</td>\n",
       "      <td>1</td>\n",
       "      <td>Clc1ccc(c(c1)Cl)[C@]1(OC[C@H](O1)COc1ccc(cc1)N...</td>\n",
       "      <td>XMAYWYJOQHXEEK-BVAGGSTKSA-N</td>\n",
       "      <td>Clc1ccc(c(c1)Cl)[C@]1(OC[C@H](O1)COc1ccc(cc1)N...</td>\n",
       "      <td>6.1379</td>\n",
       "    </tr>\n",
       "  </tbody>\n",
       "</table>\n",
       "</div>"
      ],
      "text/plain": [
       "    molregno                                   canonical_smiles  activity_id  \\\n",
       "78    156572  CC(=O)N1CCN(c2ccc(OC[C@H]3CO[C@@](Cn4ccnc4)(c4...      1256007   \n",
       "79    156650  CC(=O)N1CCN(c2ccc(OC[C@@H]3CO[C@](Cn4ccnc4)(c4...      1239273   \n",
       "\n",
       "    assay_id standard_relation  standard_value standard_units standard_type  \\\n",
       "78        17                 =          1080.0             nM          IC50   \n",
       "79        17                 =           728.0             nM          IC50   \n",
       "\n",
       "   molecule_chembl_id   molecule_type  \\\n",
       "78       CHEMBL319160  Small molecule   \n",
       "79       CHEMBL328863  Small molecule   \n",
       "\n",
       "                                          description assay_strain  \\\n",
       "78  Inhibition of cytochrome P450 progesterone 15-...          NaN   \n",
       "79  Inhibition of cytochrome P450 progesterone 15-...          NaN   \n",
       "\n",
       "   assay_tissue assay_cell_type  confidence_score assay_chembl_id     tid  \\\n",
       "78          NaN             NaN                 9    CHEMBL884521  100122   \n",
       "79          NaN             NaN                 9    CHEMBL884521  100122   \n",
       "\n",
       "       target_type     target_pref_name target_chembl_id           organism  \\\n",
       "78  SINGLE PROTEIN  Cytochrome P450 2A2       CHEMBL3705  Rattus norvegicus   \n",
       "79  SINGLE PROTEIN  Cytochrome P450 2A2       CHEMBL3705  Rattus norvegicus   \n",
       "\n",
       "    targcomp_id  component_id  homologue component_type uniprot_id  \\\n",
       "78       1808.0        2020.0        0.0        PROTEIN     P15149   \n",
       "79       1808.0        2020.0        0.0        PROTEIN     P15149   \n",
       "\n",
       "                                             sequence  \\\n",
       "78  MLDTGLLLVVILASLSVMFLVSLWQQKIRERLPPGPTPLPFIGNYL...   \n",
       "79  MLDTGLLLVVILASLSVMFLVSLWQQKIRERLPPGPTPLPFIGNYL...   \n",
       "\n",
       "                     sequence_md5sum label  \\\n",
       "78  2954bba4ecdf5fe262f6e90d5d47a524     1   \n",
       "79  2954bba4ecdf5fe262f6e90d5d47a524     1   \n",
       "\n",
       "                                      COMPOUND_SMILES  \\\n",
       "78  Clc1ccc(c(c1)Cl)[C@@]1(OC[C@@H](O1)COc1ccc(cc1...   \n",
       "79  Clc1ccc(c(c1)Cl)[C@]1(OC[C@H](O1)COc1ccc(cc1)N...   \n",
       "\n",
       "                      INCHI_KEY  \\\n",
       "78  XMAYWYJOQHXEEK-JYFHCDHNSA-N   \n",
       "79  XMAYWYJOQHXEEK-BVAGGSTKSA-N   \n",
       "\n",
       "                                                  UID  IC50pki  \n",
       "78  Clc1ccc(c(c1)Cl)[C@@]1(OC[C@@H](O1)COc1ccc(cc1...   5.9666  \n",
       "79  Clc1ccc(c(c1)Cl)[C@]1(OC[C@H](O1)COc1ccc(cc1)N...   6.1379  "
      ]
     },
     "execution_count": 20,
     "metadata": {},
     "output_type": "execute_result"
    }
   ],
   "source": [
    "df_IC50['IC50pki'] = df_IC50['standard_value'].apply(lambda x: round(-np.log10(x * 10**(-9)), 4))\n",
    "df_IC50.head(2)"
   ]
  },
  {
   "cell_type": "code",
   "execution_count": 21,
   "metadata": {},
   "outputs": [],
   "source": [
    "# df_IC50.to_csv('Chembl30_IC50_raw_new.csv', index=False)"
   ]
  },
  {
   "cell_type": "code",
   "execution_count": 22,
   "metadata": {},
   "outputs": [
    {
     "data": {
      "text/html": [
       "<div>\n",
       "<style scoped>\n",
       "    .dataframe tbody tr th:only-of-type {\n",
       "        vertical-align: middle;\n",
       "    }\n",
       "\n",
       "    .dataframe tbody tr th {\n",
       "        vertical-align: top;\n",
       "    }\n",
       "\n",
       "    .dataframe thead th {\n",
       "        text-align: right;\n",
       "    }\n",
       "</style>\n",
       "<table border=\"1\" class=\"dataframe\">\n",
       "  <thead>\n",
       "    <tr style=\"text-align: right;\">\n",
       "      <th></th>\n",
       "      <th>UID</th>\n",
       "      <th>IC50pki</th>\n",
       "      <th>Duplicate_Values</th>\n",
       "      <th>check</th>\n",
       "    </tr>\n",
       "  </thead>\n",
       "  <tbody>\n",
       "    <tr>\n",
       "      <th>0</th>\n",
       "      <td>Br/C(=C/c1ccccc1)/C=N/NC(=O)c1cccs1_P42574</td>\n",
       "      <td>1</td>\n",
       "      <td>[4.5003]</td>\n",
       "      <td>0.0000</td>\n",
       "    </tr>\n",
       "    <tr>\n",
       "      <th>1</th>\n",
       "      <td>Br/C(=C/c1ccccc1)/C=N/NC(=O)c1cccs1_Q9BQF6</td>\n",
       "      <td>1</td>\n",
       "      <td>[5.2262]</td>\n",
       "      <td>0.0000</td>\n",
       "    </tr>\n",
       "    <tr>\n",
       "      <th>2</th>\n",
       "      <td>Br/C(=C/c1ccccc1)/C=N/NC(=O)c1ccoc1C_P32897</td>\n",
       "      <td>1</td>\n",
       "      <td>[4.8633]</td>\n",
       "      <td>0.0000</td>\n",
       "    </tr>\n",
       "    <tr>\n",
       "      <th>3</th>\n",
       "      <td>Br/C(=C\\c1ccc(cc1)F)/[N+](=O)[O-]_P09467</td>\n",
       "      <td>1</td>\n",
       "      <td>[6.1938]</td>\n",
       "      <td>0.0000</td>\n",
       "    </tr>\n",
       "    <tr>\n",
       "      <th>4</th>\n",
       "      <td>Br/C(=C\\c1ccccc1)/C=N/NC(=O)c1[nH]nc(c1)c1ccc(...</td>\n",
       "      <td>2</td>\n",
       "      <td>[5.2311, 5.0324]</td>\n",
       "      <td>0.1987</td>\n",
       "    </tr>\n",
       "    <tr>\n",
       "      <th>...</th>\n",
       "      <td>...</td>\n",
       "      <td>...</td>\n",
       "      <td>...</td>\n",
       "      <td>...</td>\n",
       "    </tr>\n",
       "    <tr>\n",
       "      <th>970854</th>\n",
       "      <td>o1nc2c(n1)cc(cc2)CCN1CCN(CC1)CCc1ccc2c(c1)non2...</td>\n",
       "      <td>1</td>\n",
       "      <td>[7.1739]</td>\n",
       "      <td>0.0000</td>\n",
       "    </tr>\n",
       "    <tr>\n",
       "      <th>970855</th>\n",
       "      <td>s1ccc(c1)c1nc(NC2Cc3c(C2)cccc3)c2c(n1)cccc2_P0...</td>\n",
       "      <td>3</td>\n",
       "      <td>[8.284, 8.0506, 8.1805]</td>\n",
       "      <td>0.2334</td>\n",
       "    </tr>\n",
       "    <tr>\n",
       "      <th>970856</th>\n",
       "      <td>s1cnc(c1)c1nc2-c(n1)ccc[nH]2_P0AE18</td>\n",
       "      <td>1</td>\n",
       "      <td>[7.1079]</td>\n",
       "      <td>0.0000</td>\n",
       "    </tr>\n",
       "    <tr>\n",
       "      <th>970857</th>\n",
       "      <td>s1nc2c(n1)c1nc([nH]c1cc2)C1CC1_P06492</td>\n",
       "      <td>1</td>\n",
       "      <td>[5.4556]</td>\n",
       "      <td>0.0000</td>\n",
       "    </tr>\n",
       "    <tr>\n",
       "      <th>970858</th>\n",
       "      <td>s1nc2c(n1)c1nc([nH]c1cc2)C1CC1_Q9Y6Q9</td>\n",
       "      <td>1</td>\n",
       "      <td>[5.9219]</td>\n",
       "      <td>0.0000</td>\n",
       "    </tr>\n",
       "  </tbody>\n",
       "</table>\n",
       "<p>970859 rows × 4 columns</p>\n",
       "</div>"
      ],
      "text/plain": [
       "                                                      UID  IC50pki  \\\n",
       "0              Br/C(=C/c1ccccc1)/C=N/NC(=O)c1cccs1_P42574        1   \n",
       "1              Br/C(=C/c1ccccc1)/C=N/NC(=O)c1cccs1_Q9BQF6        1   \n",
       "2             Br/C(=C/c1ccccc1)/C=N/NC(=O)c1ccoc1C_P32897        1   \n",
       "3                Br/C(=C\\c1ccc(cc1)F)/[N+](=O)[O-]_P09467        1   \n",
       "4       Br/C(=C\\c1ccccc1)/C=N/NC(=O)c1[nH]nc(c1)c1ccc(...        2   \n",
       "...                                                   ...      ...   \n",
       "970854  o1nc2c(n1)cc(cc2)CCN1CCN(CC1)CCc1ccc2c(c1)non2...        1   \n",
       "970855  s1ccc(c1)c1nc(NC2Cc3c(C2)cccc3)c2c(n1)cccc2_P0...        3   \n",
       "970856                s1cnc(c1)c1nc2-c(n1)ccc[nH]2_P0AE18        1   \n",
       "970857              s1nc2c(n1)c1nc([nH]c1cc2)C1CC1_P06492        1   \n",
       "970858              s1nc2c(n1)c1nc([nH]c1cc2)C1CC1_Q9Y6Q9        1   \n",
       "\n",
       "               Duplicate_Values   check  \n",
       "0                      [4.5003]  0.0000  \n",
       "1                      [5.2262]  0.0000  \n",
       "2                      [4.8633]  0.0000  \n",
       "3                      [6.1938]  0.0000  \n",
       "4              [5.2311, 5.0324]  0.1987  \n",
       "...                         ...     ...  \n",
       "970854                 [7.1739]  0.0000  \n",
       "970855  [8.284, 8.0506, 8.1805]  0.2334  \n",
       "970856                 [7.1079]  0.0000  \n",
       "970857                 [5.4556]  0.0000  \n",
       "970858                 [5.9219]  0.0000  \n",
       "\n",
       "[970859 rows x 4 columns]"
      ]
     },
     "execution_count": 22,
     "metadata": {},
     "output_type": "execute_result"
    }
   ],
   "source": [
    "#根据UID去重\n",
    "g = df_IC50.groupby(['UID'], as_index=True)\n",
    "value_list = g.apply(lambda x: x['IC50pki'].values)\n",
    "out_df = g['IC50pki'].count().reset_index()\n",
    "out_df.loc[:, 'Duplicate_Values'] = list(value_list)\n",
    "out_df.loc[:, 'check'] = out_df['Duplicate_Values'].apply(lambda x: np.ptp(x))\n",
    "out_df"
   ]
  },
  {
   "cell_type": "code",
   "execution_count": 23,
   "metadata": {},
   "outputs": [
    {
     "data": {
      "text/plain": [
       "(937272, 4)"
      ]
     },
     "execution_count": 23,
     "metadata": {},
     "output_type": "execute_result"
    }
   ],
   "source": [
    "out_df = out_df[out_df['check'] < 1.3]\n",
    "out_df.shape"
   ]
  },
  {
   "cell_type": "code",
   "execution_count": 24,
   "metadata": {},
   "outputs": [
    {
     "name": "stderr",
     "output_type": "stream",
     "text": [
      "/home/pingping/anaconda3/envs/py37/lib/python3.7/site-packages/pandas/core/indexing.py:1667: SettingWithCopyWarning: \n",
      "A value is trying to be set on a copy of a slice from a DataFrame.\n",
      "Try using .loc[row_indexer,col_indexer] = value instead\n",
      "\n",
      "See the caveats in the documentation: https://pandas.pydata.org/pandas-docs/stable/user_guide/indexing.html#returning-a-view-versus-a-copy\n",
      "  self.obj[key] = value\n"
     ]
    },
    {
     "data": {
      "text/html": [
       "<div>\n",
       "<style scoped>\n",
       "    .dataframe tbody tr th:only-of-type {\n",
       "        vertical-align: middle;\n",
       "    }\n",
       "\n",
       "    .dataframe tbody tr th {\n",
       "        vertical-align: top;\n",
       "    }\n",
       "\n",
       "    .dataframe thead th {\n",
       "        text-align: right;\n",
       "    }\n",
       "</style>\n",
       "<table border=\"1\" class=\"dataframe\">\n",
       "  <thead>\n",
       "    <tr style=\"text-align: right;\">\n",
       "      <th></th>\n",
       "      <th>UID</th>\n",
       "      <th>IC50pki</th>\n",
       "      <th>Duplicate_Values</th>\n",
       "      <th>check</th>\n",
       "      <th>REG_LABEL</th>\n",
       "    </tr>\n",
       "  </thead>\n",
       "  <tbody>\n",
       "    <tr>\n",
       "      <th>0</th>\n",
       "      <td>Br/C(=C/c1ccccc1)/C=N/NC(=O)c1cccs1_P42574</td>\n",
       "      <td>1</td>\n",
       "      <td>[4.5003]</td>\n",
       "      <td>0.0</td>\n",
       "      <td>4.5003</td>\n",
       "    </tr>\n",
       "    <tr>\n",
       "      <th>1</th>\n",
       "      <td>Br/C(=C/c1ccccc1)/C=N/NC(=O)c1cccs1_Q9BQF6</td>\n",
       "      <td>1</td>\n",
       "      <td>[5.2262]</td>\n",
       "      <td>0.0</td>\n",
       "      <td>5.2262</td>\n",
       "    </tr>\n",
       "  </tbody>\n",
       "</table>\n",
       "</div>"
      ],
      "text/plain": [
       "                                          UID  IC50pki Duplicate_Values  \\\n",
       "0  Br/C(=C/c1ccccc1)/C=N/NC(=O)c1cccs1_P42574        1         [4.5003]   \n",
       "1  Br/C(=C/c1ccccc1)/C=N/NC(=O)c1cccs1_Q9BQF6        1         [5.2262]   \n",
       "\n",
       "   check  REG_LABEL  \n",
       "0    0.0     4.5003  \n",
       "1    0.0     5.2262  "
      ]
     },
     "execution_count": 24,
     "metadata": {},
     "output_type": "execute_result"
    }
   ],
   "source": [
    "out_df.loc[:, \"REG_LABEL\"] = out_df[\"Duplicate_Values\"].apply(lambda x: np.median(x))\n",
    "out_df.head(2)"
   ]
  },
  {
   "cell_type": "code",
   "execution_count": 25,
   "metadata": {},
   "outputs": [
    {
     "data": {
      "text/plain": [
       "(936573, 5)"
      ]
     },
     "execution_count": 25,
     "metadata": {},
     "output_type": "execute_result"
    }
   ],
   "source": [
    "# 0 <= REG_LABEL <= 13\n",
    "out_df = out_df[(out_df['REG_LABEL'] >= 0)&(out_df['REG_LABEL'] <= 13)]\n",
    "out_df.shape"
   ]
  },
  {
   "cell_type": "code",
   "execution_count": 26,
   "metadata": {},
   "outputs": [
    {
     "data": {
      "text/html": [
       "<div>\n",
       "<style scoped>\n",
       "    .dataframe tbody tr th:only-of-type {\n",
       "        vertical-align: middle;\n",
       "    }\n",
       "\n",
       "    .dataframe tbody tr th {\n",
       "        vertical-align: top;\n",
       "    }\n",
       "\n",
       "    .dataframe thead th {\n",
       "        text-align: right;\n",
       "    }\n",
       "</style>\n",
       "<table border=\"1\" class=\"dataframe\">\n",
       "  <thead>\n",
       "    <tr style=\"text-align: right;\">\n",
       "      <th></th>\n",
       "      <th>UID</th>\n",
       "      <th>Duplicate_Values</th>\n",
       "      <th>REG_LABEL</th>\n",
       "    </tr>\n",
       "  </thead>\n",
       "  <tbody>\n",
       "    <tr>\n",
       "      <th>0</th>\n",
       "      <td>Br/C(=C/c1ccccc1)/C=N/NC(=O)c1cccs1_P42574</td>\n",
       "      <td>[4.5003]</td>\n",
       "      <td>4.5003</td>\n",
       "    </tr>\n",
       "    <tr>\n",
       "      <th>1</th>\n",
       "      <td>Br/C(=C/c1ccccc1)/C=N/NC(=O)c1cccs1_Q9BQF6</td>\n",
       "      <td>[5.2262]</td>\n",
       "      <td>5.2262</td>\n",
       "    </tr>\n",
       "  </tbody>\n",
       "</table>\n",
       "</div>"
      ],
      "text/plain": [
       "                                          UID Duplicate_Values  REG_LABEL\n",
       "0  Br/C(=C/c1ccccc1)/C=N/NC(=O)c1cccs1_P42574         [4.5003]     4.5003\n",
       "1  Br/C(=C/c1ccccc1)/C=N/NC(=O)c1cccs1_Q9BQF6         [5.2262]     5.2262"
      ]
     },
     "execution_count": 26,
     "metadata": {},
     "output_type": "execute_result"
    }
   ],
   "source": [
    "out_df = out_df[['UID', 'Duplicate_Values', 'REG_LABEL']]\n",
    "out_df.head(2)"
   ]
  },
  {
   "cell_type": "code",
   "execution_count": 27,
   "metadata": {},
   "outputs": [
    {
     "data": {
      "text/plain": [
       "(970859, 33)"
      ]
     },
     "execution_count": 27,
     "metadata": {},
     "output_type": "execute_result"
    }
   ],
   "source": [
    "df_IC50_ddp = df_IC50.drop_duplicates(subset='UID', keep='first')\n",
    "df_IC50_ddp.shape"
   ]
  },
  {
   "cell_type": "code",
   "execution_count": 28,
   "metadata": {},
   "outputs": [
    {
     "data": {
      "text/html": [
       "<div>\n",
       "<style scoped>\n",
       "    .dataframe tbody tr th:only-of-type {\n",
       "        vertical-align: middle;\n",
       "    }\n",
       "\n",
       "    .dataframe tbody tr th {\n",
       "        vertical-align: top;\n",
       "    }\n",
       "\n",
       "    .dataframe thead th {\n",
       "        text-align: right;\n",
       "    }\n",
       "</style>\n",
       "<table border=\"1\" class=\"dataframe\">\n",
       "  <thead>\n",
       "    <tr style=\"text-align: right;\">\n",
       "      <th></th>\n",
       "      <th>UID</th>\n",
       "      <th>Duplicate_Values</th>\n",
       "      <th>REG_LABEL</th>\n",
       "      <th>molregno</th>\n",
       "      <th>canonical_smiles</th>\n",
       "      <th>activity_id</th>\n",
       "      <th>assay_id</th>\n",
       "      <th>standard_relation</th>\n",
       "      <th>standard_value</th>\n",
       "      <th>standard_units</th>\n",
       "      <th>standard_type</th>\n",
       "      <th>molecule_chembl_id</th>\n",
       "      <th>molecule_type</th>\n",
       "      <th>description</th>\n",
       "      <th>assay_strain</th>\n",
       "      <th>assay_tissue</th>\n",
       "      <th>assay_cell_type</th>\n",
       "      <th>confidence_score</th>\n",
       "      <th>assay_chembl_id</th>\n",
       "      <th>tid</th>\n",
       "      <th>target_type</th>\n",
       "      <th>target_pref_name</th>\n",
       "      <th>target_chembl_id</th>\n",
       "      <th>organism</th>\n",
       "      <th>targcomp_id</th>\n",
       "      <th>component_id</th>\n",
       "      <th>homologue</th>\n",
       "      <th>component_type</th>\n",
       "      <th>uniprot_id</th>\n",
       "      <th>sequence</th>\n",
       "      <th>sequence_md5sum</th>\n",
       "      <th>label</th>\n",
       "      <th>COMPOUND_SMILES</th>\n",
       "      <th>INCHI_KEY</th>\n",
       "      <th>IC50pki</th>\n",
       "    </tr>\n",
       "  </thead>\n",
       "  <tbody>\n",
       "    <tr>\n",
       "      <th>0</th>\n",
       "      <td>Br/C(=C/c1ccccc1)/C=N/NC(=O)c1cccs1_P42574</td>\n",
       "      <td>[4.5003]</td>\n",
       "      <td>4.5003</td>\n",
       "      <td>1682192</td>\n",
       "      <td>O=C(N/N=C/C(Br)=C\\c1ccccc1)c1cccs1</td>\n",
       "      <td>7348218</td>\n",
       "      <td>736971</td>\n",
       "      <td>=</td>\n",
       "      <td>31600.0</td>\n",
       "      <td>nM</td>\n",
       "      <td>IC50</td>\n",
       "      <td>CHEMBL3192901</td>\n",
       "      <td>Small molecule</td>\n",
       "      <td>PUBCHEM_BIOASSAY: Dose Response confirmation o...</td>\n",
       "      <td>NaN</td>\n",
       "      <td>NaN</td>\n",
       "      <td>NaN</td>\n",
       "      <td>8</td>\n",
       "      <td>CHEMBL1738414</td>\n",
       "      <td>10131</td>\n",
       "      <td>SINGLE PROTEIN</td>\n",
       "      <td>Caspase-3</td>\n",
       "      <td>CHEMBL2334</td>\n",
       "      <td>Homo sapiens</td>\n",
       "      <td>1352.0</td>\n",
       "      <td>675.0</td>\n",
       "      <td>0.0</td>\n",
       "      <td>PROTEIN</td>\n",
       "      <td>P42574</td>\n",
       "      <td>MENTENSVDSKSIKNLEPKIIHGSESMDSGISLDNSYKMDYPEMGL...</td>\n",
       "      <td>cd9050995bb3aa9f42ca5d1eedd10b2d</td>\n",
       "      <td>1</td>\n",
       "      <td>Br/C(=C/c1ccccc1)/C=N/NC(=O)c1cccs1</td>\n",
       "      <td>XZRHAUPXEHCGFW-JXTNESPGSA-N</td>\n",
       "      <td>4.5003</td>\n",
       "    </tr>\n",
       "    <tr>\n",
       "      <th>1</th>\n",
       "      <td>Br/C(=C/c1ccccc1)/C=N/NC(=O)c1cccs1_Q9BQF6</td>\n",
       "      <td>[5.2262]</td>\n",
       "      <td>5.2262</td>\n",
       "      <td>1682192</td>\n",
       "      <td>O=C(N/N=C/C(Br)=C\\c1ccccc1)c1cccs1</td>\n",
       "      <td>5774539</td>\n",
       "      <td>737351</td>\n",
       "      <td>=</td>\n",
       "      <td>5940.0</td>\n",
       "      <td>nM</td>\n",
       "      <td>IC50</td>\n",
       "      <td>CHEMBL3192901</td>\n",
       "      <td>Small molecule</td>\n",
       "      <td>PUBCHEM_BIOASSAY: Dose Response confirmation o...</td>\n",
       "      <td>NaN</td>\n",
       "      <td>NaN</td>\n",
       "      <td>NaN</td>\n",
       "      <td>9</td>\n",
       "      <td>CHEMBL1738495</td>\n",
       "      <td>104009</td>\n",
       "      <td>SINGLE PROTEIN</td>\n",
       "      <td>Sentrin-specific protease 7</td>\n",
       "      <td>CHEMBL1741213</td>\n",
       "      <td>Homo sapiens</td>\n",
       "      <td>2069.0</td>\n",
       "      <td>5436.0</td>\n",
       "      <td>0.0</td>\n",
       "      <td>PROTEIN</td>\n",
       "      <td>Q9BQF6</td>\n",
       "      <td>MDKRKLGRRPSSSEIITEGKRKKSSSDLSEIRKMLNAKPEDVHVQS...</td>\n",
       "      <td>5fc5c39e13d1ce7d15f8fe9a374bcf57</td>\n",
       "      <td>1</td>\n",
       "      <td>Br/C(=C/c1ccccc1)/C=N/NC(=O)c1cccs1</td>\n",
       "      <td>XZRHAUPXEHCGFW-JXTNESPGSA-N</td>\n",
       "      <td>5.2262</td>\n",
       "    </tr>\n",
       "  </tbody>\n",
       "</table>\n",
       "</div>"
      ],
      "text/plain": [
       "                                          UID Duplicate_Values  REG_LABEL  \\\n",
       "0  Br/C(=C/c1ccccc1)/C=N/NC(=O)c1cccs1_P42574         [4.5003]     4.5003   \n",
       "1  Br/C(=C/c1ccccc1)/C=N/NC(=O)c1cccs1_Q9BQF6         [5.2262]     5.2262   \n",
       "\n",
       "   molregno                    canonical_smiles  activity_id  assay_id  \\\n",
       "0   1682192  O=C(N/N=C/C(Br)=C\\c1ccccc1)c1cccs1      7348218    736971   \n",
       "1   1682192  O=C(N/N=C/C(Br)=C\\c1ccccc1)c1cccs1      5774539    737351   \n",
       "\n",
       "  standard_relation  standard_value standard_units standard_type  \\\n",
       "0                 =         31600.0             nM          IC50   \n",
       "1                 =          5940.0             nM          IC50   \n",
       "\n",
       "  molecule_chembl_id   molecule_type  \\\n",
       "0      CHEMBL3192901  Small molecule   \n",
       "1      CHEMBL3192901  Small molecule   \n",
       "\n",
       "                                         description assay_strain  \\\n",
       "0  PUBCHEM_BIOASSAY: Dose Response confirmation o...          NaN   \n",
       "1  PUBCHEM_BIOASSAY: Dose Response confirmation o...          NaN   \n",
       "\n",
       "  assay_tissue assay_cell_type  confidence_score assay_chembl_id     tid  \\\n",
       "0          NaN             NaN                 8   CHEMBL1738414   10131   \n",
       "1          NaN             NaN                 9   CHEMBL1738495  104009   \n",
       "\n",
       "      target_type             target_pref_name target_chembl_id      organism  \\\n",
       "0  SINGLE PROTEIN                    Caspase-3       CHEMBL2334  Homo sapiens   \n",
       "1  SINGLE PROTEIN  Sentrin-specific protease 7    CHEMBL1741213  Homo sapiens   \n",
       "\n",
       "   targcomp_id  component_id  homologue component_type uniprot_id  \\\n",
       "0       1352.0         675.0        0.0        PROTEIN     P42574   \n",
       "1       2069.0        5436.0        0.0        PROTEIN     Q9BQF6   \n",
       "\n",
       "                                            sequence  \\\n",
       "0  MENTENSVDSKSIKNLEPKIIHGSESMDSGISLDNSYKMDYPEMGL...   \n",
       "1  MDKRKLGRRPSSSEIITEGKRKKSSSDLSEIRKMLNAKPEDVHVQS...   \n",
       "\n",
       "                    sequence_md5sum label  \\\n",
       "0  cd9050995bb3aa9f42ca5d1eedd10b2d     1   \n",
       "1  5fc5c39e13d1ce7d15f8fe9a374bcf57     1   \n",
       "\n",
       "                       COMPOUND_SMILES                    INCHI_KEY  IC50pki  \n",
       "0  Br/C(=C/c1ccccc1)/C=N/NC(=O)c1cccs1  XZRHAUPXEHCGFW-JXTNESPGSA-N   4.5003  \n",
       "1  Br/C(=C/c1ccccc1)/C=N/NC(=O)c1cccs1  XZRHAUPXEHCGFW-JXTNESPGSA-N   5.2262  "
      ]
     },
     "execution_count": 28,
     "metadata": {},
     "output_type": "execute_result"
    }
   ],
   "source": [
    "df_IC50_cleaned = pd.merge(out_df, df_IC50_ddp, how='left', on='UID')\n",
    "df_IC50_cleaned.head(2)"
   ]
  },
  {
   "cell_type": "code",
   "execution_count": 29,
   "metadata": {},
   "outputs": [
    {
     "data": {
      "text/html": [
       "<div>\n",
       "<style scoped>\n",
       "    .dataframe tbody tr th:only-of-type {\n",
       "        vertical-align: middle;\n",
       "    }\n",
       "\n",
       "    .dataframe tbody tr th {\n",
       "        vertical-align: top;\n",
       "    }\n",
       "\n",
       "    .dataframe thead th {\n",
       "        text-align: right;\n",
       "    }\n",
       "</style>\n",
       "<table border=\"1\" class=\"dataframe\">\n",
       "  <thead>\n",
       "    <tr style=\"text-align: right;\">\n",
       "      <th></th>\n",
       "      <th>UID</th>\n",
       "      <th>Duplicate_Values</th>\n",
       "      <th>REG_LABEL</th>\n",
       "      <th>molregno</th>\n",
       "      <th>canonical_smiles</th>\n",
       "      <th>activity_id</th>\n",
       "      <th>assay_id</th>\n",
       "      <th>standard_type</th>\n",
       "      <th>molecule_chembl_id</th>\n",
       "      <th>molecule_type</th>\n",
       "      <th>description</th>\n",
       "      <th>assay_strain</th>\n",
       "      <th>assay_tissue</th>\n",
       "      <th>assay_cell_type</th>\n",
       "      <th>confidence_score</th>\n",
       "      <th>assay_chembl_id</th>\n",
       "      <th>tid</th>\n",
       "      <th>target_type</th>\n",
       "      <th>target_pref_name</th>\n",
       "      <th>target_chembl_id</th>\n",
       "      <th>organism</th>\n",
       "      <th>targcomp_id</th>\n",
       "      <th>component_id</th>\n",
       "      <th>homologue</th>\n",
       "      <th>component_type</th>\n",
       "      <th>uniprot_id</th>\n",
       "      <th>sequence</th>\n",
       "      <th>sequence_md5sum</th>\n",
       "      <th>COMPOUND_SMILES</th>\n",
       "      <th>INCHI_KEY</th>\n",
       "    </tr>\n",
       "  </thead>\n",
       "  <tbody>\n",
       "    <tr>\n",
       "      <th>0</th>\n",
       "      <td>Br/C(=C/c1ccccc1)/C=N/NC(=O)c1cccs1_P42574</td>\n",
       "      <td>[4.5003]</td>\n",
       "      <td>4.5003</td>\n",
       "      <td>1682192</td>\n",
       "      <td>O=C(N/N=C/C(Br)=C\\c1ccccc1)c1cccs1</td>\n",
       "      <td>7348218</td>\n",
       "      <td>736971</td>\n",
       "      <td>IC50</td>\n",
       "      <td>CHEMBL3192901</td>\n",
       "      <td>Small molecule</td>\n",
       "      <td>PUBCHEM_BIOASSAY: Dose Response confirmation o...</td>\n",
       "      <td>NaN</td>\n",
       "      <td>NaN</td>\n",
       "      <td>NaN</td>\n",
       "      <td>8</td>\n",
       "      <td>CHEMBL1738414</td>\n",
       "      <td>10131</td>\n",
       "      <td>SINGLE PROTEIN</td>\n",
       "      <td>Caspase-3</td>\n",
       "      <td>CHEMBL2334</td>\n",
       "      <td>Homo sapiens</td>\n",
       "      <td>1352.0</td>\n",
       "      <td>675.0</td>\n",
       "      <td>0.0</td>\n",
       "      <td>PROTEIN</td>\n",
       "      <td>P42574</td>\n",
       "      <td>MENTENSVDSKSIKNLEPKIIHGSESMDSGISLDNSYKMDYPEMGL...</td>\n",
       "      <td>cd9050995bb3aa9f42ca5d1eedd10b2d</td>\n",
       "      <td>Br/C(=C/c1ccccc1)/C=N/NC(=O)c1cccs1</td>\n",
       "      <td>XZRHAUPXEHCGFW-JXTNESPGSA-N</td>\n",
       "    </tr>\n",
       "    <tr>\n",
       "      <th>1</th>\n",
       "      <td>Br/C(=C/c1ccccc1)/C=N/NC(=O)c1cccs1_Q9BQF6</td>\n",
       "      <td>[5.2262]</td>\n",
       "      <td>5.2262</td>\n",
       "      <td>1682192</td>\n",
       "      <td>O=C(N/N=C/C(Br)=C\\c1ccccc1)c1cccs1</td>\n",
       "      <td>5774539</td>\n",
       "      <td>737351</td>\n",
       "      <td>IC50</td>\n",
       "      <td>CHEMBL3192901</td>\n",
       "      <td>Small molecule</td>\n",
       "      <td>PUBCHEM_BIOASSAY: Dose Response confirmation o...</td>\n",
       "      <td>NaN</td>\n",
       "      <td>NaN</td>\n",
       "      <td>NaN</td>\n",
       "      <td>9</td>\n",
       "      <td>CHEMBL1738495</td>\n",
       "      <td>104009</td>\n",
       "      <td>SINGLE PROTEIN</td>\n",
       "      <td>Sentrin-specific protease 7</td>\n",
       "      <td>CHEMBL1741213</td>\n",
       "      <td>Homo sapiens</td>\n",
       "      <td>2069.0</td>\n",
       "      <td>5436.0</td>\n",
       "      <td>0.0</td>\n",
       "      <td>PROTEIN</td>\n",
       "      <td>Q9BQF6</td>\n",
       "      <td>MDKRKLGRRPSSSEIITEGKRKKSSSDLSEIRKMLNAKPEDVHVQS...</td>\n",
       "      <td>5fc5c39e13d1ce7d15f8fe9a374bcf57</td>\n",
       "      <td>Br/C(=C/c1ccccc1)/C=N/NC(=O)c1cccs1</td>\n",
       "      <td>XZRHAUPXEHCGFW-JXTNESPGSA-N</td>\n",
       "    </tr>\n",
       "  </tbody>\n",
       "</table>\n",
       "</div>"
      ],
      "text/plain": [
       "                                          UID Duplicate_Values  REG_LABEL  \\\n",
       "0  Br/C(=C/c1ccccc1)/C=N/NC(=O)c1cccs1_P42574         [4.5003]     4.5003   \n",
       "1  Br/C(=C/c1ccccc1)/C=N/NC(=O)c1cccs1_Q9BQF6         [5.2262]     5.2262   \n",
       "\n",
       "   molregno                    canonical_smiles  activity_id  assay_id  \\\n",
       "0   1682192  O=C(N/N=C/C(Br)=C\\c1ccccc1)c1cccs1      7348218    736971   \n",
       "1   1682192  O=C(N/N=C/C(Br)=C\\c1ccccc1)c1cccs1      5774539    737351   \n",
       "\n",
       "  standard_type molecule_chembl_id   molecule_type  \\\n",
       "0          IC50      CHEMBL3192901  Small molecule   \n",
       "1          IC50      CHEMBL3192901  Small molecule   \n",
       "\n",
       "                                         description assay_strain  \\\n",
       "0  PUBCHEM_BIOASSAY: Dose Response confirmation o...          NaN   \n",
       "1  PUBCHEM_BIOASSAY: Dose Response confirmation o...          NaN   \n",
       "\n",
       "  assay_tissue assay_cell_type  confidence_score assay_chembl_id     tid  \\\n",
       "0          NaN             NaN                 8   CHEMBL1738414   10131   \n",
       "1          NaN             NaN                 9   CHEMBL1738495  104009   \n",
       "\n",
       "      target_type             target_pref_name target_chembl_id      organism  \\\n",
       "0  SINGLE PROTEIN                    Caspase-3       CHEMBL2334  Homo sapiens   \n",
       "1  SINGLE PROTEIN  Sentrin-specific protease 7    CHEMBL1741213  Homo sapiens   \n",
       "\n",
       "   targcomp_id  component_id  homologue component_type uniprot_id  \\\n",
       "0       1352.0         675.0        0.0        PROTEIN     P42574   \n",
       "1       2069.0        5436.0        0.0        PROTEIN     Q9BQF6   \n",
       "\n",
       "                                            sequence  \\\n",
       "0  MENTENSVDSKSIKNLEPKIIHGSESMDSGISLDNSYKMDYPEMGL...   \n",
       "1  MDKRKLGRRPSSSEIITEGKRKKSSSDLSEIRKMLNAKPEDVHVQS...   \n",
       "\n",
       "                    sequence_md5sum                      COMPOUND_SMILES  \\\n",
       "0  cd9050995bb3aa9f42ca5d1eedd10b2d  Br/C(=C/c1ccccc1)/C=N/NC(=O)c1cccs1   \n",
       "1  5fc5c39e13d1ce7d15f8fe9a374bcf57  Br/C(=C/c1ccccc1)/C=N/NC(=O)c1cccs1   \n",
       "\n",
       "                     INCHI_KEY  \n",
       "0  XZRHAUPXEHCGFW-JXTNESPGSA-N  \n",
       "1  XZRHAUPXEHCGFW-JXTNESPGSA-N  "
      ]
     },
     "execution_count": 29,
     "metadata": {},
     "output_type": "execute_result"
    }
   ],
   "source": [
    "df_IC50_cleaned.drop(['standard_relation', 'standard_value', 'standard_units', 'label', 'IC50pki'], axis=1, inplace=True)\n",
    "df_IC50_cleaned.head(2)"
   ]
  },
  {
   "cell_type": "code",
   "execution_count": 30,
   "metadata": {},
   "outputs": [
    {
     "data": {
      "text/plain": [
       "(936573, 30)"
      ]
     },
     "execution_count": 30,
     "metadata": {},
     "output_type": "execute_result"
    }
   ],
   "source": [
    "df_IC50_cleaned.shape"
   ]
  },
  {
   "cell_type": "code",
   "execution_count": 31,
   "metadata": {},
   "outputs": [],
   "source": [
    "df_IC50_cleaned.rename(columns={\"uniprot_id\": \"UNIPROT_ID\", \"sequence\": \"PROTEIN_SEQUENCE\"}, inplace = True)"
   ]
  },
  {
   "cell_type": "code",
   "execution_count": 32,
   "metadata": {},
   "outputs": [],
   "source": [
    "# df_IC50_cleaned.to_csv('Chembl30_IC50_cleaned_new.csv', index=False)"
   ]
  }
 ],
 "metadata": {
  "interpreter": {
   "hash": "46276444fa01c7d0e9518d2fda251547dc9d9262b6cf0e47fac19993b8e5ba92"
  },
  "kernelspec": {
   "display_name": "Python 3.7.11 64-bit ('py37': conda)",
   "name": "python3"
  },
  "language_info": {
   "codemirror_mode": {
    "name": "ipython",
    "version": 3
   },
   "file_extension": ".py",
   "mimetype": "text/x-python",
   "name": "python",
   "nbconvert_exporter": "python",
   "pygments_lexer": "ipython3",
   "version": "3.7.11"
  },
  "orig_nbformat": 4
 },
 "nbformat": 4,
 "nbformat_minor": 2
}
